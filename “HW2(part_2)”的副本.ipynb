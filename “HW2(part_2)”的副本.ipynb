{
  "nbformat": 4,
  "nbformat_minor": 0,
  "metadata": {
    "colab": {
      "name": "“HW2(part 2)”的副本",
      "provenance": [],
      "collapsed_sections": [],
      "include_colab_link": true
    },
    "kernelspec": {
      "name": "python3",
      "display_name": "Python 3"
    }
  },
  "cells": [
    {
      "cell_type": "markdown",
      "metadata": {
        "id": "view-in-github",
        "colab_type": "text"
      },
      "source": [
        "<a href=\"https://colab.research.google.com/github/cengaiyeung/20MA573/blob/master/%E2%80%9CHW2(part_2)%E2%80%9D%E7%9A%84%E5%89%AF%E6%9C%AC.ipynb\" target=\"_parent\"><img src=\"https://colab.research.google.com/assets/colab-badge.svg\" alt=\"Open In Colab\"/></a>"
      ]
    },
    {
      "cell_type": "markdown",
      "metadata": {
        "id": "L12OMlL-L4LT",
        "colab_type": "text"
      },
      "source": [
        "**Question 1:**\n",
        "\n",
        "Suppose that we wish to approximate the first derivative $f'(x)$ of a very smooth function with an error of only $O(h^{4})$, where h is the step size. Which difference approximation could we use?\n",
        "\n",
        "(Hint: you may consider to use more than two points in the neighborhood)\n",
        "\n",
        "\n"
      ]
    },
    {
      "cell_type": "markdown",
      "metadata": {
        "id": "W9YIh73DMTnR",
        "colab_type": "text"
      },
      "source": [
        "**Answer:**\n",
        "\n",
        "First, we consider the Taylor series expansions for each of these 4 terms at $x$: $f(x+h), f(x-h), f(x+2h), f(x-2h)$. We have\n",
        "\n",
        "$$f(x+h) = f(x) + \\sum_{k = 1}^{5} \\frac{1}{k!} f^{(k)} (x)  h^{k} + O(h^{6}),$$\n",
        "\n",
        "and\n",
        "\n",
        "$$f(x-h) = f(x) + \\sum_{k = 1}^{5} \\frac{1}{k!} f^{(k)} (x)  (-h)^{k} + O(h^{6}),$$\n",
        "\n",
        "and \n",
        "\n",
        "$$f(x+2h) = f(x) + \\sum_{k = 1}^{5} \\frac{1}{k!} f^{(k)} (x)  (2h)^{k} + O(h^{6}),$$\n",
        "\n",
        "and\n",
        "\n",
        "$$f(x-2h) = f(x) + \\sum_{k = 1}^{5} \\frac{1}{k!} f^{(k)} (x)  (-2h)^{k} + O(h^{6}).$$\n",
        "\n",
        "So we have\n",
        "\n",
        "$$f(x+2h) - f(x-2h) = 4h f'(x) + \\frac{8}{3} h^{3} f^{(3)}(x) + \\frac{8}{15}h^{5} f^{(5)} (x)+ O(h^{6}),$$\n",
        "\n",
        "and \n",
        "\n",
        "$$f(x+h) - f(x-h) = 2h f'(x) + \\frac{1}{3}h^{3} f^{(3)}(x) + \\frac{1}{60} h^{5} f^{(5)}(x) + O(h^{6}).$$\n",
        "\n",
        "We don't need the term $f^{(3)} (x)$, so\n",
        "\n",
        "$$8 \\Big(f(x+h) -f(x-h) \\Big) - \\Big(f(x+2h) -f(x-2h) \\Big) = 12h f'(x) - \\frac{2}{5} h^{5} f^{(5)}(x) + O(h^{6}),$$\n",
        "\n",
        "such that\n",
        "\n",
        "$$\\frac{8 \\Big(f(x+h) -f(x-h) \\Big) - \\Big(f(x+2h) -f(x-2h) \\Big)}{12h} - f'(x) = O(h^{4})$$\n",
        "\n",
        "since f(x) is a very smooth function.\n",
        "\n",
        "So, we can use formula\n",
        "\n",
        "$$\\frac{8 \\Big(f(x+h) -f(x-h) \\Big) - \\Big(f(x+2h) -f(x-2h) \\Big)}{12h}$$\n",
        "\n",
        "to approximate the first derivative $f'(x)$, and the convergence order is 4."
      ]
    },
    {
      "cell_type": "markdown",
      "metadata": {
        "id": "TRqXiLksQ2jf",
        "colab_type": "text"
      },
      "source": [
        "Next we can use code to verify the above conclusion."
      ]
    },
    {
      "cell_type": "code",
      "metadata": {
        "id": "qK8nzBYLQ8sC",
        "colab_type": "code",
        "colab": {}
      },
      "source": [
        "import numpy as np\n",
        "import matplotlib.pyplot as plt\n",
        "from pylab import plt\n",
        "plt.style.use('seaborn')\n",
        "%matplotlib inline"
      ],
      "execution_count": 0,
      "outputs": []
    },
    {
      "cell_type": "code",
      "metadata": {
        "id": "1sFI77M7RE9m",
        "colab_type": "code",
        "colab": {}
      },
      "source": [
        "def fd(f, x, h):\n",
        "    return (8 * f(x + h) - 8 * f(x - h) - f(x + 2 * h) + f(x - 2 * h)) / h /12"
      ],
      "execution_count": 0,
      "outputs": []
    },
    {
      "cell_type": "code",
      "metadata": {
        "id": "YzL0UeWURlSr",
        "colab_type": "code",
        "outputId": "a4f475bc-c318-427c-9b89-005af3688035",
        "colab": {
          "base_uri": "https://localhost:8080/",
          "height": 265
        }
      },
      "source": [
        "h = .5 #step size\n",
        "\n",
        "x_co = np.linspace(0, 2*np.pi, 100)\n",
        "plt.plot(x_co, np.cos(x_co), label = '$cos(x)$');\n",
        "plt.plot(x_co, fd(np.sin, x_co, h), label = 'fd');\n",
        "plt.legend();"
      ],
      "execution_count": 0,
      "outputs": [
        {
          "output_type": "display_data",
          "data": {
            "image/png": "[encoded data removed]",
            "text/plain": [
              "<Figure size 432x288 with 1 Axes>"
            ]
          },
          "metadata": {
            "tags": []
          }
        }
      ]
    },
    {
      "cell_type": "code",
      "metadata": {
        "id": "mTl9Yy5uSA-o",
        "colab_type": "code",
        "outputId": "8d7bf115-d0bd-4eca-c371-b7d16cce0885",
        "colab": {
          "base_uri": "https://localhost:8080/",
          "height": 285
        }
      },
      "source": [
        "x_target = np.pi/3   #target point to be examined\n",
        "y_target = np.cos(x_target) #exact derivative value at the target point\n",
        "\n",
        "nn = np.arange(5, 11)\n",
        "hh = 1/np.power(2, nn)  #step sizes to be taken\n",
        "err = fd(np.sin, x_target, hh) - y_target  #errors corresponding to each step size\n",
        "yy = np.log2(np.abs(err))\n",
        "plt.plot(nn, yy)"
      ],
      "execution_count": 0,
      "outputs": [
        {
          "output_type": "execute_result",
          "data": {
            "text/plain": [
              "[<matplotlib.lines.Line2D at 0x7fe5d4f6b160>]"
            ]
          },
          "metadata": {
            "tags": []
          },
          "execution_count": 6
        },
        {
          "output_type": "display_data",
          "data": {
            "image/png": "[encoded data removed]",
            "text/plain": [
              "<Figure size 432x288 with 1 Axes>"
            ]
          },
          "metadata": {
            "tags": []
          }
        }
      ]
    },
    {
      "cell_type": "code",
      "metadata": {
        "id": "7I4mvUMRSLbx",
        "colab_type": "code",
        "outputId": "49639bbc-45b2-423d-8930-d39f878df01d",
        "colab": {
          "base_uri": "https://localhost:8080/",
          "height": 34
        }
      },
      "source": [
        "import scipy.stats as ss\n",
        "out = ss.linregress(nn,yy)\n",
        "print('the convergence order is ' + str(-out[0]))"
      ],
      "execution_count": 0,
      "outputs": [
        {
          "output_type": "stream",
          "text": [
            "the convergence order is 4.091196230153909\n"
          ],
          "name": "stdout"
        }
      ]
    },
    {
      "cell_type": "markdown",
      "metadata": {
        "id": "U9N8jaFwSdKb",
        "colab_type": "text"
      },
      "source": [
        "**Question 2:**\n",
        "\n",
        "Let $f: \\mathbb{R} \\mapsto \\mathbb{R}$ be a smooth even function satisfying $f(0) =0$. Our objective is to approxiamte the second order derivative $f''(0)$."
      ]
    },
    {
      "cell_type": "markdown",
      "metadata": {
        "id": "gHeq82fqT7Wo",
        "colab_type": "text"
      },
      "source": [
        "**(1)** Prove that $f'(0) = 0$."
      ]
    },
    {
      "cell_type": "markdown",
      "metadata": {
        "id": "yQAcKCFuUBal",
        "colab_type": "text"
      },
      "source": [
        "**(1) Proof:**\n",
        "\n",
        "Since f(x) is an even function, we have $f(x) = f(-x)$, for any $x \\in \\mathbb{R}$. Taking the derivative on the both side, we have\n",
        "\n",
        "$$f'(x) = - f'(-x),$$\n",
        "\n",
        "such that $f'(x)$ is an odd function. And we set $x = 0$, then $f'(0) = -f'(0)$, so $f'(0) = 0$."
      ]
    },
    {
      "cell_type": "markdown",
      "metadata": {
        "id": "q7rhRzZYVDjy",
        "colab_type": "text"
      },
      "source": [
        "**(2)** Gwan proposes the following estimator for $f''(0)$: for a step size h\n",
        "\n",
        "$$a_{h} = \\frac{2 f(h)}{h^{2}}.$$\n",
        "\n",
        "Please justify that Chenyu's estimation has its convergence $O(h^{2})$.\n",
        "\n"
      ]
    },
    {
      "cell_type": "markdown",
      "metadata": {
        "id": "GCZI0trtXMbx",
        "colab_type": "text"
      },
      "source": [
        "**(2) Solution:**\n",
        "\n",
        "Since $f(x)$ is a smooth even function and $f(0) = 0$, then we have $f'(x)$ is an odd function by the result in (1). Since $ - f'(x) = f'(-x)$, we take the derivetive on the both side, then\n",
        "\n",
        "$$f''(x) = f''(-x),$$\n",
        "\n",
        "so $f''(x)$ is an even function. By the same way, we have\n",
        "\n",
        "$$f^{(3)} (x) = - f^{(3)}(-x),$$\n",
        "\n",
        "so we know that $f^{(3)}(x)$ is an odd function with $f^{(3)}(0) = 0$.\n",
        "\n",
        "We consider the Taylor series expansions of $f(x+h)$ at $x = 0$, then we have\n",
        "\n",
        "$$f(x+h) = f(x) + f'(x) h + \\frac{1}{2}f''(x)h^{2} + \\frac{1}{3!} f^{(3)}(x)h^{3} + O(h^{4})$$\n",
        "\n",
        "when $f^{(4)} (x) \\neq 0$.\n",
        "\n",
        "Since $f(0)=0, f'(0) = 0$ and $f^{(3)}(0) = 0$, we have\n",
        "\n",
        "$$f(h) = \\frac{1}{2}f''(0) h^{2} + O(h^{4}).$$\n",
        "\n",
        "Then\n",
        "\n",
        "$$\\frac{2f(h)}{h^{2}} - f''(0) = O(h^{2})$$\n",
        "\n",
        "when $f^{(4)} (0) \\neq 0$.\n",
        "\n",
        "So, the estimation $a_{h}$ has its convergence $O(h^{2})$."
      ]
    },
    {
      "cell_type": "markdown",
      "metadata": {
        "id": "oNVfkdPSbRc3",
        "colab_type": "text"
      },
      "source": [
        "**(3)** Is there anyway to improve the above convergence to $O(h^{4})$ in the form of \n",
        "\n",
        "$$b_{h} = \\frac{c_{1} f(h) + c_{2} f(2h)}{h^{2}}$$\n",
        "\n",
        "for some constants $c_{1}$ and $c_{2}$."
      ]
    },
    {
      "cell_type": "markdown",
      "metadata": {
        "id": "GaTUjarkbR8O",
        "colab_type": "text"
      },
      "source": [
        "**Solution:**\n",
        "\n",
        "Similarly, we know that $f^{(5)}(x)$ is an odd function and $f^{(5)}(0) = 0$ and $f^{(7)}(x)$ is an odd function and $f^{(7)}(0) = 0$. We consider the Taylor series expansions of $f(x+h) $ and $f(x+2h)$ at $x = 0$ as follow:\n",
        "\n",
        "$$f(h) = f(0) + \\sum_{k = 1}^{7} \\frac{1}{k!} f^{(k)}(0) h^{k} + O(h^{8}),$$\n",
        "\n",
        "and\n",
        "\n",
        "$$f(2h) = f(0) + \\sum_{k = 1}^{7} \\frac{1}{k!} f^{(k)}(0) (2h)^{k} + O(h^{8})$$\n",
        "\n",
        "when $f^{(8)}(0) \\neq 0$.\n",
        "\n",
        "Since $f(0) = 0, f'(0) = 0, f^{(3)}(0) = 0, f^{(5)}(0) = 0$ and $f^{(7)}(0) = 0$, we have\n",
        "\n",
        "$$f(h) = \\frac{1}{2} f''(0) h^{2} + \\frac{1}{24} f^{(4)}(0) h^{4} + \\frac{1}{6!} f^{(6)}(0) h^{6} + O(h^{8})$$\n",
        "\n",
        "and\n",
        "\n",
        "$$f(2h) = 2 f''(0) h^{2} + \\frac{2}{3} f^{(4)}(0) h^{4} + \\frac{64}{6!} f^{(6)}(0) h^{6} + O(h^{8}).$$\n",
        "\n",
        "Then \n",
        "\n",
        "$$b_{h} = \\frac{c_{1} f(h) + c_{2} f(2h)}{h^{2}} \\\\\n",
        " = (\\frac{c_{1}}{2} + 2c_{2})f''(0) + (\\frac{c_{1}}{24} + \\frac{2c_{2}}{3}) f^{(4)}(0)h^{2} + (\\frac{c_{1}}{6!} + \\frac{64c_{2}}{6!}) f^{(6)}(0)h^{4} + O(h^{6}).$$\n",
        "\n",
        "To satisfy the condition that $b_{h}$ convergence to $O(h^{4})$, we need\n",
        "\n",
        "$$\n",
        "\\begin{equation}\n",
        "\\begin{cases}\n",
        "\\frac{1}{2}c_{1} + 2c_{2} = 1,  \\\\\n",
        "\\frac{1}{24}c_{1} + \\frac{2}{3}c_{2} = 0, \\\\\n",
        "\\Big(\\frac{1}{6!} c_{1}+ \\frac{64}{6!} c_{2} \\Big)f^{(6)}(0) \\neq 0.\n",
        "\\end{cases}\n",
        "\\end{equation}\n",
        "$$\n",
        "\n",
        "Then we get $c_{1} = \\frac{8}{3}$ and $c_{2} = - \\frac{1}{6}$ and $\\Big(\\frac{1}{6!} c_{1}+ \\frac{64}{6!} c_{2} \\Big) \\neq 0$. \n",
        "\n",
        "Such that when $c_{1} = \\frac{8}{3}, c_{2} = - \\frac{1}{6}$ and $f^{(6)}(0) \\neq 0$, we have $b_{h}$ convergence to $f''(0)$ with order 4.\n",
        "\n",
        "\n",
        "\n"
      ]
    },
    {
      "cell_type": "markdown",
      "metadata": {
        "id": "XfO3vIKcA6fZ",
        "colab_type": "text"
      },
      "source": [
        "**(4)** If the above function $f$ is odd and other properties remain the same, how do you want to find the $f''(0)$ efficiently?"
      ]
    },
    {
      "cell_type": "markdown",
      "metadata": {
        "id": "WJWn9BtYBSaH",
        "colab_type": "text"
      },
      "source": [
        "**Solution:**\n",
        "\n",
        "Since $f(x)$ is an odd function , we have $-f(x) = f(-x)$ for $x \\in \\mathbb{R}$. Taking derivative on the both side, we have\n",
        "\n",
        "$$f'(x) = f'(-x),$$\n",
        "\n",
        "so the $f'(x)$ is an even function. And similarly, taking derivative on the both side, we can get\n",
        "\n",
        "$$f''(x) = - f''(-x),$$\n",
        "\n",
        "such that $f''(x)$ is an odd function. We set $x = 0$, then $f''(0) = 0$."
      ]
    },
    {
      "cell_type": "code",
      "metadata": {
        "id": "IJWeeIfWDLGs",
        "colab_type": "code",
        "colab": {}
      },
      "source": [
        ""
      ],
      "execution_count": 0,
      "outputs": []
    }
  ]
}