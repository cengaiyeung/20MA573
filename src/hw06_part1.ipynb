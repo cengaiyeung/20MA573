{
  "nbformat": 4,
  "nbformat_minor": 0,
  "metadata": {
    "colab": {
      "name": "hw06_part1.ipynb",
      "provenance": [],
      "authorship_tag": "ABX9TyMc0XjxJtq7P6wxQH3xrWoO",
      "include_colab_link": true
    },
    "kernelspec": {
      "name": "python3",
      "display_name": "Python 3"
    }
  },
  "cells": [
    {
      "cell_type": "markdown",
      "metadata": {
        "id": "view-in-github",
        "colab_type": "text"
      },
      "source": [
        "<a href=\"https://colab.research.google.com/github/cengaiyeung/20MA573/blob/master/src/hw06_part1.ipynb\" target=\"_parent\"><img src=\"https://colab.research.google.com/assets/colab-badge.svg\" alt=\"Open In Colab\"/></a>"
      ]
    },
    {
      "cell_type": "markdown",
      "metadata": {
        "id": "A2385ez0oucP",
        "colab_type": "text"
      },
      "source": [
        "## **Abstract**\n",
        "\n",
        "you will learn Exact sampling of Brownian path and Geometric Brownian path\n",
        "- Exact sampling of Brownian motion path\n",
        "- Exact sampling of Geometric Brownian path\n",
        "\n",
        "### **2.1 Brownian path**\n",
        "\n",
        "Let time mesh $\\Pi$ be of the form\n",
        "\n",
        "$$\\Pi = \\{0 = t_{1} \\leq t_{2} \\leq \\dots \\leq t_{N} = T  \\}.$$\n",
        "\n",
        "We use \n",
        "\n",
        "$$<W, \\Pi> = \\{W(t): t \\in \\Pi \\}$$\n",
        "\n",
        "the projection of the Brownian path on $\\Pi$. To have a simulation of Brownian path by random walk, one can iterate\n",
        "\n",
        "$$W(t_{i+1}) = W(t_{i}) + \\sqrt{t_{i+1} - t_{i}} Z_{i+1}.$$"
      ]
    },
    {
      "cell_type": "markdown",
      "metadata": {
        "id": "XfmZtUd2pYMS",
        "colab_type": "text"
      },
      "source": [
        "#### **Example 1:**\n",
        "\n",
        "Let uniform mesh be denoted by\n",
        "\n",
        "$$\\Pi_{T, N} = \\{i T/N: i = 0, 1, \\dots, N \\} .$$\n",
        "\n",
        "- Write the pseudocode.\n",
        "- Prove that $\\hat{W}$ is an exact sampling.\n",
        "- Draw $10$ path simulations of $t \\mapsto \\frac{W(t)}{\\sqrt{2t \\log \\log t}}$ on interval $t = [100, 110]$ with mesh size $h = 0.1$."
      ]
    },
    {
      "cell_type": "markdown",
      "metadata": {
        "id": "XWyKadv4hNDh",
        "colab_type": "text"
      },
      "source": [
        "(2) \n",
        "\n",
        "Since $W_{t}$ is a Brownian motion, then we have $W_{t}$ has independent increment and $ \\forall s<t$, $W_{t} - W_{s} \\sim \\mathcal{N}(0,t-s)$, \n",
        "\n",
        "Since $Z_{i} \\sim \\mathcal{N}(0,1)$, $Z_{i}$ is  $i.i.d$,   and  $\\hat{W}(t_0) = \\hat{W}(0) = 0$, then, \n",
        "$$\\hat{W}(t_{i+1}) = \\hat{W}(t_{i}) + \\sqrt{t_{i+1} - t_{i}}Z_{i+1}$$\n",
        "\n",
        "then, we have \n",
        "\n",
        "$$\\hat{W}(t_{i+1}) - \\hat{W}(t_{i}) \\sim \\mathcal{N}(0, t_{i+1} - t_{i})$$\n",
        "\n",
        "and since $\\hat{W}(t_{i})$ has independent increment and $\\hat W(t_{0}) = 0$. Thus we have, $\\hat{W}(t_{i}) \\sim \\mathcal{N}(0, t_{i})$. \n",
        "\n",
        "So, $\\hat{W}$ is exact sampling of Brownian motion."
      ]
    },
    {
      "cell_type": "markdown",
      "metadata": {
        "id": "InbfSv5Dq989",
        "colab_type": "text"
      },
      "source": [
        "(3)\n",
        "\n"
      ]
    },
    {
      "cell_type": "markdown",
      "metadata": {
        "id": "4XmOiyeO1-eQ",
        "colab_type": "text"
      },
      "source": [
        "### **2.3 Application to Arithmetic asian option price**\n",
        "\n",
        "Arithmetic asian call option with maturity $T$ and strick price $K$ has its pay off as \n",
        "\n",
        "$$C(T) = (A(T)- K)^{+},$$\n",
        "\n",
        "where $A(T)$ is arithemtic average of the stock price at times $0 \\leq t_{1} \\leq t_{2} \\leq \\dots, t_{n}  = T$, i.e.\n",
        "\n",
        "$$A(T) = \\frac{1}{n} \\sum_{n = 1}^{n} S(t_{i}).$$\n",
        "\n",
        "The call price can be thus written by\n",
        "\n",
        "$$C_{0} = \\mathbb{E}^{\\mathbb{Q}} [e^{-rT} (A(T) - K)^{+}].$$\n",
        "\n",
        "Unlike the geometric asian option, arithmetic counterpart dose not have explict formula for its price. In this below, we shall use MC. In practice, an arithmetic asian option with a given number n of time steps takes the price average at $n+1$ points\n",
        "\n",
        "$$t_{i} = (i-1) \\frac{T}{n}, \\quad i = 1, 2, 3, \\dots, (n+1).$$\n",
        "\n",
        "#### **Example 3:**\n",
        "\n",
        "Consider Arithmatic asian option price on $BSM$ by exact sampling.\n",
        "\n",
        "- Write a pseudocode for arithmetic asian price on BSM\n",
        "- To the GBM class, add a method\n",
        "$$arasian(otype, strike, maturity, nstep, npath)$$\n",
        "for the price by exact sampling.\n",
        "- Use your code to compute Arithmetic asian option of\n",
        "$$s_{0} = 100, \\sigma = 0.20, r = 0.0475, K = 110.0, T = 1.0, otype = 1, nstep = 5.$$"
      ]
    },
    {
      "cell_type": "markdown",
      "metadata": {
        "id": "HWdepd0_3C0I",
        "colab_type": "text"
      },
      "source": [
        ""
      ]
    },
    {
      "cell_type": "code",
      "metadata": {
        "id": "f2Yoo_-hopSF",
        "colab_type": "code",
        "colab": {}
      },
      "source": [
        ""
      ],
      "execution_count": 0,
      "outputs": []
    }
  ]
}