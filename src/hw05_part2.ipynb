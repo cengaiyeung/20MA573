{
  "nbformat": 4,
  "nbformat_minor": 0,
  "metadata": {
    "colab": {
      "name": "hw05_part2.ipynb",
      "provenance": [],
      "authorship_tag": "ABX9TyNowfdblmt/6FRo1+gvcunS",
      "include_colab_link": true
    },
    "kernelspec": {
      "name": "python3",
      "display_name": "Python 3"
    }
  },
  "cells": [
    {
      "cell_type": "markdown",
      "metadata": {
        "id": "view-in-github",
        "colab_type": "text"
      },
      "source": [
        "<a href=\"https://colab.research.google.com/github/cengaiyeung/20MA573/blob/master/src/hw05_part2.ipynb\" target=\"_parent\"><img src=\"https://colab.research.google.com/assets/colab-badge.svg\" alt=\"Open In Colab\"/></a>"
      ]
    },
    {
      "cell_type": "markdown",
      "metadata": {
        "id": "cXVELrQ7TryX",
        "colab_type": "text"
      },
      "source": [
        "## **Monte Carlo for integral**\n",
        "\n",
        "### **Example 1:**\n",
        "\n",
        "Our goal is to compute, using OMC by exact sampling\n",
        "\n",
        "$$\\alpha = \\int_{0}^{1} h(x) \\, d x$$\n",
        "\n",
        "where \n",
        "\n",
        "$$h(x) = 100 I_{(0, 1/100)} (x) + 1 I_{(1/100, 1)} (x).$$\n",
        "\n",
        "The exact value shall be $\\alpha = 1.99$.\n",
        "\n",
        "- Implement the Algorithm 1 for estimator $\\hat{\\alpha}_{N}$;\n",
        "\n",
        "- Estimae $MSE(\\hat{\\alpha}_{N})$ for $N = 2^{5}, \\dots, 2^{10}$ and plot log-log chart.\n",
        "\n",
        "**Analysis:**\n",
        "\n",
        "We write\n",
        "\n",
        "$$\\alpha = \\mathbb{E}[X] = \\mathbb{E}[h(Y)],$$\n",
        "\n",
        "where $X = h(Y)$ and $Y \\sim U(0, 1)$. In other words, although $X$-sampling is not directly avaliable in python, one can use $U(0, 1)$ random variable generator to produce $Y_{i}$, then compute $h(Y_{i})$ for the samle $X_{i}$."
      ]
    },
    {
      "cell_type": "code",
      "metadata": {
        "id": "x2WQ_MElEzzL",
        "colab_type": "code",
        "colab": {}
      },
      "source": [
        "import numpy as np\n",
        "from scipy import stats\n",
        "from scipy.stats import norm\n",
        "import matplotlib.pyplot as plt"
      ],
      "execution_count": 0,
      "outputs": []
    },
    {
      "cell_type": "code",
      "metadata": {
        "id": "kQXTo1KFrRId",
        "colab_type": "code",
        "colab": {}
      },
      "source": [
        "def h(x):\n",
        "  if x > 0 and x < 0.01:\n",
        "    y = 100\n",
        "  elif x > 0.01 and x < 1:\n",
        "      y = 1\n",
        "  return y "
      ],
      "execution_count": 0,
      "outputs": []
    },
    {
      "cell_type": "code",
      "metadata": {
        "id": "mUDtZzERwP2A",
        "colab_type": "code",
        "colab": {}
      },
      "source": [
        "def mcintegral(n):\n",
        "  s = 0\n",
        "  for i in range(n):\n",
        "    x = np.random.uniform(0,1)\n",
        "    s = s + h(x)\n",
        "  return s/n "
      ],
      "execution_count": 0,
      "outputs": []
    },
    {
      "cell_type": "code",
      "metadata": {
        "id": "CmMXtpnkxSpH",
        "colab_type": "code",
        "colab": {
          "base_uri": "https://localhost:8080/",
          "height": 51
        },
        "outputId": "059a72a2-99e2-4a79-ff09-6a4c3fb1c54b"
      },
      "source": [
        "print('estimated value is:')\n",
        "print(mcintegral(10000))"
      ],
      "execution_count": 8,
      "outputs": [
        {
          "output_type": "stream",
          "text": [
            "estimated value is:\n",
            "1.7821\n"
          ],
          "name": "stdout"
        }
      ]
    },
    {
      "cell_type": "code",
      "metadata": {
        "id": "XyWaDoAhxvM8",
        "colab_type": "code",
        "colab": {}
      },
      "source": [
        "estimated_value_list = []\n"
      ],
      "execution_count": 0,
      "outputs": []
    },
    {
      "cell_type": "code",
      "metadata": {
        "id": "f6ywDSYuyVTk",
        "colab_type": "code",
        "colab": {}
      },
      "source": [
        "def mse_estimator(n,N):\n",
        "  for i in range(0,N):\n",
        "    mse1 = mcintegral(n)\n",
        "    estimated_value_list.append(mse1)\n",
        "  return np.var(estimated_value_list)"
      ],
      "execution_count": 0,
      "outputs": []
    },
    {
      "cell_type": "code",
      "metadata": {
        "id": "cQvg4MhBzlP4",
        "colab_type": "code",
        "colab": {
          "base_uri": "https://localhost:8080/",
          "height": 51
        },
        "outputId": "c5bd4400-65ce-462d-9dd1-f645e52d1ed9"
      },
      "source": [
        "x = []\n",
        "mse2 = []\n",
        "N = 1000\n",
        "for i in range(5,11):\n",
        "  x1 = 2**i\n",
        "  x.append(x1)\n",
        "  mse2.append(mse_estimator(x1,N))\n",
        "print('The estimated value for MSE is:')\n",
        "print(mse2)\n"
      ],
      "execution_count": 43,
      "outputs": [
        {
          "output_type": "stream",
          "text": [
            "The estimated value for MSE is:\n",
            "[1.9020132903814315, 1.8352035804538989, 1.5785293927635466, 1.3429252591936898, 1.1568708281382811, 1.0100156066656112]\n"
          ],
          "name": "stdout"
        }
      ]
    },
    {
      "cell_type": "code",
      "metadata": {
        "id": "xWT8zR221xI6",
        "colab_type": "code",
        "colab": {
          "base_uri": "https://localhost:8080/",
          "height": 286
        },
        "outputId": "ec0f6cbd-b771-47bf-9e1d-50c92ac1c4e1"
      },
      "source": [
        "plt.loglog(x,mse2)"
      ],
      "execution_count": 44,
      "outputs": [
        {
          "output_type": "execute_result",
          "data": {
            "text/plain": [
              "[<matplotlib.lines.Line2D at 0x7efe505adc50>]"
            ]
          },
          "metadata": {
            "tags": []
          },
          "execution_count": 44
        },
        {
          "output_type": "display_data",
          "data": {
            "image/png": "[encoded data removed]",
            "text/plain": [
              "<Figure size 432x288 with 1 Axes>"
            ]
          },
          "metadata": {
            "tags": []
          }
        }
      ]
    },
    {
      "cell_type": "code",
      "metadata": {
        "id": "5MK8CpA72Ahu",
        "colab_type": "code",
        "colab": {}
      },
      "source": [
        ""
      ],
      "execution_count": 0,
      "outputs": []
    }
  ]
}