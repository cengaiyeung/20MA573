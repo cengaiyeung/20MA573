{
  "nbformat": 4,
  "nbformat_minor": 0,
  "metadata": {
    "colab": {
      "name": "hw05_part2.ipynb",
      "provenance": [],
      "authorship_tag": "ABX9TyNZ/xzH0SzD1CkvicgoUO7j",
      "include_colab_link": true
    },
    "kernelspec": {
      "name": "python3",
      "display_name": "Python 3"
    }
  },
  "cells": [
    {
      "cell_type": "markdown",
      "metadata": {
        "id": "view-in-github",
        "colab_type": "text"
      },
      "source": [
        "<a href=\"https://colab.research.google.com/github/cengaiyeung/20MA573/blob/master/src/hw05_part2.ipynb\" target=\"_parent\"><img src=\"https://colab.research.google.com/assets/colab-badge.svg\" alt=\"Open In Colab\"/></a>"
      ]
    },
    {
      "cell_type": "markdown",
      "metadata": {
        "id": "5wxAAYnCF36I",
        "colab_type": "text"
      },
      "source": [
        "### **Example 1:**\n",
        "\n",
        " Using the Algo1, design estimator $\\hat{\\pi} (N)$ and compute $\\hat{\\pi} (10000)$."
      ]
    },
    {
      "cell_type": "code",
      "metadata": {
        "id": "60ArYC8SFff5",
        "colab_type": "code",
        "colab": {}
      },
      "source": [
        ""
      ],
      "execution_count": 0,
      "outputs": []
    }
  ]
}