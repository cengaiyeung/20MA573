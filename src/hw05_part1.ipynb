{
  "nbformat": 4,
  "nbformat_minor": 0,
  "metadata": {
    "colab": {
      "name": "hw05_part1.ipynb",
      "provenance": [],
      "authorship_tag": "ABX9TyP8S/Mz3kgB6BFFAydqbNG7",
      "include_colab_link": true
    },
    "kernelspec": {
      "name": "python3",
      "display_name": "Python 3"
    }
  },
  "cells": [
    {
      "cell_type": "markdown",
      "metadata": {
        "id": "view-in-github",
        "colab_type": "text"
      },
      "source": [
        "<a href=\"https://colab.research.google.com/github/cengaiyeung/20MA573/blob/master/src/hw05_part1.ipynb\" target=\"_parent\"><img src=\"https://colab.research.google.com/assets/colab-badge.svg\" alt=\"Open In Colab\"/></a>"
      ]
    },
    {
      "cell_type": "markdown",
      "metadata": {
        "id": "5wxAAYnCF36I",
        "colab_type": "text"
      },
      "source": [
        "### **Example 1:**\n",
        "\n",
        " Using the Algo1, design estimator $\\hat{\\pi} (N)$ and compute $\\hat{\\pi} (10000)$."
      ]
    },
    {
      "cell_type": "code",
      "metadata": {
        "id": "Se2HpbTtG56e",
        "colab_type": "code",
        "colab": {}
      },
      "source": [
        "import numpy as np\n",
        "import matplotlib.pyplot as plt\n",
        "from scipy import stats\n",
        "from scipy.stats import norm"
      ],
      "execution_count": 0,
      "outputs": []
    },
    {
      "cell_type": "code",
      "metadata": {
        "id": "60ArYC8SFff5",
        "colab_type": "code",
        "colab": {}
      },
      "source": [
        "#First, Design the estimator\n",
        "def mcpi(n):\n",
        "  n1 = 0\n",
        "  for i in range(n):\n",
        "    x = np.random.uniform(-1,1)\n",
        "    y = np.random.uniform(-1,1)\n",
        "    if x**2 + y**2 <1:\n",
        "      n1 = n1 + 1\n",
        "  vpi = 4 * n1 / n\n",
        "  return vpi\n"
      ],
      "execution_count": 0,
      "outputs": []
    },
    {
      "cell_type": "markdown",
      "metadata": {
        "id": "FFWvnHQGIhqt",
        "colab_type": "text"
      },
      "source": [
        "Next, we want to compute $\\hat{\\pi}$ (10000) by using the estimator."
      ]
    },
    {
      "cell_type": "code",
      "metadata": {
        "id": "94E4z8gxIc-v",
        "colab_type": "code",
        "outputId": "3a55422b-3767-4dd4-c639-568a04cd8425",
        "colab": {
          "base_uri": "https://localhost:8080/",
          "height": 51
        }
      },
      "source": [
        "print('The answer of example 1 is: ')\n",
        "print(mcpi(10000))"
      ],
      "execution_count": 85,
      "outputs": [
        {
          "output_type": "stream",
          "text": [
            "The answer of example 1 is: \n",
            "3.1484\n"
          ],
          "name": "stdout"
        }
      ]
    },
    {
      "cell_type": "markdown",
      "metadata": {
        "id": "DnRCIgdPJuPU",
        "colab_type": "text"
      },
      "source": [
        "### **Example 3:**\n",
        "\n",
        "Given i.i.d $\\{\\alpha_{i}: i \\in 1, 2, \\dots, N\\}$, we use\n",
        "\n",
        "$$\\bar{\\alpha}_{N} = \\frac{1}{N} \\sum_{i = 1}^{N} \\alpha_{i}$$\n",
        "\n",
        "as its estimator of the mean $\\mathbb{E} [\\alpha_{1}]$ and use\n",
        "\n",
        "$$\\beta_{N} = \\frac{1}{N} \\sum_{i = 1}^{N}(\\alpha_{i} - \\bar{\\alpha}_{N})^{2}$$\n",
        "\n",
        "as the estimator of $Var(\\alpha_{1})$. Suppose $\\alpha_{1} \\in L^{4}$, then\n",
        "\n",
        "- Prove $\\beta_{N}$ is biased.\n",
        "\n",
        "- (optional)Prove that $\\beta_{N}$ is consistent in $L^{2}$.\n",
        "\n",
        "- Can you propose an unbiased estimator?\n"
      ]
    },
    {
      "cell_type": "markdown",
      "metadata": {
        "id": "iFX52pa09H7V",
        "colab_type": "text"
      },
      "source": [
        "## **Pf 1:**\n",
        "\n",
        "What we need to show is \n",
        "\n",
        "$$\\mathbb{E} [\\beta_{N}] - Var(\\alpha_{i}) \\neq 0$$\n",
        "\n",
        "Then, we calculate $\\mathbb{E}[\\beta_{N}]$ and $Var(\\alpha_{i})$ seperately. Since  $\\{\\alpha_{i}: i \\in 1, 2, \\dots, N\\}$ is i.i.d, then we have \n",
        "\n",
        "$$\\mathbb{E} [\\beta_{N}] = \\mathbb{E}[\\frac{1}{N}\\sum_{i = 1}^{N}(\\alpha_{i} - \\bar\\alpha_{N})] = \\frac{1}{N}\\mathbb{E}[\\sum_{i = 1}^{N}(\\alpha_{i}^{2} - 2\\alpha_{i}\\bar\\alpha_{N} + \\bar\\alpha_{N}^{2} )]=\\frac{1}{N}\\mathbb{E}[\\sum_{i=1}^{N}\\alpha_{i}^{2} - 2N\\bar\\alpha_{N}^{2} + N\\bar\\alpha_{N}^{2}] = \\frac{1}{N}\\sum_{i=1}^{N} \\mathbb{E}[\\alpha_{i}^{2}] - \\mathbb{E}[\\bar\\alpha_{N}^{2}]=\\mathbb{E}[\\alpha_{1}^{2}] - \\mathbb{E}[\\bar\\alpha_{N}^{2}]$$\n",
        "\n",
        "and, \n",
        "\n",
        "$$\\mathbb{E}[\\bar\\alpha_{N}^{2}] =\\mathbb{E} [(\\frac{1}{N} \\sum_{i = 1}^{N} \\alpha_{i})^{2}] = \\frac{1}{N^{2}}\\mathbb{E}[\\sum_{i=1}^{N}\\alpha_{i}^{2}] + \\mathbb{E}[\\sum_{i\\neq j}^{N}\\alpha_{i}\\alpha_{j}] = \\frac{1}{N^{2}} \\sum_{i = 1}^{N} \\mathbb{E} [\\alpha_{i}^{2}] + \\frac{2}{N^{2}} \\sum_{i \\neq j}^{N} \\mathbb{E}[\\alpha_{i}] \\mathbb{E}[\\alpha_{j}] = \\frac{1}{N} \\mathbb{E} [\\alpha_{1}^{2}] + \\frac{1}{N^{2}}N(N-1)\\mathbb{E}[\\alpha_{1}]^2 = \\frac{1}{N} \\mathbb{E} [\\alpha_{1}^{2}] + \\frac{1}{N}(N-1)\\mathbb{E}[\\alpha_{1}]^2$$\n",
        "\n",
        "thus, \n",
        "\n",
        "$$\\mathbb{E} [\\beta_{N}] = \\mathbb{E}[\\alpha_{1}^2] - \\frac{1}{N} \\mathbb{E} [\\alpha_{1}^{2}] - \\frac{1}{N}(N-1)\\mathbb{E}[\\alpha_{1}]^2 = \\frac{N-1}{N}Var(\\alpha_{1}) \\neq 0$$\n",
        "\n",
        "then\n",
        "\n",
        "$$\\mathbb{E} [\\beta_{N}] - Var(\\alpha_{i}) = -\\frac{1}{N}Var(\\alpha_{1}) \\neq 0$$\n",
        "Thus, ww can conclude that $\\beta_{N}$ is biased."
      ]
    },
    {
      "cell_type": "markdown",
      "metadata": {
        "id": "XwfnJsJtVrb6",
        "colab_type": "text"
      },
      "source": [
        "## **Pf 3:**\n",
        "\n",
        "By question 1, we get \n",
        "$$\\mathbb{E} [\\beta_{N}] = \\frac{N-1}{N}Var(\\alpha_{1})$$\n",
        "\n",
        "Need to show\n",
        "$$\\mathbb{E} [\\hat\\beta_{N}] - Var(\\alpha_{i}) = 0$$\n",
        "\n",
        "Let $\\hat\\beta_{N} = \\frac{N}{N-1} \\beta_{N}$, then we can get\n",
        "$$\\mathbb{E} [\\hat\\beta_{N}] - Var(\\alpha_{i}) = \\mathbb{E} [\\frac{N}{N-1}\\beta_{N}] - Var(\\alpha_{i}) = 0$$\n",
        "Thus we get $\\hat\\beta_{N}$ is our unbiased estimator."
      ]
    },
    {
      "cell_type": "markdown",
      "metadata": {
        "id": "lbJshkjNJ1-8",
        "colab_type": "text"
      },
      "source": [
        "### **Example 4:**\n",
        "\n",
        "- Use $\\beta_{100}$ of exercise 3 to estimate $MSE(\\hat{\\pi}_{N})$ by repeating $\\pi_{N}$ of exercise 1. One must write both pseudocode and python code.\n",
        "\n",
        "- Repeat above estimation of $MSE(\\hat{\\pi}_{N})$ for $N = 2^{i}: i = 5, 6, \\dots, 10$ and plot log-log chart.\n"
      ]
    },
    {
      "cell_type": "code",
      "metadata": {
        "id": "uVK3qaN6JNJm",
        "colab_type": "code",
        "colab": {}
      },
      "source": [
        "mcpi_list = []"
      ],
      "execution_count": 0,
      "outputs": []
    },
    {
      "cell_type": "code",
      "metadata": {
        "id": "SSqYBiV972TH",
        "colab_type": "code",
        "colab": {}
      },
      "source": [
        "#define the function for MSE\n",
        "def MSE(n,N):\n",
        "  for i in range(0 ,N):\n",
        "    pi1 = mcpi(n)\n",
        "    mcpi_list.append(pi1)\n",
        "  return np.var(mcpi_list)"
      ],
      "execution_count": 0,
      "outputs": []
    },
    {
      "cell_type": "code",
      "metadata": {
        "id": "wRexxwyr8gKN",
        "colab_type": "code",
        "colab": {
          "base_uri": "https://localhost:8080/",
          "height": 51
        },
        "outputId": "6b5a4360-1447-45b7-b815-174a3622abf6"
      },
      "source": [
        "n = 10000\n",
        "N = 100\n",
        "print('The estimate value of mse is:')\n",
        "print(MSE(n,N))"
      ],
      "execution_count": 91,
      "outputs": [
        {
          "output_type": "stream",
          "text": [
            "The estimate value of mse is:\n",
            "0.00027418634488888876\n"
          ],
          "name": "stdout"
        }
      ]
    },
    {
      "cell_type": "code",
      "metadata": {
        "id": "e_Q3c1_m9M32",
        "colab_type": "code",
        "colab": {
          "base_uri": "https://localhost:8080/",
          "height": 51
        },
        "outputId": "0ad36b97-2e3f-4996-986a-27f1125ff49e"
      },
      "source": [
        "mse_list = []\n",
        "x = []\n",
        "for j in range(5,11):\n",
        "  x1 = 2**j\n",
        "  x.append(x1)\n",
        "  mse1 = MSE(x1,100)\n",
        "  mse_list.append(mse1)\n",
        "print('When i=5,6,7,8,9,10, the estimation of mse is:')\n",
        "print(mse_list)"
      ],
      "execution_count": 101,
      "outputs": [
        {
          "output_type": "stream",
          "text": [
            "When i=5,6,7,8,9,10, the estimation of mse is:\n",
            "[0.04676336217774509, 0.046648436618741546, 0.0460496396516672, 0.04528298673424959, 0.044460171422625955, 0.043576447393324426]\n"
          ],
          "name": "stdout"
        }
      ]
    },
    {
      "cell_type": "code",
      "metadata": {
        "id": "k3RXyUgoASEN",
        "colab_type": "code",
        "colab": {
          "base_uri": "https://localhost:8080/",
          "height": 286
        },
        "outputId": "54a31c76-bb10-4946-fd5e-8b862b00887b"
      },
      "source": [
        "plt.loglog(x,mse_list)"
      ],
      "execution_count": 102,
      "outputs": [
        {
          "output_type": "execute_result",
          "data": {
            "text/plain": [
              "[<matplotlib.lines.Line2D at 0x7f374acb65c0>]"
            ]
          },
          "metadata": {
            "tags": []
          },
          "execution_count": 102
        },
        {
          "output_type": "display_data",
          "data": {
            "image/png": "[encoded data removed]",
            "text/plain": [
              "<Figure size 432x288 with 1 Axes>"
            ]
          },
          "metadata": {
            "tags": []
          }
        }
      ]
    },
    {
      "cell_type": "code",
      "metadata": {
        "id": "lUMbb84DByUr",
        "colab_type": "code",
        "colab": {}
      },
      "source": [
        ""
      ],
      "execution_count": 0,
      "outputs": []
    }
  ]
}