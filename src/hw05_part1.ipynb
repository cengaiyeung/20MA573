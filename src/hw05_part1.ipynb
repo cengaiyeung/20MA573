{
  "nbformat": 4,
  "nbformat_minor": 0,
  "metadata": {
    "colab": {
      "name": "hw05_part2.ipynb",
      "provenance": [],
      "authorship_tag": "ABX9TyP+hI5epfuzpFj15GXxEAgi",
      "include_colab_link": true
    },
    "kernelspec": {
      "name": "python3",
      "display_name": "Python 3"
    }
  },
  "cells": [
    {
      "cell_type": "markdown",
      "metadata": {
        "id": "view-in-github",
        "colab_type": "text"
      },
      "source": [
        "<a href=\"https://colab.research.google.com/github/cengaiyeung/20MA573/blob/master/src/hw05_part1.ipynb\" target=\"_parent\"><img src=\"https://colab.research.google.com/assets/colab-badge.svg\" alt=\"Open In Colab\"/></a>"
      ]
    },
    {
      "cell_type": "markdown",
      "metadata": {
        "id": "5wxAAYnCF36I",
        "colab_type": "text"
      },
      "source": [
        "### **Example 1:**\n",
        "\n",
        " Using the Algo1, design estimator $\\hat{\\pi} (N)$ and compute $\\hat{\\pi} (10000)$."
      ]
    },
    {
      "cell_type": "code",
      "metadata": {
        "id": "Se2HpbTtG56e",
        "colab_type": "code",
        "colab": {}
      },
      "source": [
        "import numpy as np\n",
        "import matplotlib.pyplot as plt\n",
        "from scipy import stats\n",
        "from scipy.stats import norm"
      ],
      "execution_count": 0,
      "outputs": []
    },
    {
      "cell_type": "code",
      "metadata": {
        "id": "60ArYC8SFff5",
        "colab_type": "code",
        "colab": {}
      },
      "source": [
        "#First, Design the estimator\n",
        "def getpi(N):\n",
        "  n = 0\n",
        "  for i in range(N):\n",
        "    x = np.random.uniform(0,1)\n",
        "    y = np.random.uniform(0,1)\n",
        "    if x**2 + y**2 <1:\n",
        "      n +=1\n",
        "  vpi = 4 * n / N\n",
        "  return vpi\n"
      ],
      "execution_count": 0,
      "outputs": []
    },
    {
      "cell_type": "markdown",
      "metadata": {
        "id": "FFWvnHQGIhqt",
        "colab_type": "text"
      },
      "source": [
        "Next, we want to compute $\\hat{\\pi} (10000) by using the estimator."
      ]
    },
    {
      "cell_type": "code",
      "metadata": {
        "id": "94E4z8gxIc-v",
        "colab_type": "code",
        "outputId": "a817acb2-2eab-4493-dbab-39a860460717",
        "colab": {
          "base_uri": "https://localhost:8080/",
          "height": 51
        }
      },
      "source": [
        "print('The answer of example 1 is: ')\n",
        "print(getpi(10000))"
      ],
      "execution_count": 0,
      "outputs": [
        {
          "output_type": "stream",
          "text": [
            "The answer of example is: \n",
            "3.14\n"
          ],
          "name": "stdout"
        }
      ]
    },
    {
      "cell_type": "markdown",
      "metadata": {
        "id": "3VXO4BhkJjW2",
        "colab_type": "text"
      },
      "source": [
        "### **Example 2:**\n",
        "\n",
        "Consider $\\alpha_{n}$ is a sequence of estimators to the value $\\alpha$. Prove that, if $MSE(\\alpha_{n}) \\to 0$, then $\\alpha_{n}$ is $L^{2}$ consitent to $\\alpha$.\n"
      ]
    },
    {
      "cell_type": "markdown",
      "metadata": {
        "id": "61aqW4LcJ1i0",
        "colab_type": "text"
      },
      "source": [
        ""
      ]
    },
    {
      "cell_type": "markdown",
      "metadata": {
        "id": "DnRCIgdPJuPU",
        "colab_type": "text"
      },
      "source": [
        "### **Example 3:**\n",
        "\n",
        "Given i.i.d $\\{\\alpha_{i}: i \\in 1, 2, \\dots, N\\}$, we use\n",
        "\n",
        "$$\\bar{\\alpha}_{N} = \\frac{1}{N} \\sum_{i = 1}^{N} \\alpha_{i}$$\n",
        "\n",
        "as its estimator of the mean $\\mathbb{E} [\\alpha_{1}]$ and use\n",
        "\n",
        "$$\\beta_{N} = \\frac{1}{N} \\sum_{i = 1}^{N}(\\alpha_{i} - \\bar{\\alpha}_{N})^{2}$$\n",
        "\n",
        "as the estimator of $Var(\\alpha_{1})$. Suppose $\\alpha_{1} \\in L^{4}$, then\n",
        "\n",
        "- Prove $\\beta_{N}$ is biased.\n",
        "\n",
        "- Prove that $\\beta_{N}$ is consistent in $L^{2}$.\n",
        "\n",
        "- Can you propose an unbiased estimator?\n"
      ]
    },
    {
      "cell_type": "markdown",
      "metadata": {
        "id": "lbJshkjNJ1-8",
        "colab_type": "text"
      },
      "source": [
        ""
      ]
    },
    {
      "cell_type": "code",
      "metadata": {
        "id": "uVK3qaN6JNJm",
        "colab_type": "code",
        "colab": {}
      },
      "source": [
        ""
      ],
      "execution_count": 0,
      "outputs": []
    }
  ]
}