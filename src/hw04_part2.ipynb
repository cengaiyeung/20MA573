{
  "nbformat": 4,
  "nbformat_minor": 0,
  "metadata": {
    "colab": {
      "name": "hw04_part2",
      "provenance": [],
      "toc_visible": true,
      "authorship_tag": "ABX9TyOcOdhTF1g7KpW7AyzHPq+X",
      "include_colab_link": true
    },
    "kernelspec": {
      "name": "python3",
      "display_name": "Python 3"
    }
  },
  "cells": [
    {
      "cell_type": "markdown",
      "metadata": {
        "id": "view-in-github",
        "colab_type": "text"
      },
      "source": [
        "<a href=\"https://colab.research.google.com/github/cengaiyeung/20MA573/blob/master/src/hw04_part2.ipynb\" target=\"_parent\"><img src=\"https://colab.research.google.com/assets/colab-badge.svg\" alt=\"Open In Colab\"/></a>"
      ]
    },
    {
      "cell_type": "markdown",
      "metadata": {
        "id": "W20tVxG9vE-y",
        "colab_type": "text"
      },
      "source": [
        "# **Volatility calibration to BSM**"
      ]
    },
    {
      "cell_type": "markdown",
      "metadata": {
        "id": "u51t8gzUt7Jy",
        "colab_type": "text"
      },
      "source": [
        "## **Abstract**\n",
        "\n",
        "- Goal\n",
        "    - Calibrate BSM model for makert price of options\n"
      ]
    },
    {
      "cell_type": "markdown",
      "metadata": {
        "id": "Ex8hqcpFucva",
        "colab_type": "text"
      },
      "source": [
        "## **Problem**\n",
        "\n",
        "All of pricing models require a set of model parameters in order to fully define the dynamics of each model. The process of adjusting model parameters such that the model prices are compatible with market prices is called **Calibration**. \n",
        "\n",
        "Input:\n",
        "\n",
        "- market prices of several options with different strikes and maturities\n",
        "- spot price\n",
        "- interest rates\n",
        "\n",
        "Output:\n",
        "\n",
        "- Find volatility of BSM model"
      ]
    },
    {
      "cell_type": "markdown",
      "metadata": {
        "id": "ryu3OaaQuhcI",
        "colab_type": "text"
      },
      "source": [
        "## **Anal**\n",
        "\n",
        "\n",
        "Suppose\n",
        "- Model prameter $\\theta = (\\theta_1, ... \\theta_m)$ is a vector\n",
        "- Prices of $n$ instruments are aviable in the market with its market price of $i$th instrument quoted by $C_i$. \n",
        "Let's denote $C = (C_1, ..., C_n)$ as a market price vector.\n",
        "- In theory, $C_i^\\theta$ is the model price of the $i$th instrument, and they are denoted as a vector $C^\\theta = (C_1^\\theta, ...,  C^\\theta_n)$. \n",
        "\n",
        "Given a distance function $H: \\mathbb R^n \\times \\mathbb R^n \\mapsto \\mathbb R^+$, calibration is to find the parameter $\\theta^*$  which minimize the objective function $H(C^\\theta, C)$, i.e.\n",
        "$$ \\theta^* = \\arg\\min_\\theta H(C^\\theta, C).$$\n",
        "\n",
        "Commonly used distance functions for $H$ are \n",
        "- $H(x, y) = (\\sum_{i=1}^n w_i |x_i - y_i|^p)^{1/p}.$\n",
        "- $H(x, y) = (\\sum_{i=1}^n w_i | \\frac{x_i - y_i}{y_i}|^p)^{1/p}.$ If $p = 2$, $w_i =1$, then $H^2$ is called as SSRE (sum of squred relative errors)\n",
        "- $H(x, y) = (\\sum_{i=1}^n w_i |\\ln x - \\ln y|^p)^{1/p}.$\n",
        "\n",
        "In this below, we are goint to use, the first case of $H$ with $p = 2$ and $w_i = 1$ for all i's."
      ]
    },
    {
      "cell_type": "markdown",
      "metadata": {
        "id": "HeQ7VKniuo8Q",
        "colab_type": "text"
      },
      "source": [
        "# **Hw Tasks**"
      ]
    },
    {
      "cell_type": "markdown",
      "metadata": {
        "id": "-a7nRj7tuxBA",
        "colab_type": "text"
      },
      "source": [
        "## **Task-1**\n",
        "\n",
        "- Upload data from [here](https://github.com/songqsh/20s_ma573/blob/master/src/20optiondata2.dat) to your cloud platform\n",
        "- Calibration/Performance:\n",
        "  - Filter out 2-mon options and calibrate volatility using the distance function\n",
        "$$H(x, y) = (\\sum_{i=1}^n w_i |x_i - y_i|^2)^{1/2}.$$\n",
        "  - Calibrated price for option means the computed option price using calibrated volatility and other parameters given by the market. Compare the market price and calibrated price using a plot of two curves: strike vs market (calibrated) price\n",
        "- Do the same thing for the filter from 5-mon options.\n",
        "- Which calibrated volatility is bigger, 2-mon or 5-mon?\n"
      ]
    },
    {
      "cell_type": "code",
      "metadata": {
        "id": "8QYMZ9CEt6Rv",
        "colab_type": "code",
        "colab": {
          "base_uri": "https://localhost:8080/",
          "height": 152
        },
        "outputId": "9f4b61c3-ea05-40f9-a2db-0716d8de8c2c"
      },
      "source": [
        "%cd~\n",
        "\n",
        "!git clone https://github.com/cengaiyeung/20MA573.git \n",
        "pass"
      ],
      "execution_count": 1,
      "outputs": [
        {
          "output_type": "stream",
          "text": [
            "/root\n",
            "Cloning into '20MA573'...\n",
            "remote: Enumerating objects: 19, done.\u001b[K\n",
            "remote: Counting objects: 100% (19/19), done.\u001b[K\n",
            "remote: Compressing objects: 100% (19/19), done.\u001b[K\n",
            "remote: Total 216 (delta 8), reused 0 (delta 0), pack-reused 197\u001b[K\n",
            "Receiving objects: 100% (216/216), 391.14 KiB | 11.17 MiB/s, done.\n",
            "Resolving deltas: 100% (115/115), done.\n"
          ],
          "name": "stdout"
        }
      ]
    },
    {
      "cell_type": "code",
      "metadata": {
        "id": "gosKbwxOFEHr",
        "colab_type": "code",
        "colab": {
          "base_uri": "https://localhost:8080/",
          "height": 68
        },
        "outputId": "ca27089b-3987-4ef8-ddb1-2f235f7c01e5"
      },
      "source": [
        "%cd 20MA573/src00/\n",
        "%ls"
      ],
      "execution_count": 2,
      "outputs": [
        {
          "output_type": "stream",
          "text": [
            "/root/20MA573/src00\n",
            "20bsm01_test.ipynb   20european_options_class.ipynb  bsm01.py\n",
            "20bsm_formula.ipynb  20optiondata2.txt\n"
          ],
          "name": "stdout"
        }
      ]
    },
    {
      "cell_type": "code",
      "metadata": {
        "id": "lLwg1fQIFNox",
        "colab_type": "code",
        "colab": {}
      },
      "source": [
        "from bsm01 import *\n",
        "import numpy as np\n",
        "import scipy.optimize as so\n",
        "import scipy.stats as ss\n",
        "import matplotlib.pyplot as plt\n",
        "from pylab import plt\n",
        "plt.style.use('seaborn')\n",
        "%matplotlib inline"
      ],
      "execution_count": 0,
      "outputs": []
    },
    {
      "cell_type": "code",
      "metadata": {
        "id": "qcV0tbaBFXJq",
        "colab_type": "code",
        "colab": {
          "base_uri": "https://localhost:8080/",
          "height": 169
        },
        "outputId": "f3c72944-4a69-4a87-edc3-5565d12106ca"
      },
      "source": [
        "#Read four-column data\n",
        "#columns are otype, maturity, strike, option_price\n",
        "np_option_data = np.loadtxt('20optiondata2.txt', comments='#', delimiter=',')\n",
        "\n",
        "print('>>>>>>otype, maturity, strike, option_price')\n",
        "print(np_option_data)"
      ],
      "execution_count": 4,
      "outputs": [
        {
          "output_type": "stream",
          "text": [
            ">>>>>>otype, maturity, strike, option_price\n",
            "[[  1.           0.16666667  97.           5.32705461]\n",
            " [  1.           0.16666667  99.           3.86224255]\n",
            " [  1.           0.16666667 101.           2.7204371 ]\n",
            " [  1.           0.16666667 103.           2.1202793 ]\n",
            " [  1.           0.41666667  97.           7.23756307]\n",
            " [  1.           0.41666667  99.           5.95053461]\n",
            " [  1.           0.41666667 101.           5.2640122 ]\n",
            " [  1.           0.41666667 103.           4.97493422]]\n"
          ],
          "name": "stdout"
        }
      ]
    },
    {
      "cell_type": "code",
      "metadata": {
        "id": "71Blb2CxFcQA",
        "colab_type": "code",
        "colab": {}
      },
      "source": [
        "'''==============\n",
        "below defines for underlying process\n",
        "================='''\n",
        "gbm1 = Gbm(\n",
        "    init_state = 100., #market data\n",
        "    drift_ratio = .05, #market data\n",
        "    vol_ratio = .1 #initial guess\n",
        ")"
      ],
      "execution_count": 0,
      "outputs": []
    },
    {
      "cell_type": "code",
      "metadata": {
        "id": "o-IVhhPbFhPw",
        "colab_type": "code",
        "colab": {}
      },
      "source": [
        "'''====================\n",
        "create option_list from the data\n",
        "======================='''\n",
        "\n",
        "num_row = np_option_data.shape[0]\n",
        "option_list = []\n",
        "\n",
        "for i in range(num_row):\n",
        "  option1 = VanillaOption(\n",
        "      otype = np_option_data[i,0],\n",
        "      strike = np_option_data[i,2],\n",
        "      maturity = np_option_data[i,1],\n",
        "      market_price = np_option_data[i,3]\n",
        "  )   \n",
        "  option_list.append(option1)"
      ],
      "execution_count": 0,
      "outputs": []
    },
    {
      "cell_type": "code",
      "metadata": {
        "id": "XRPpvhF2FkNg",
        "colab_type": "code",
        "colab": {}
      },
      "source": [
        "'''==========\n",
        "define a method for error function\n",
        "============'''\n",
        "\n",
        "def error_function(vol, gbm, option_list):\n",
        "  gbm.vol_ratio = vol\n",
        "  error = 0\n",
        "  for i in np.arange(len(option_list)):\n",
        "    error = error + ((option_list[i]).market_price - gbm.bsm_price(option_list[i]))**2    \n",
        "  return error\n",
        "\n",
        "\n",
        "'''==========\n",
        "define a method to seek for a calibrated volatility\n",
        "============'''\n",
        "\n",
        "def bsm_calibration(gbm, option_list):\n",
        "  init_vol = .1 #initial guess\n",
        "  return so.fmin(error_function, init_vol, args = (gbm, option_list), disp = 0)[0]"
      ],
      "execution_count": 0,
      "outputs": []
    },
    {
      "cell_type": "code",
      "metadata": {
        "id": "qFIHn7r0Fnng",
        "colab_type": "code",
        "colab": {
          "base_uri": "https://localhost:8080/",
          "height": 34
        },
        "outputId": "39f414d0-9667-49bd-e43b-b682e69ec437"
      },
      "source": [
        "# Take options of 2-months maturity\n",
        "filter1 = list(filter(lambda x: x.maturity == 2/12, option_list))\n",
        "calibrated_volatility1 = bsm_calibration(gbm1, filter1)\n",
        "print('2-mon calibrated_volatility is' ,calibrated_volatility1)"
      ],
      "execution_count": 14,
      "outputs": [
        {
          "output_type": "stream",
          "text": [
            "2-mon calibrated_volatility is 0.18109375000000028\n"
          ],
          "name": "stdout"
        }
      ]
    },
    {
      "cell_type": "code",
      "metadata": {
        "id": "zTQsJlItFq0I",
        "colab_type": "code",
        "colab": {
          "base_uri": "https://localhost:8080/",
          "height": 51
        },
        "outputId": "8797d191-9b9d-466e-931e-b1a391460f7e"
      },
      "source": [
        "gbm1.vol_ratio = calibrated_volatility1\n",
        "\n",
        "calibrated_price_list1 = [gbm1.bsm_price(filter1[i]) for i in range(len(filter1))]\n",
        "print('The option price calculated from calibrated volatility is')\n",
        "print(calibrated_price_list1)"
      ],
      "execution_count": 15,
      "outputs": [
        {
          "output_type": "stream",
          "text": [
            "The option price calculated from calibrated volatility is\n",
            "[5.184221823763238, 3.9225121216534404, 2.8709333662230563, 2.0297005112870465]\n"
          ],
          "name": "stdout"
        }
      ]
    },
    {
      "cell_type": "code",
      "metadata": {
        "id": "Nk8_amGQFvgp",
        "colab_type": "code",
        "colab": {
          "base_uri": "https://localhost:8080/",
          "height": 279
        },
        "outputId": "65592a47-e0c2-429a-c7ca-abbdde2fd0ce"
      },
      "source": [
        "x = [filter1[i].strike for i in range(len(filter1))]\n",
        "y1 = [filter1[i].market_price for i in range(len(filter1))]\n",
        "plt.plot(x, y1, 'o', label='Market price')\n",
        "\n",
        "y2 = calibrated_price_list1\n",
        "plt.plot(x, y2, label = 'Calibrated price')\n",
        "\n",
        "plt.ylabel('Option price')\n",
        "plt.xlabel('Strike price of the options with 2-months maturity')\n",
        "plt.legend();"
      ],
      "execution_count": 16,
      "outputs": [
        {
          "output_type": "display_data",
          "data": {
            "image/png": "[encoded data removed]",
            "text/plain": [
              "<Figure size 432x288 with 1 Axes>"
            ]
          },
          "metadata": {
            "tags": []
          }
        }
      ]
    },
    {
      "cell_type": "code",
      "metadata": {
        "id": "6hSB7z1-Fz4o",
        "colab_type": "code",
        "colab": {
          "base_uri": "https://localhost:8080/",
          "height": 34
        },
        "outputId": "55644253-e9e6-4cf5-9eb2-18302e6e37de"
      },
      "source": [
        "# Take options of 5-months maturity\n",
        "filter2 = list(filter(lambda x: x.maturity == 5/12, option_list))\n",
        "calibrated_volatility2 = bsm_calibration(gbm1, filter2)\n",
        "print('5-mon calibrated_volatility is' ,calibrated_volatility2)"
      ],
      "execution_count": 17,
      "outputs": [
        {
          "output_type": "stream",
          "text": [
            "5-mon calibrated_volatility is 0.1839843750000003\n"
          ],
          "name": "stdout"
        }
      ]
    },
    {
      "cell_type": "code",
      "metadata": {
        "id": "cxy7_lITF2wQ",
        "colab_type": "code",
        "colab": {
          "base_uri": "https://localhost:8080/",
          "height": 51
        },
        "outputId": "022db164-61a3-48d0-9d89-79c986813c3d"
      },
      "source": [
        "gbm1.vol_ratio = calibrated_volatility2\n",
        "\n",
        "calibrated_price_list2 = [gbm1.bsm_price(filter2[i]) for i in range(len(filter2))]\n",
        "print('The option price calculated from calibrated volatility is')\n",
        "print(calibrated_price_list2)"
      ],
      "execution_count": 18,
      "outputs": [
        {
          "output_type": "stream",
          "text": [
            "The option price calculated from calibrated volatility is\n",
            "[7.540104147003916, 6.340281448569769, 5.270421573192927, 4.330492653848275]\n"
          ],
          "name": "stdout"
        }
      ]
    },
    {
      "cell_type": "code",
      "metadata": {
        "id": "jNJR1w38F6ew",
        "colab_type": "code",
        "colab": {
          "base_uri": "https://localhost:8080/",
          "height": 279
        },
        "outputId": "32a7f684-4770-45d1-ce4f-cf71a777ebf7"
      },
      "source": [
        "x = [filter2[i].strike for i in range(len(filter2))]\n",
        "y1 = [filter2[i].market_price for i in range(len(filter2))]\n",
        "plt.plot(x, y1, 'o', label='Market price')\n",
        "\n",
        "y2 = calibrated_price_list2\n",
        "plt.plot(x, y2, label = 'Calibrated price')\n",
        "\n",
        "plt.ylabel('Option price')\n",
        "plt.xlabel('Strike price of the options with 5-months maturity')\n",
        "plt.legend();"
      ],
      "execution_count": 19,
      "outputs": [
        {
          "output_type": "display_data",
          "data": {
            "image/png": "[encoded data removed]",
            "text/plain": [
              "<Figure size 432x288 with 1 Axes>"
            ]
          },
          "metadata": {
            "tags": []
          }
        }
      ]
    },
    {
      "cell_type": "markdown",
      "metadata": {
        "id": "3p21RBdKGKQT",
        "colab_type": "text"
      },
      "source": [
        "We know the calibrated volatility for 2-mon is 0.18109375000000028, 0.1839843750000003 for 5-mon calibrated volatility. So, we have observed that 5-mon is bigger."
      ]
    },
    {
      "cell_type": "code",
      "metadata": {
        "id": "kssArwv_F9Fp",
        "colab_type": "code",
        "colab": {}
      },
      "source": [
        ""
      ],
      "execution_count": 0,
      "outputs": []
    }
  ]
}