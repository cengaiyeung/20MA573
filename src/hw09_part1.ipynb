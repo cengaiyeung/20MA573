{
  "nbformat": 4,
  "nbformat_minor": 0,
  "metadata": {
    "colab": {
      "name": "Untitled8.ipynb",
      "provenance": [],
      "authorship_tag": "ABX9TyOOPizK66LsXdZM+GeLy8Hn",
      "include_colab_link": true
    },
    "kernelspec": {
      "name": "python3",
      "display_name": "Python 3"
    }
  },
  "cells": [
    {
      "cell_type": "markdown",
      "metadata": {
        "id": "view-in-github",
        "colab_type": "text"
      },
      "source": [
        "<a href=\"https://colab.research.google.com/github/cengaiyeung/20MA573/blob/master/src/hw09_part1.ipynb\" target=\"_parent\"><img src=\"https://colab.research.google.com/assets/colab-badge.svg\" alt=\"Open In Colab\"/></a>"
      ]
    },
    {
      "cell_type": "markdown",
      "metadata": {
        "id": "uVw7XG5My-nN",
        "colab_type": "text"
      },
      "source": [
        "# HW 9\n",
        "\n",
        "Consider 2-d PDE\n",
        "$$\\frac{1}{2} \\Delta v(x) - v(x) + x_{1}^2 + x_{2}^2 - x_{1} - x_{2} - \\frac{3}{2} = 0, x \\in O=(0,1)^2$$\n",
        "with its boundary data\n",
        "$$v(x) = (x_{1} - \\frac{1}{2})^2 + (x_{2} - \\frac{1}{2})^2, x \\in O.$$\n",
        "- Show that exact solution is \n",
        "$$v(x) = (x_{1} - \\frac{1}{2})^2 + (x_{2} - \\frac{1}{2})^2.$$\n",
        "- Idendify $\\gamma , \\ell ^h , p^h$ in the CFD solution given by \n",
        "$$v(x) = \\gamma \\{ \\ell ^h (x) + \\sum_{i=1}^{d} p^h (x + he_{i}|x)v(x + he_{i}) + p^h(x-he_{i}|x)v(x - he_{i}) \\}.$$\n",
        "- For $\\{ h = 2^{-i}, i = 2, 3, 4, 5 \\}$, compute CFD solution and find maxnorm of error."
      ]
    },
    {
      "cell_type": "markdown",
      "metadata": {
        "id": "YOmuT-q5wdM3",
        "colab_type": "text"
      },
      "source": [
        "- Show that exact solution is \n",
        "$$v(x) = (x_{1} - \\frac{1}{2})^2 + (x_{2} - \\frac{1}{2})^2.$$\n",
        "\n",
        "1. Pf:  \n",
        "Since $\\Delta v(x) = \\sum_{i=1}^{d} \\partial_{ii} v(x)$.  \n",
        "Then we have, \n",
        "$$\\frac{\\partial v(x)}{\\partial x_{1}} = 2x_{1} - 1$$\n",
        "$$\\frac{\\partial v(x)}{\\partial x_{2}} = 2x_{2} - 1$$\n",
        "Thus, we have,\n",
        "$$\\frac{\\partial^2 v(x)}{\\partial x_{1}^2} = \\frac{\\partial^2 v(x)}{\\partial x_{2}^2} = 2$$\n",
        "$$\\Delta v(x) = \\sum_{i=1}^{2} \\partial_{ii} v(x) = 4$$\n",
        "Thus, \n",
        "$$L.H.S = 2 - (x_{1} - \\frac{1}{2})^2 - (x_{2} - \\frac{1}{2})^2 + x_{1}^2 + x_{2}^2 - x_{1} - x_{2} - \\frac{3}{2}\\\\ = 2 - x_{1}^2  + x_{1} - x_{2}^2  + x_{2} - \\frac{1}{2} + x_{1}^2 + x_{2}^2 - x_{1} - x_{2} - \\frac{3}{2}=0$$\n",
        "Thus, the exact solution is \n",
        "$$v(x) = (x_{1} - \\frac{1}{2})^2 + (x_{2} - \\frac{1}{2})^2$$"
      ]
    },
    {
      "cell_type": "markdown",
      "metadata": {
        "id": "dXP0hce77ygY",
        "colab_type": "text"
      },
      "source": [
        "- Idendify $\\gamma , \\ell ^h , p^h$ in the CFD solution given by \n",
        "$$v(x) = \\gamma \\{ \\ell ^h (x) + \\sum_{i=1}^{d} p^h (x + he_{i}|x)v(x + he_{i}) + p^h(x-he_{i}|x)v(x - he_{i}) \\}.$$\n",
        "\n",
        "2. Pf:\n",
        "By CFD solution, recall\n",
        "$$\\partial _{i} v(x) = \\frac{v(x+he_{i}) - v(x+he_{i})}{2h}$$\n",
        "$$\\partial _{ii} v(x) = \\frac{v(x+he_{i}) -2v(x) + v(x+he_{i})}{h^2}$$\n",
        "Denote, \n",
        "$$v^{+} = v(x+he_{i}), v^{-} = v(x-he_{i}), v = v(x)$$\n",
        "Then, we have\n",
        "$$\\frac{1}{2} \\sum_{i=1}^2 \\frac{v_{i}^{+} -2v + v_{i}^{-}}{h^2} - v + x_{1}^2 + x_{2}^2 - x_{1} - x_{2} - \\frac{3}{2} = 0$$\n",
        "$$(\\frac{2}{h^2}+1)v = \\sum_{i=1}^2 v_{i}^{+}(\\frac{1}{2h^2}) + \\sum_{i=1}^2 v_{i}^{-}(\\frac{1}{2h^2}) + x_{1}^2 + x_{2}^2 - x_{1} - x_{2} - \\frac{3}{2} $$ \n",
        "$$(h^2+2)v = \\sum_{i=1}^2 v_{i}^{+}(\\frac{1}{2}) + \\sum_{i=1}^2 v_{i}^{-}(\\frac{1}{2}) + h^2(x_{1}^2 + x_{2}^2 - x_{1} - x_{2} - \\frac{3}{2}) $$\n",
        "$$(\\frac{2+h^2}{2})v = \\sum_{i=1}^2 v_{i}^{+}(\\frac{1}{4}) + \\sum_{i=1}^2 v_{i}^{-}(\\frac{1}{4}) + \\frac{h^2}{2}(x_{1}^2 + x_{2}^2 - x_{1} - x_{2} - \\frac{3}{2}) $$  \n",
        "$$v(x) = v = \\frac{2}{2+h^2} \\{ \\sum_{i=1}^2 v_{i}^{+}(\\frac{1}{4}) + \\sum_{i=1}^2 v_{i}^{-}(\\frac{1}{4}) + \\frac{h^2}{2}(x_{1}^2 + x_{2}^2 - x_{1} - x_{2} - \\frac{3}{2}) \\}$$\n",
        "Then, we get \n",
        "$$\\gamma = \\frac{2}{2+h^2}, $$\n",
        "$$\\ell ^{h}(x) = \\frac{h^2}{2}(x_{1}^2 + x_{2}^2 - x_{1} - x_{2} - \\frac{3}{2}),$$\n",
        "$$p^h(x \\pm he_{i}|x) = \\frac{1}{4}$$\n"
      ]
    },
    {
      "cell_type": "markdown",
      "metadata": {
        "id": "vmC56ChgiDj2",
        "colab_type": "text"
      },
      "source": [
        "- For $\\{ h = 2^{-i}, i = 2, 3, 4, 5 \\}$, compute CFD solution and find maxnorm of error."
      ]
    },
    {
      "cell_type": "code",
      "metadata": {
        "id": "hdmKggI1y3zK",
        "colab_type": "code",
        "colab": {}
      },
      "source": [
        "import numpy as np\n",
        "import matplotlib.pyplot as plt\n"
      ],
      "execution_count": 0,
      "outputs": []
    },
    {
      "cell_type": "code",
      "metadata": {
        "id": "eiSG1uPfqBEy",
        "colab_type": "code",
        "colab": {}
      },
      "source": [
        "def gamma(N):\n",
        "  h = 1/N\n",
        "  gamma = 2/(2+h**2)\n",
        "  return gamma"
      ],
      "execution_count": 0,
      "outputs": []
    },
    {
      "cell_type": "code",
      "metadata": {
        "id": "U-kU-fFcQypK",
        "colab_type": "code",
        "outputId": "34c952e8-95f0-474c-bfd7-2a03fcb43c54",
        "colab": {
          "base_uri": "https://localhost:8080/",
          "height": 34
        }
      },
      "source": [
        "#Test gamma\n",
        "print(\"When N = 4, the gamma is\", gamma(4))"
      ],
      "execution_count": 3,
      "outputs": [
        {
          "output_type": "stream",
          "text": [
            "When N = 4, the gamma is 0.9696969696969697\n"
          ],
          "name": "stdout"
        }
      ]
    },
    {
      "cell_type": "code",
      "metadata": {
        "id": "u6pOX1QB5W0P",
        "colab_type": "code",
        "colab": {}
      },
      "source": [
        "def l(N):\n",
        "  lh_matrix = np.zeros([N+1,N+1])\n",
        "  h = 1/N\n",
        "  for i in range(N+1):\n",
        "    for j in range(N+1):\n",
        "      if i==0 or i==N or j==0 or j==N:\n",
        "        lh_matrix[i,j]=0\n",
        "      else:\n",
        "        lh_matrix[i,j]=(h**2/2) * (((i)/N)**2 + ((j)/N)**2 - (i)/N - (j)/N - 3/2)\n",
        "  return lh_matrix\n"
      ],
      "execution_count": 0,
      "outputs": []
    },
    {
      "cell_type": "code",
      "metadata": {
        "id": "ZN0m3TckRCsC",
        "colab_type": "code",
        "outputId": "beee2f6b-d9be-4f19-f24a-118b5d419903",
        "colab": {
          "base_uri": "https://localhost:8080/",
          "height": 101
        }
      },
      "source": [
        "#Test l(N)\n",
        "print(\"When N = 4, the lh matrix is:\", l(4))"
      ],
      "execution_count": 21,
      "outputs": [
        {
          "output_type": "stream",
          "text": [
            "When N = 4, the lh matrix is: [[ 0.          0.          0.          0.          0.        ]\n",
            " [ 0.         -0.05859375 -0.06054688 -0.05859375  0.        ]\n",
            " [ 0.         -0.06054688 -0.0625     -0.06054688  0.        ]\n",
            " [ 0.         -0.05859375 -0.06054688 -0.05859375  0.        ]\n",
            " [ 0.          0.          0.          0.          0.        ]]\n"
          ],
          "name": "stdout"
        }
      ]
    },
    {
      "cell_type": "code",
      "metadata": {
        "id": "fJ_8DtYu-zbd",
        "colab_type": "code",
        "colab": {}
      },
      "source": [
        "def initial_PDE_value(N):\n",
        "  u = np.zeros([N+1,N+1])\n",
        "  for i in range(N+1):\n",
        "    for j in range(N+1):\n",
        "      if i==0 or i==N or j==0 or j==N:\n",
        "        u[i, j]=((i/N-1/2)**2 + (j/N-1/2)**2)\n",
        "      else:\n",
        "        u[i, j] = 0\n",
        "  return u"
      ],
      "execution_count": 0,
      "outputs": []
    },
    {
      "cell_type": "code",
      "metadata": {
        "id": "o_Oh2Mh1RWXc",
        "colab_type": "code",
        "outputId": "bbec70ac-eb17-488a-a581-3254afd50dc1",
        "colab": {
          "base_uri": "https://localhost:8080/",
          "height": 101
        }
      },
      "source": [
        "#Test initial PDE value\n",
        "print(\"The initial vaule of the PDE is:\", initial_PDE_value(4))"
      ],
      "execution_count": 23,
      "outputs": [
        {
          "output_type": "stream",
          "text": [
            "The initial vaule of the PDE is: [[0.5    0.3125 0.25   0.3125 0.5   ]\n",
            " [0.3125 0.     0.     0.     0.3125]\n",
            " [0.25   0.     0.     0.     0.25  ]\n",
            " [0.3125 0.     0.     0.     0.3125]\n",
            " [0.5    0.3125 0.25   0.3125 0.5   ]]\n"
          ],
          "name": "stdout"
        }
      ]
    },
    {
      "cell_type": "code",
      "metadata": {
        "id": "0ZWAt7Tc7xR5",
        "colab_type": "code",
        "colab": {}
      },
      "source": [
        "def F(N,u):\n",
        "  g = gamma(N)\n",
        "  lh = l(N)\n",
        "  h = 1/N\n",
        "  v = np.zeros([N+1,N+1])\n",
        "  for i in range(N+1):\n",
        "    for j in range(N+1):\n",
        "      if i==0 or i==N or j==0 or j==N:\n",
        "        v[i,j]=u[i,j]\n",
        "      else:\n",
        "        v[i,j]=g*(lh[i,j] + (1/4) * (u[i+1,j]+u[i,j+1]+u[i-1,j]+u[i,j-1]))\n",
        "  return v"
      ],
      "execution_count": 0,
      "outputs": []
    },
    {
      "cell_type": "code",
      "metadata": {
        "id": "-Rt6Acf1Rvxv",
        "colab_type": "code",
        "outputId": "9fdc048c-7e70-4b27-a588-37dcf838ab47",
        "colab": {
          "base_uri": "https://localhost:8080/",
          "height": 101
        }
      },
      "source": [
        "#Test interation function\n",
        "print(\"The outcome is:\", F(4, initial_PDE_value(4)))"
      ],
      "execution_count": 25,
      "outputs": [
        {
          "output_type": "stream",
          "text": [
            "The outcome is: [[ 0.5         0.3125      0.25        0.3125      0.5       ]\n",
            " [ 0.3125      0.09469697  0.00189394  0.09469697  0.3125    ]\n",
            " [ 0.25        0.00189394 -0.06060606  0.00189394  0.25      ]\n",
            " [ 0.3125      0.09469697  0.00189394  0.09469697  0.3125    ]\n",
            " [ 0.5         0.3125      0.25        0.3125      0.5       ]]\n"
          ],
          "name": "stdout"
        }
      ]
    },
    {
      "cell_type": "code",
      "metadata": {
        "id": "9Zn3VuK5FtUk",
        "colab_type": "code",
        "colab": {}
      },
      "source": [
        "# Define value iteration function\n",
        "def value_iteration(eps_hat,N):\n",
        "  v = initial_PDE_value(N)\n",
        "  flag = 1\n",
        "  n = 0\n",
        "  while flag:\n",
        "    n+=1\n",
        "    u=v\n",
        "    v=F(N,u)\n",
        "    eps=np.max(np.abs(u-v))\n",
        "    if eps<eps_hat:\n",
        "      flag=0\n",
        "  return [eps,n,v]\n"
      ],
      "execution_count": 0,
      "outputs": []
    },
    {
      "cell_type": "code",
      "metadata": {
        "id": "fN8vczGhSypE",
        "colab_type": "code",
        "outputId": "d3817fc6-5c4e-4c6f-f5fe-c51c9376e5e7",
        "colab": {
          "base_uri": "https://localhost:8080/",
          "height": 186
        }
      },
      "source": [
        "#Test value interation function\n",
        "print(\"The outcome is:\", value_iteration(0.0001, 4))"
      ],
      "execution_count": 27,
      "outputs": [
        {
          "output_type": "stream",
          "text": [
            "The outcome is: [7.453970798632081e-05, 18, array([[ 5.00000000e-01,  3.12500000e-01,  2.50000000e-01,\n",
            "         3.12500000e-01,  5.00000000e-01],\n",
            "       [ 3.12500000e-01,  1.24929845e-01,  6.24298450e-02,\n",
            "         1.24929845e-01,  3.12500000e-01],\n",
            "       [ 2.50000000e-01,  6.24298450e-02, -1.40310039e-04,\n",
            "         6.24298450e-02,  2.50000000e-01],\n",
            "       [ 3.12500000e-01,  1.24929845e-01,  6.24298450e-02,\n",
            "         1.24929845e-01,  3.12500000e-01],\n",
            "       [ 5.00000000e-01,  3.12500000e-01,  2.50000000e-01,\n",
            "         3.12500000e-01,  5.00000000e-01]])]\n"
          ],
          "name": "stdout"
        }
      ]
    },
    {
      "cell_type": "code",
      "metadata": {
        "id": "DLpxWNdsJ4hH",
        "colab_type": "code",
        "colab": {}
      },
      "source": [
        "# Define the exact solution of PDE\n",
        "def exact_PDE_value(N):\n",
        "  v_exact_value=np.zeros([N+1,N+1])\n",
        "  for i in range(N+1):\n",
        "    for j in range(N+1):\n",
        "      v_exact_value[i,j]=(i/N-1/2)**2 + (j/N-1/2)**2\n",
        "  return v_exact_value"
      ],
      "execution_count": 0,
      "outputs": []
    },
    {
      "cell_type": "code",
      "metadata": {
        "id": "lW5Ec13LTy01",
        "colab_type": "code",
        "outputId": "911afbe0-8b91-428e-b3ef-b562b4817d61",
        "colab": {
          "base_uri": "https://localhost:8080/",
          "height": 101
        }
      },
      "source": [
        "#Test exact solution of PDE\n",
        "print(\"The outcome is:\" , exact_PDE_value(4))"
      ],
      "execution_count": 29,
      "outputs": [
        {
          "output_type": "stream",
          "text": [
            "The outcome is: [[0.5    0.3125 0.25   0.3125 0.5   ]\n",
            " [0.3125 0.125  0.0625 0.125  0.3125]\n",
            " [0.25   0.0625 0.     0.0625 0.25  ]\n",
            " [0.3125 0.125  0.0625 0.125  0.3125]\n",
            " [0.5    0.3125 0.25   0.3125 0.5   ]]\n"
          ],
          "name": "stdout"
        }
      ]
    },
    {
      "cell_type": "code",
      "metadata": {
        "id": "IQ7ZDlNGLBnv",
        "colab_type": "code",
        "outputId": "584ea91e-7cd4-46e8-a377-9cab761cb15a",
        "colab": {
          "base_uri": "https://localhost:8080/",
          "height": 84
        }
      },
      "source": [
        "for i in range(2,6):\n",
        "  error = np.max(np.abs(value_iteration(0.0001,2**i)[2]-exact_PDE_value(2**i)))\n",
        "  print(\"When h=\",2**i,\", the maxnorm of error is:\", error)"
      ],
      "execution_count": 31,
      "outputs": [
        {
          "output_type": "stream",
          "text": [
            "When h= 4 , the maxnorm of error is: 0.00014031003856245498\n",
            "When h= 8 , the maxnorm of error is: 0.0009194811677614096\n",
            "When h= 16 , the maxnorm of error is: 0.004347504602398692\n",
            "When h= 32 , the maxnorm of error is: 0.01860312268833323\n"
          ],
          "name": "stdout"
        }
      ]
    },
    {
      "cell_type": "code",
      "metadata": {
        "id": "ezScFO8X7Cp7",
        "colab_type": "code",
        "colab": {}
      },
      "source": [
        ""
      ],
      "execution_count": 0,
      "outputs": []
    }
  ]
}