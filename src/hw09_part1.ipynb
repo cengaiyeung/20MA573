{
  "nbformat": 4,
  "nbformat_minor": 0,
  "metadata": {
    "colab": {
      "name": "Untitled8.ipynb",
      "provenance": [],
      "authorship_tag": "ABX9TyNlvg17jtYMxPpzAq5OGDUF",
      "include_colab_link": true
    },
    "kernelspec": {
      "name": "python3",
      "display_name": "Python 3"
    }
  },
  "cells": [
    {
      "cell_type": "markdown",
      "metadata": {
        "id": "view-in-github",
        "colab_type": "text"
      },
      "source": [
        "<a href=\"https://colab.research.google.com/github/cengaiyeung/20MA573/blob/master/src/hw09_part1.ipynb\" target=\"_parent\"><img src=\"https://colab.research.google.com/assets/colab-badge.svg\" alt=\"Open In Colab\"/></a>"
      ]
    },
    {
      "cell_type": "markdown",
      "metadata": {
        "id": "uVw7XG5My-nN",
        "colab_type": "text"
      },
      "source": [
        "# HW 9\n",
        "\n",
        "Consider 2-d PDE\n",
        "$$\\frac{1}{2} \\Delta v(x) - v(x) + x_{1}^2 + x_{2}^2 - x_{1} - x_{2} - \\frac{3}{2} = 0, x \\in O=(0,1)^2$$\n",
        "with its boundary data\n",
        "$$v(x) = (x_{1} - \\frac{1}{2})^2 + (x_{2} - \\frac{1}{2})^2, x \\in O.$$\n",
        "- Show that exact solution is \n",
        "$$v(x) = (x_{1} - \\frac{1}{2})^2 + (x_{2} - \\frac{1}{2})^2.$$\n",
        "- Idendify $\\gamma , \\ell ^h , p^h$ in the CFD solution given by \n",
        "$$v(x) = \\gamma \\{ \\ell ^h (x) + \\sum_{i=1}^{d} p^h (x + he_{i}|x)v(x + he_{i}) + p^h(x-he_{i}|x)v(x - he_{i}) \\}.$$\n",
        "- For $\\{ h = 2^{-i}, i = 2, 3, 4, 5 \\}$, compute CFD solution and find maxnorm of error."
      ]
    },
    {
      "cell_type": "markdown",
      "metadata": {
        "id": "YOmuT-q5wdM3",
        "colab_type": "text"
      },
      "source": [
        "- Show that exact solution is \n",
        "$$v(x) = (x_{1} - \\frac{1}{2})^2 + (x_{2} - \\frac{1}{2})^2.$$\n",
        "\n",
        "1. Pf:  \n",
        "Since $\\Delta v(x) = \\sum_{i=1}^{d} \\partial_{ii} v(x)$.  \n",
        "Then we have, \n",
        "$$\\frac{\\partial v(x)}{\\partial x_{1}} = 2x_{1} - 1$$\n",
        "$$\\frac{\\partial v(x)}{\\partial x_{2}} = 2x_{2} - 1$$\n",
        "Thus, we have,\n",
        "$$\\frac{\\partial^2 v(x)}{\\partial x_{1}^2} = \\frac{\\partial^2 v(x)}{\\partial x_{2}^2} = 2$$\n",
        "$$\\Delta v(x) = \\sum_{i=1}^{2} \\partial_{ii} v(x) = 4$$\n",
        "Thus, \n",
        "$$L.H.S = 2 - (x_{1} - \\frac{1}{2})^2 - (x_{2} - \\frac{1}{2})^2 + x_{1}^2 + x_{2}^2 - x_{1} - x_{2} - \\frac{3}{2}\\\\ = 2 - x_{1}^2  + x_{1} - x_{2}^2  + x_{2} - \\frac{1}{2} + x_{1}^2 + x_{2}^2 - x_{1} - x_{2} - \\frac{3}{2}=0$$\n",
        "Thus, the exact solution is \n",
        "$$v(x) = (x_{1} - \\frac{1}{2})^2 + (x_{2} - \\frac{1}{2})^2$$"
      ]
    },
    {
      "cell_type": "markdown",
      "metadata": {
        "id": "dXP0hce77ygY",
        "colab_type": "text"
      },
      "source": [
        "- Idendify $\\gamma , \\ell ^h , p^h$ in the CFD solution given by \n",
        "$$v(x) = \\gamma \\{ \\ell ^h (x) + \\sum_{i=1}^{d} p^h (x + he_{i}|x)v(x + he_{i}) + p^h(x-he_{i}|x)v(x - he_{i}) \\}.$$\n",
        "\n",
        "2. Pf:\n",
        "By CFD solution, recall\n",
        "$$\\partial _{i} v(x) = \\frac{v(x+he_{i}) - v(x+he_{i})}{2h}$$\n",
        "$$\\partial _{ii} v(x) = \\frac{v(x+he_{i}) -2v(x) + v(x+he_{i})}{h^2}$$\n",
        "Denote, \n",
        "$$v^{+} = v(x+he_{i}), v^{-} = v(x-he_{i}), v = v(x)$$\n",
        "Then, we have\n",
        "$$\\frac{1}{2} \\sum_{i=1}^2 \\frac{v_{i}^{+} -2v + v_{i}^{-}}{h^2} - v + x_{1}^2 + x_{2}^2 - x_{1} - x_{2} - \\frac{3}{2} = 0$$\n",
        "$$(\\frac{2}{h^2}+1)v = \\sum_{i=1}^2 v_{i}^{+}(\\frac{1}{2h^2}) + \\sum_{i=1}^2 v_{i}^{-}(\\frac{1}{2h^2}) + x_{1}^2 + x_{2}^2 - x_{1} - x_{2} - \\frac{3}{2} $$ \n",
        "$$(h^2+2)v = \\sum_{i=1}^2 v_{i}^{+}(\\frac{1}{2}) + \\sum_{i=1}^2 v_{i}^{-}(\\frac{1}{2}) + h^2(x_{1}^2 + x_{2}^2 - x_{1} - x_{2} - \\frac{3}{2}) $$\n",
        "$$(\\frac{2+h^2}{2})v = \\sum_{i=1}^2 v_{i}^{+}(\\frac{1}{4}) + \\sum_{i=1}^2 v_{i}^{-}(\\frac{1}{4}) + \\frac{h^2}{2}(x_{1}^2 + x_{2}^2 - x_{1} - x_{2} - \\frac{3}{2}) $$  \n",
        "$$v(x) = v = \\frac{2}{2+h^2} \\{ \\sum_{i=1}^2 v_{i}^{+}(\\frac{1}{4}) + \\sum_{i=1}^2 v_{i}^{-}(\\frac{1}{4}) + \\frac{h^2}{2}(x_{1}^2 + x_{2}^2 - x_{1} - x_{2} - \\frac{3}{2}) \\}$$\n",
        "Then, we get \n",
        "$$\\gamma = \\frac{2}{2+h^2}, $$\n",
        "$$\\ell ^{h}(x) = \\frac{h^2}{2}(x_{1}^2 + x_{2}^2 - x_{1} - x_{2} - \\frac{3}{2}),$$\n",
        "$$p^h(x \\pm he_{i}|x) = \\frac{1}{4}$$\n"
      ]
    },
    {
      "cell_type": "markdown",
      "metadata": {
        "id": "vmC56ChgiDj2",
        "colab_type": "text"
      },
      "source": [
        "- For $\\{ h = 2^{-i}, i = 2, 3, 4, 5 \\}$, compute CFD solution and find maxnorm of error."
      ]
    },
    {
      "cell_type": "code",
      "metadata": {
        "id": "hdmKggI1y3zK",
        "colab_type": "code",
        "colab": {}
      },
      "source": [
        ""
      ],
      "execution_count": 0,
      "outputs": []
    }
  ]
}