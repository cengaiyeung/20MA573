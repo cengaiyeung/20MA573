{
  "nbformat": 4,
  "nbformat_minor": 0,
  "metadata": {
    "colab": {
      "name": "hw03_part2.ipynb",
      "provenance": [],
      "authorship_tag": "ABX9TyPprmujFFk45k2qPZKufiFE",
      "include_colab_link": true
    },
    "kernelspec": {
      "name": "python3",
      "display_name": "Python 3"
    }
  },
  "cells": [
    {
      "cell_type": "markdown",
      "metadata": {
        "id": "view-in-github",
        "colab_type": "text"
      },
      "source": [
        "<a href=\"https://colab.research.google.com/github/cengaiyeung/20MA573/blob/master/src/hw03_part2.ipynb\" target=\"_parent\"><img src=\"https://colab.research.google.com/assets/colab-badge.svg\" alt=\"Open In Colab\"/></a>"
      ]
    },
    {
      "cell_type": "markdown",
      "metadata": {
        "id": "Ktr53WzTAte8",
        "colab_type": "text"
      },
      "source": [
        "Consider an european option with\n",
        "- call type\n",
        "- strike = 110\n",
        "- maturity = T\n",
        "underlying a Gbm stock with\n",
        "- initial: 100\n",
        "- interest rate: 4.75%\n",
        "- vol ratio: $\\sigma$\n",
        "\n",
        "We denote this bsm price by $f(\\sigma, T)$.\n",
        "\n",
        "- Let $\\sigma = 20\\%$ fixed. plot $T \\mapsto f(0.2, T)$ when $T$ is ranging over $(0.5, 2)$.\n",
        "\n",
        "- Let $T = 1$ fixed. plot $\\sigma \\mapsto f(\\sigma, 1)$ when $\\sigma$ is ranging over $(.05, 0.5)$\n",
        "\n",
        "- Describe your observations. Do you think the same behavior is also true for put?\n",
        "\n",
        "- Could you prove your observations?"
      ]
    },
    {
      "cell_type": "markdown",
      "metadata": {
        "id": "zsLr5Y1AC951",
        "colab_type": "text"
      },
      "source": [
        "##Let $\\sigma = 20\\%$ fixed. plot $T \\mapsto f(0.2, T)$ when $T$ is ranging over $(0.5, 2)$."
      ]
    },
    {
      "cell_type": "code",
      "metadata": {
        "id": "I2QnzzSQ_aQT",
        "colab_type": "code",
        "colab": {}
      },
      "source": [
        "class VanillaOption:\n",
        "    def __init__(\n",
        "        self,\n",
        "        otype = 1, # 1: 'call'\n",
        "                  # -1: 'put'\n",
        "        strike = 110.,\n",
        "        maturity = 1.,\n",
        "        market_price = 10.):\n",
        "      self.otype = otype\n",
        "      self.strike = strike\n",
        "      self.maturity = maturity\n",
        "      self.market_price = market_price #this will be used for calibration\n",
        "      \n",
        "        \n",
        "    def payoff(self, s): #s: excercise price\n",
        "      otype = self.otype\n",
        "      k = self.strike\n",
        "      maturity = self.maturity\n",
        "      return max([0, (s - k)*otype])"
      ],
      "execution_count": 0,
      "outputs": []
    },
    {
      "cell_type": "code",
      "metadata": {
        "id": "42P1lXIeFqLN",
        "colab_type": "code",
        "colab": {}
      },
      "source": [
        "import numpy as np\n",
        "import scipy.stats as ss"
      ],
      "execution_count": 0,
      "outputs": []
    },
    {
      "cell_type": "code",
      "metadata": {
        "id": "nwDEik54Fv0z",
        "colab_type": "code",
        "colab": {}
      },
      "source": [
        "class Gbm:\n",
        "    def __init__(self,\n",
        "                 init_state = 100.,\n",
        "                 drift_ratio = .0475,\n",
        "                 vol_ratio = .2\n",
        "                ):\n",
        "        self.init_state = init_state\n",
        "        self.drift_ratio = drift_ratio\n",
        "        self.vol_ratio = vol_ratio"
      ],
      "execution_count": 0,
      "outputs": []
    },
    {
      "cell_type": "code",
      "metadata": {
        "id": "K_ok_RNjF9dK",
        "colab_type": "code",
        "colab": {}
      },
      "source": [
        "def bsm_price(self, vanilla_option):\n",
        "    s0 = self.init_state\n",
        "    sigma = self.vol_ratio\n",
        "    r = self.drift_ratio\n",
        "    \n",
        "    otype = vanilla_option.otype\n",
        "    k = vanilla_option.strike\n",
        "    maturity = vanilla_option.maturity\n",
        "    \n",
        "    d1 = (np.log(s0 / k) + (r + 0.5 * sigma ** 2) \n",
        "          * maturity) / (sigma * np.sqrt(maturity))\n",
        "    d2 = d1 - sigma * np.sqrt(maturity)\n",
        "    \n",
        "    return (otype * s0 * ss.norm.cdf(otype * d1) #line break needs parenthesis\n",
        "            - otype * np.exp(-r * maturity) * k * ss.norm.cdf(otype * d2))\n",
        "\n",
        "Gbm.bsm_price = bsm_price"
      ],
      "execution_count": 0,
      "outputs": []
    },
    {
      "cell_type": "code",
      "metadata": {
        "id": "CfIpzGeHGDoE",
        "colab_type": "code",
        "colab": {}
      },
      "source": [
        "import matplotlib.pyplot as plt"
      ],
      "execution_count": 0,
      "outputs": []
    },
    {
      "cell_type": "code",
      "metadata": {
        "id": "Vk_spO2jGOoq",
        "colab_type": "code",
        "colab": {}
      },
      "source": [
        "gbm1 = Gbm(init_state = 100,#initial:100\n",
        "           drift_ratio = .0475,#interest rate: 4.75%\n",
        "           vol_ratio = 0.2#volatility fixed at 20%\n",
        "              )\n",
        "option1 = VanillaOption(\n",
        "    otype = 1,#call option\n",
        "    strike = 110.,#strike: 110\n",
        ")"
      ],
      "execution_count": 0,
      "outputs": []
    },
    {
      "cell_type": "code",
      "metadata": {
        "id": "F0QnSUEbNalx",
        "colab_type": "code",
        "outputId": "1b867388-435b-4b30-feb1-2fbba571f57b",
        "colab": {
          "base_uri": "https://localhost:8080/",
          "height": 265
        }
      },
      "source": [
        "option1.maturity = np.arange(0.5, 2.01, 0.01)\n",
        "plt.plot(option1.maturity, gbm1.bsm_price(option1))\n",
        "plt.show()"
      ],
      "execution_count": 8,
      "outputs": [
        {
          "output_type": "display_data",
          "data": {
            "image/png": "[encoded data removed]",
            "text/plain": [
              "<Figure size 432x288 with 1 Axes>"
            ]
          },
          "metadata": {
            "tags": []
          }
        }
      ]
    },
    {
      "cell_type": "markdown",
      "metadata": {
        "id": "ftO3_7aHWINU",
        "colab_type": "text"
      },
      "source": [
        "We observed that for fixed market volatility, the price of a calloption increases as maturity increases.  "
      ]
    },
    {
      "cell_type": "markdown",
      "metadata": {
        "id": "ITGi8EUhWmqL",
        "colab_type": "text"
      },
      "source": [
        "##Let $T = 1$ fixed. plot $\\sigma \\mapsto f(\\sigma, 1)$ when $\\sigma$ is ranging over $(.05, 0.5)$"
      ]
    },
    {
      "cell_type": "code",
      "metadata": {
        "id": "RnwDITKsNdOH",
        "colab_type": "code",
        "colab": {}
      },
      "source": [
        "gbm2 = Gbm(init_state = 100,#initial:100\n",
        "           drift_ratio = .0475,#interest rate: 4.75%\n",
        "              )\n",
        "option2 = VanillaOption(\n",
        "    otype = 1,#call option\n",
        "    strike = 110.,#strike: 110\n",
        "    maturity = 1#maturity fixed at 1\n",
        ")"
      ],
      "execution_count": 0,
      "outputs": []
    },
    {
      "cell_type": "code",
      "metadata": {
        "id": "dcr0kSFaOoYq",
        "colab_type": "code",
        "outputId": "cb3e87f1-9028-4df0-8a33-bceebbebec9b",
        "colab": {
          "base_uri": "https://localhost:8080/",
          "height": 265
        }
      },
      "source": [
        "gbm2.vol_ratio = np.arange(0.05, 0.51, 0.01)\n",
        "plt.plot(gbm2.vol_ratio, gbm2.bsm_price(option2))\n",
        "plt.show()"
      ],
      "execution_count": 10,
      "outputs": [
        {
          "output_type": "display_data",
          "data": {
            "image/png": "[encoded data removed]",
            "text/plain": [
              "<Figure size 432x288 with 1 Axes>"
            ]
          },
          "metadata": {
            "tags": []
          }
        }
      ]
    },
    {
      "cell_type": "markdown",
      "metadata": {
        "id": "EIIG6bvpPtWc",
        "colab_type": "text"
      },
      "source": [
        "We observe that for fixed option maturity, the price for the call option increases when the market volatility increases."
      ]
    },
    {
      "cell_type": "markdown",
      "metadata": {
        "id": "EPFaKL83XL8s",
        "colab_type": "text"
      },
      "source": [
        "##Describe your observations. Do you think the same behavior is also true for put?"
      ]
    },
    {
      "cell_type": "code",
      "metadata": {
        "id": "W3R4Tr1VOqb1",
        "colab_type": "code",
        "colab": {}
      },
      "source": [
        "option3 = VanillaOption(\n",
        "    otype = -1,#put option\n",
        "    strike = 110.,#strike: 110\n",
        ")"
      ],
      "execution_count": 0,
      "outputs": []
    },
    {
      "cell_type": "code",
      "metadata": {
        "id": "hSee-L1-P2U1",
        "colab_type": "code",
        "outputId": "ca658090-19b6-4de5-e7e6-c163cd971d4a",
        "colab": {
          "base_uri": "https://localhost:8080/",
          "height": 265
        }
      },
      "source": [
        "option3.maturity = np.arange(0.5, 2.01, 0.01)\n",
        "plt.plot(option3.maturity, gbm1.bsm_price(option3))\n",
        "plt.show()"
      ],
      "execution_count": 12,
      "outputs": [
        {
          "output_type": "display_data",
          "data": {
            "image/png": "[encoded data removed]",
            "text/plain": [
              "<Figure size 432x288 with 1 Axes>"
            ]
          },
          "metadata": {
            "tags": []
          }
        }
      ]
    },
    {
      "cell_type": "code",
      "metadata": {
        "id": "I46EvuiUP5nV",
        "colab_type": "code",
        "colab": {}
      },
      "source": [
        "option4 = VanillaOption(\n",
        "    otype = -1,#put option\n",
        "    strike = 110.,#strike: 110\n",
        "    maturity = 1#maturity fixed at 1\n",
        ")"
      ],
      "execution_count": 0,
      "outputs": []
    },
    {
      "cell_type": "code",
      "metadata": {
        "id": "yB2_ZGrkP8d1",
        "colab_type": "code",
        "outputId": "01493f59-aaf7-49cd-e707-46fc27f92051",
        "colab": {
          "base_uri": "https://localhost:8080/",
          "height": 265
        }
      },
      "source": [
        "gbm2.vol_ratio = np.arange(0.05, 0.51, 0.01)\n",
        "plt.plot(gbm2.vol_ratio, gbm2.bsm_price(option4))\n",
        "plt.show()"
      ],
      "execution_count": 20,
      "outputs": [
        {
          "output_type": "display_data",
          "data": {
            "image/png": "[encoded data removed]",
            "text/plain": [
              "<Figure size 432x288 with 1 Axes>"
            ]
          },
          "metadata": {
            "tags": []
          }
        }
      ]
    },
    {
      "cell_type": "code",
      "metadata": {
        "id": "5NTqemr6lqvX",
        "colab_type": "code",
        "colab": {
          "base_uri": "https://localhost:8080/",
          "height": 265
        },
        "outputId": "19c52f33-8359-40c8-8e9f-77f211f812d9"
      },
      "source": [
        "## If we change the interval of maturity T, we have a different observation \n",
        "option3.maturity = np.arange(2.0,3.01, 0.01)\n",
        "plt.plot(option3.maturity, gbm1.bsm_price(option3))\n",
        "plt.show()"
      ],
      "execution_count": 18,
      "outputs": [
        {
          "output_type": "display_data",
          "data": {
            "image/png": "[encoded data removed]",
            "text/plain": [
              "<Figure size 432x288 with 1 Axes>"
            ]
          },
          "metadata": {
            "tags": []
          }
        }
      ]
    },
    {
      "cell_type": "markdown",
      "metadata": {
        "id": "KVedaxDuQIfE",
        "colab_type": "text"
      },
      "source": [
        "#Conclusion and guess\n",
        "\n",
        "According to the plot, we can conclude that under fix $\\sigma$ but not fix $T$, it is true that we have same behavior for put option.  \n",
        "\n"
      ]
    },
    {
      "cell_type": "markdown",
      "metadata": {
        "id": "R-K-T0a6kZKb",
        "colab_type": "text"
      },
      "source": [
        "##Could you prove your observations?"
      ]
    },
    {
      "cell_type": "markdown",
      "metadata": {
        "id": "CYdbMlpKkv_d",
        "colab_type": "text"
      },
      "source": [
        "#Proof\n",
        "\n",
        "Recall the BSM formula, we have\n",
        "\n",
        "(1) $$C_0=S_0\\phi(d_1)-Ke^{-rT}\\phi(d_2)$$\n",
        "\n",
        "(2)$$P_0=Ke^{-rT}\\phi(-d_2)-S_0\\phi(-d_1)$$\n",
        "\n",
        "(3)$$d_1=\\frac{(r+\\frac{1}{2}\\sigma^2)T-ln(\\frac{K}{S_0})}{\\sigma\\sqrt{T}}$$\n",
        "\n",
        "(4)$$d_2=\\frac{(r-\\frac{1}{2}\\sigma^2)T-ln(\\frac{K}{S_0})}{\\sigma\\sqrt{T}}=d_1-\\sigma\\sqrt{T}$$\n",
        "\n",
        "(5)$$C_0-P_0=S_0-e^{-rT}K$$\n",
        "\n",
        "For call option, we take partial derivative of $C_{0}$ with respect to $\\sigma$\n",
        "\n",
        "$$\\frac{\\delta C_0}{\\delta\\sigma}=S_0\\phi'(d_1)\\frac{\\delta d_1}{\\delta\\sigma}-Ke^{-rT}\\phi'(d_2)(\\frac{\\delta d_1}{\\delta\\sigma}-\\sqrt{T})$$\n",
        "\n",
        "$$=(S_0\\phi'(d_1)\\frac{\\delta d_1}{\\delta\\sigma}-Ke^{-rT}\\phi'(d_2)\\frac{\\delta d_1}{\\delta\\sigma})+Ke^{-rT}\\phi'(d_2)\\sqrt{T}$$\n",
        "\n",
        "and,\n",
        "\n",
        "$$\\phi'(d_1)=\\frac{\\delta}{\\delta d_1}\\int_{-\\infty}^{d_1}{\\frac{1}{\\sqrt{2\\pi}}e^{-\\frac{x^2}{2}}}dx=\\frac{1}{\\sqrt{2\\pi}}e^{-\\frac{d_1^2}{2}}$$\n",
        "\n",
        "$$\\phi'(d_2)=\\frac{\\delta}{\\delta d_2}\\int_{-\\infty}^{d_2}{\\frac{1}{\\sqrt{2\\pi}}e^{-\\frac{x^2}{2}}}dx=\\frac{1}{\\sqrt{2\\pi}}e^{-\\frac{d_2^2}{2}}$$\n",
        "\n",
        "then, we have\n",
        "\n",
        "$$S_0\\phi'(d_1)\\frac{\\delta d_1}{\\delta\\sigma}-Ke^{-rT}\\phi'(d_2)\\frac{\\delta d_1}{\\delta\\sigma}=\\frac{\\delta d_1}{\\delta\\sigma}(S_0\\frac{1}{\\sqrt{2\\pi}}e^{-\\frac{d_1^2}{2}}-Ke^{-rT}\\frac{1}{\\sqrt{2\\pi}}e^{-\\frac{(d_1-\\sigma\\sqrt{T})^2}{2}})$$\n",
        "\n",
        "$$=\\frac{\\delta d_1}{\\delta\\sigma}(S_0\\frac{1}{\\sqrt{2\\pi}}e^{-\\frac{d_1^2}{2}}-Ke^{-rT}\\frac{1}{\\sqrt{2\\pi}}e^{-\\frac{d_1^2}{2}+d_1\\sigma\\sqrt{T}-\\frac{\\sigma^2T}{2}})$$\n",
        "\n",
        "$$=\\frac{\\delta d_1}{\\delta\\sigma}(S_0\\frac{1}{\\sqrt{2\\pi}}e^{-\\frac{d_1^2}{2}}-Ke^{-rT-\\frac{d_1^2}{2}+d_1\\sigma\\sqrt{T}-\\frac{\\sigma^2T}{2}}\\frac{1}{\\sqrt{2\\pi}})$$\n",
        "\n",
        "In the exponent of $Ke^{-rT-\\frac{d_1^2}{2}+d_1\\sigma\\sqrt{T}-\\frac{\\sigma^2T}{2}}\\frac{1}{\\sqrt{2\\pi}}$, pluging equation (3) into the equation then we get:\n",
        "\n",
        "$$-rT-\\frac{d_1^2}{2}+d_1\\sigma\\sqrt{T}-\\frac{\\sigma^2T}{2}$$\n",
        "\n",
        "$$=-rT-\\frac{d_1^2}{2}+\\frac{(r+\\frac{1}{2}\\sigma^2)T-ln(\\frac{K}{S_0})}{\\sigma\\sqrt{T}}\\sigma\\sqrt{T}-\\frac{\\sigma^2T}{2}$$\n",
        "\n",
        "$$=-rT-\\frac{d_1^2}{2}+(r+\\frac{1}{2}\\sigma^2)T-ln(\\frac{K}{S_0})-\\frac{\\sigma^2T}{2}$$\n",
        "\n",
        "$$=-\\frac{d_1^2}{2}-ln(\\frac{K}{S_0})$$\n",
        "\n",
        "Thus the term simplifies to \n",
        "\n",
        "$$Ke^{-rT-\\frac{d_1^2}{2}+d_1\\sigma\\sqrt{T}-\\frac{\\sigma^2T}{2}}\\frac{1}{\\sqrt{2\\pi}}=Ke^{-\\frac{d_1^2}{2}-ln(\\frac{K}{S_0})}\\frac{1}{\\sqrt{2\\pi}}=S_0e^{-\\frac{d_1^2}{2}}\\frac{1}{\\sqrt{2\\pi}}$$\n",
        "\n",
        "So we have\n",
        "\n",
        "$$S_0\\phi'(d_1)=Ke^{-rT}\\phi'(d_2)$$\n",
        "\n",
        "Then, \n",
        "\n",
        "$$\\frac{\\delta C_0}{\\delta\\sigma}=Ke^{-rT}\\phi'(d_2)\\sqrt{T}=S_0\\phi'(d_1)\\sqrt{T}$$\n",
        "\n",
        "since $T>0$,\n",
        "\n",
        "thus we have\n",
        "\n",
        "$$\\frac{\\delta C_0}{\\delta\\sigma} > 0$$\n",
        "\n",
        "Then, we take partial derivative of equation (5), we have\n",
        "\n",
        "$$\\frac{\\delta C_0}{\\delta\\sigma}-\\frac{\\delta P_0}{\\delta\\sigma}=0$$\n",
        "\n",
        "which means\n",
        "\n",
        "$$\\frac{\\delta C_0}{\\delta\\sigma}=\\frac{\\delta P_0}{\\delta\\sigma}>0$$\n",
        "\n",
        "\n",
        "Therefore when volatility increases, the prices of option increase. \n"
      ]
    }
  ]
}