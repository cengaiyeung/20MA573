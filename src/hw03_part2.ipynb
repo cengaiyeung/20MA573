{
  "nbformat": 4,
  "nbformat_minor": 0,
  "metadata": {
    "colab": {
      "name": "hw03_part2.ipynb",
      "provenance": [],
      "authorship_tag": "ABX9TyO4nJfcpiZ7V9xSfYwhYlyb",
      "include_colab_link": true
    },
    "kernelspec": {
      "name": "python3",
      "display_name": "Python 3"
    }
  },
  "cells": [
    {
      "cell_type": "markdown",
      "metadata": {
        "id": "view-in-github",
        "colab_type": "text"
      },
      "source": [
        "<a href=\"https://colab.research.google.com/github/cengaiyeung/20MA573/blob/master/src/hw03_part2.ipynb\" target=\"_parent\"><img src=\"https://colab.research.google.com/assets/colab-badge.svg\" alt=\"Open In Colab\"/></a>"
      ]
    },
    {
      "cell_type": "markdown",
      "metadata": {
        "id": "Ktr53WzTAte8",
        "colab_type": "text"
      },
      "source": [
        "Consider an european option with\n",
        "- call type\n",
        "- strike = 110\n",
        "- maturity = T\n",
        "underlying a Gbm stock with\n",
        "- initial: 100\n",
        "- interest rate: 4.75%\n",
        "- vol ratio: $\\sigma$\n",
        "\n",
        "We denote this bsm price by $f(\\sigma, T)$.\n",
        "\n",
        "- Let $\\sigma = 20\\%$ fixed. plot $T \\mapsto f(0.2, T)$ when $T$ is ranging over $(0.5, 2)$.\n",
        "\n",
        "- Let $T = 1$ fixed. plot $\\sigma \\mapsto f(\\sigma, 1)$ when $\\sigma$ is ranging over $(.05, 0.5)$\n",
        "\n",
        "- Describe your observations. Do you think the same behavior is also true for put?\n",
        "\n",
        "- Could you prove your observations?"
      ]
    },
    {
      "cell_type": "markdown",
      "metadata": {
        "id": "zsLr5Y1AC951",
        "colab_type": "text"
      },
      "source": [
        "##__Answer__\n",
        "- Let $\\sigma = 20\\%$ fixed. plot $T \\mapsto f(0.2, T)$ when $T$ is ranging over $(0.5, 2)$."
      ]
    },
    {
      "cell_type": "code",
      "metadata": {
        "id": "I2QnzzSQ_aQT",
        "colab_type": "code",
        "colab": {}
      },
      "source": [
        "class VanillaOption:\n",
        "    def __init__(\n",
        "        self,\n",
        "        otype = 1, # 1: 'call'\n",
        "                  # -1: 'put'\n",
        "        strike = 110.,\n",
        "        maturity = 1.,\n",
        "        market_price = 10.):\n",
        "      self.otype = otype\n",
        "      self.strike = strike\n",
        "      self.maturity = maturity\n",
        "      self.market_price = market_price #this will be used for calibration\n",
        "      \n",
        "        \n",
        "    def payoff(self, s): #s: excercise price\n",
        "      otype = self.otype\n",
        "      k = self.strike\n",
        "      maturity = self.maturity\n",
        "      return max([0, (s - k)*otype])"
      ],
      "execution_count": 0,
      "outputs": []
    },
    {
      "cell_type": "code",
      "metadata": {
        "id": "42P1lXIeFqLN",
        "colab_type": "code",
        "colab": {}
      },
      "source": [
        "import numpy as np\n",
        "import scipy.stats as ss"
      ],
      "execution_count": 0,
      "outputs": []
    },
    {
      "cell_type": "code",
      "metadata": {
        "id": "nwDEik54Fv0z",
        "colab_type": "code",
        "colab": {}
      },
      "source": [
        "class Gbm:\n",
        "    def __init__(self,\n",
        "                 init_state = 100.,\n",
        "                 drift_ratio = .0475,\n",
        "                 vol_ratio = .2\n",
        "                ):\n",
        "        self.init_state = init_state\n",
        "        self.drift_ratio = drift_ratio\n",
        "        self.vol_ratio = vol_ratio"
      ],
      "execution_count": 0,
      "outputs": []
    },
    {
      "cell_type": "code",
      "metadata": {
        "id": "K_ok_RNjF9dK",
        "colab_type": "code",
        "colab": {}
      },
      "source": [
        "def bsm_price(self, vanilla_option):\n",
        "    s0 = self.init_state\n",
        "    sigma = self.vol_ratio\n",
        "    r = self.drift_ratio\n",
        "    \n",
        "    otype = vanilla_option.otype\n",
        "    k = vanilla_option.strike\n",
        "    maturity = vanilla_option.maturity\n",
        "    \n",
        "    d1 = (np.log(s0 / k) + (r + 0.5 * sigma ** 2) \n",
        "          * maturity) / (sigma * np.sqrt(maturity))\n",
        "    d2 = d1 - sigma * np.sqrt(maturity)\n",
        "    \n",
        "    return (otype * s0 * ss.norm.cdf(otype * d1) #line break needs parenthesis\n",
        "            - otype * np.exp(-r * maturity) * k * ss.norm.cdf(otype * d2))\n",
        "\n",
        "Gbm.bsm_price = bsm_price"
      ],
      "execution_count": 0,
      "outputs": []
    },
    {
      "cell_type": "code",
      "metadata": {
        "id": "CfIpzGeHGDoE",
        "colab_type": "code",
        "colab": {}
      },
      "source": [
        "import matplotlib.pyplot as plt"
      ],
      "execution_count": 0,
      "outputs": []
    },
    {
      "cell_type": "code",
      "metadata": {
        "id": "Vk_spO2jGOoq",
        "colab_type": "code",
        "colab": {}
      },
      "source": [
        "gbm1 = Gbm(init_state = 100,#initial:100\n",
        "           drift_ratio = .0475,#interest rate: 4.75%\n",
        "           vol_ratio = 0.2#volatility fixed at 20%\n",
        "              )\n",
        "option1 = VanillaOption(\n",
        "    otype = 1,#call option\n",
        "    strike = 110.,#strike: 110\n",
        ")"
      ],
      "execution_count": 0,
      "outputs": []
    },
    {
      "cell_type": "code",
      "metadata": {
        "id": "F0QnSUEbNalx",
        "colab_type": "code",
        "colab": {
          "base_uri": "https://localhost:8080/",
          "height": 265
        },
        "outputId": "f25799a4-0983-40c9-a164-6e546a5c12ab"
      },
      "source": [
        "option1.maturity = np.arange(0.5, 2.01, 0.01)\n",
        "plt.plot(option1.maturity, gbm1.bsm_price(option1))\n",
        "plt.show()"
      ],
      "execution_count": 29,
      "outputs": [
        {
          "output_type": "display_data",
          "data": {
            "image/png": "[encoded data removed]",
            "text/plain": [
              "<Figure size 432x288 with 1 Axes>"
            ]
          },
          "metadata": {
            "tags": []
          }
        }
      ]
    },
    {
      "cell_type": "markdown",
      "metadata": {
        "id": "ftO3_7aHWINU",
        "colab_type": "text"
      },
      "source": [
        "We observed that for fixed market volatility, the price of a calloption increases as maturity increases.  "
      ]
    },
    {
      "cell_type": "markdown",
      "metadata": {
        "id": "ITGi8EUhWmqL",
        "colab_type": "text"
      },
      "source": [
        "- Let $T = 1$ fixed. plot $\\sigma \\mapsto f(\\sigma, 1)$ when $\\sigma$ is ranging over $(.05, 0.5)$"
      ]
    },
    {
      "cell_type": "code",
      "metadata": {
        "id": "RnwDITKsNdOH",
        "colab_type": "code",
        "colab": {}
      },
      "source": [
        "gbm2 = Gbm(init_state = 100,#initial:100\n",
        "           drift_ratio = .0475,#interest rate: 4.75%\n",
        "              )\n",
        "option2 = VanillaOption(\n",
        "    otype = 1,#call option\n",
        "    strike = 110.,#strike: 110\n",
        "    maturity = 1#maturity fixed at 1\n",
        ")"
      ],
      "execution_count": 0,
      "outputs": []
    },
    {
      "cell_type": "code",
      "metadata": {
        "id": "dcr0kSFaOoYq",
        "colab_type": "code",
        "colab": {
          "base_uri": "https://localhost:8080/",
          "height": 265
        },
        "outputId": "cde3888f-2c95-4dc6-ba5a-94b3c5243013"
      },
      "source": [
        "gbm2.vol_ratio = np.arange(0.05, 0.51, 0.01)\n",
        "plt.plot(gbm2.vol_ratio, gbm2.bsm_price(option2))\n",
        "plt.show()"
      ],
      "execution_count": 31,
      "outputs": [
        {
          "output_type": "display_data",
          "data": {
            "image/png": "[encoded data removed]",
            "text/plain": [
              "<Figure size 432x288 with 1 Axes>"
            ]
          },
          "metadata": {
            "tags": []
          }
        }
      ]
    },
    {
      "cell_type": "markdown",
      "metadata": {
        "id": "EIIG6bvpPtWc",
        "colab_type": "text"
      },
      "source": [
        "We observe that for fixed option maturity, the price for the call option increases when the market volatility increases."
      ]
    },
    {
      "cell_type": "markdown",
      "metadata": {
        "id": "EPFaKL83XL8s",
        "colab_type": "text"
      },
      "source": [
        "- Describe your observations. Do you think the same behavior is also true for put?"
      ]
    },
    {
      "cell_type": "code",
      "metadata": {
        "id": "W3R4Tr1VOqb1",
        "colab_type": "code",
        "colab": {}
      },
      "source": [
        "option3 = VanillaOption(\n",
        "    otype = -1,#put option\n",
        "    strike = 110.,#strike: 110\n",
        ")"
      ],
      "execution_count": 0,
      "outputs": []
    },
    {
      "cell_type": "code",
      "metadata": {
        "id": "hSee-L1-P2U1",
        "colab_type": "code",
        "colab": {
          "base_uri": "https://localhost:8080/",
          "height": 265
        },
        "outputId": "75324ce3-bad2-49db-8e85-c8c7412e13d4"
      },
      "source": [
        "option3.maturity = np.arange(0.5, 2.01, 0.01)\n",
        "plt.plot(option3.maturity, gbm1.bsm_price(option3))\n",
        "plt.show()"
      ],
      "execution_count": 33,
      "outputs": [
        {
          "output_type": "display_data",
          "data": {
            "image/png": "[encoded data removed]",
            "text/plain": [
              "<Figure size 432x288 with 1 Axes>"
            ]
          },
          "metadata": {
            "tags": []
          }
        }
      ]
    },
    {
      "cell_type": "code",
      "metadata": {
        "id": "I46EvuiUP5nV",
        "colab_type": "code",
        "colab": {}
      },
      "source": [
        "option4 = VanillaOption(\n",
        "    otype = -1,#put option\n",
        "    strike = 110.,#strike: 110\n",
        "    maturity = 1#maturity fixed at 1\n",
        ")"
      ],
      "execution_count": 0,
      "outputs": []
    },
    {
      "cell_type": "code",
      "metadata": {
        "id": "yB2_ZGrkP8d1",
        "colab_type": "code",
        "colab": {
          "base_uri": "https://localhost:8080/",
          "height": 265
        },
        "outputId": "67d5bf36-2edd-45d7-e5e0-9655c7439fd3"
      },
      "source": [
        "gbm2.vol_ratio = np.arange(0.05, 0.51, 0.01)\n",
        "plt.plot(gbm2.vol_ratio, gbm2.bsm_price(option4))\n",
        "plt.show()"
      ],
      "execution_count": 35,
      "outputs": [
        {
          "output_type": "display_data",
          "data": {
            "image/png": "[encoded data removed]",
            "text/plain": [
              "<Figure size 432x288 with 1 Axes>"
            ]
          },
          "metadata": {
            "tags": []
          }
        }
      ]
    },
    {
      "cell_type": "markdown",
      "metadata": {
        "id": "KVedaxDuQIfE",
        "colab_type": "text"
      },
      "source": [
        "#Conclusion\n",
        "\n",
        "According to the plot, we can conclude that under fix $\\sigma$ or fixed $T$, it is true that we have same behavior for put option.  \n",
        "\n"
      ]
    },
    {
      "cell_type": "code",
      "metadata": {
        "id": "YDljH89VP-ks",
        "colab_type": "code",
        "colab": {}
      },
      "source": [
        ""
      ],
      "execution_count": 0,
      "outputs": []
    }
  ]
}