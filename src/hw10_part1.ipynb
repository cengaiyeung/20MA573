{
  "nbformat": 4,
  "nbformat_minor": 0,
  "metadata": {
    "colab": {
      "name": "Untitled10.ipynb",
      "provenance": [],
      "authorship_tag": "ABX9TyOrrNKFF1DGxxnnpVmOITBZ",
      "include_colab_link": true
    },
    "kernelspec": {
      "name": "python3",
      "display_name": "Python 3"
    }
  },
  "cells": [
    {
      "cell_type": "markdown",
      "metadata": {
        "id": "view-in-github",
        "colab_type": "text"
      },
      "source": [
        "<a href=\"https://colab.research.google.com/github/cengaiyeung/20MA573/blob/master/src/hw10_part1.ipynb\" target=\"_parent\"><img src=\"https://colab.research.google.com/assets/colab-badge.svg\" alt=\"Open In Colab\"/></a>"
      ]
    },
    {
      "cell_type": "markdown",
      "metadata": {
        "id": "Yx4aS2ugQrsO",
        "colab_type": "text"
      },
      "source": [
        "# **HW 10**\n",
        "\n",
        "Let $D = \\{X_{i}: i \\in \\mathbb{N}\\}$ be a data set of iid sequence from a random generator of distribution $\\mathcal{N}(b, \\sigma^{2})$ for some unknown parameters $b$ and $\\sigma$. Our goal is to estimate $b$ using so called stochastic approximation (SA) with a given learning rate $\\alpha \\in (0, 1)$:\n",
        "\n",
        "- initialize $b_{0}$\n",
        "- iterate $b_{n+1} = b_{n} + \\alpha (x_{n} - b_{n})$.\n",
        "\n",
        "we want to examine the convergence $b_{n} \\to b$. For simplicity, let's fix $\\alpha = 0.01$.\n",
        "\n",
        "- Write pseudocode for SA.\n",
        "- Generate a data set $D = \\{x_{i} : 1\\leq i \\leq 10000\\}$ with $\\mathcal{N}(1, 4)$.\n",
        "- Write a code to implement SA on D, and demonstrate $b_{n} \\to b$ as $n \\to \\infty$.\n",
        "- Prove that $\\lim_{n \\to \\infty} \\mathbb{E}(b_{n}) = b$.\n",
        "- Can you prove or disprove that $b_{n} \\to b$ in $L^{2}$?"
      ]
    },
    {
      "cell_type": "markdown",
      "metadata": {
        "id": "3-qA5BsLUdC4",
        "colab_type": "text"
      },
      "source": [
        "- Generate a data set $D = \\{x_{i} : 1\\leq i \\leq 10000\\}$ with $\\mathcal{N}(1, 4)$.\n"
      ]
    },
    {
      "cell_type": "code",
      "metadata": {
        "id": "INwxA35HQokA",
        "colab_type": "code",
        "colab": {}
      },
      "source": [
        ""
      ],
      "execution_count": 0,
      "outputs": []
    },
    {
      "cell_type": "markdown",
      "metadata": {
        "id": "q3ZFsImNUfUV",
        "colab_type": "text"
      },
      "source": [
        "- Write a code to implement SA on D, and demonstrate $b_{n} \\to b$ as $n \\to \\infty$.\n"
      ]
    },
    {
      "cell_type": "code",
      "metadata": {
        "id": "MmF6zMzHUiy5",
        "colab_type": "code",
        "colab": {}
      },
      "source": [
        ""
      ],
      "execution_count": 0,
      "outputs": []
    },
    {
      "cell_type": "markdown",
      "metadata": {
        "id": "osu38ycmUj21",
        "colab_type": "text"
      },
      "source": [
        "- Prove that $\\lim_{n \\to \\infty} \\mathbb{E}(b_{n}) = b$.\n"
      ]
    },
    {
      "cell_type": "code",
      "metadata": {
        "id": "xwn9LNqzUmRB",
        "colab_type": "code",
        "colab": {}
      },
      "source": [
        ""
      ],
      "execution_count": 0,
      "outputs": []
    },
    {
      "cell_type": "markdown",
      "metadata": {
        "id": "JAXByKC1Umsl",
        "colab_type": "text"
      },
      "source": [
        "- Can you prove or disprove that $b_{n} \\to b$ in $L^{2}$?"
      ]
    },
    {
      "cell_type": "code",
      "metadata": {
        "id": "RB_VoruIUoGI",
        "colab_type": "code",
        "colab": {}
      },
      "source": [
        ""
      ],
      "execution_count": 0,
      "outputs": []
    }
  ]
}