{
  "nbformat": 4,
  "nbformat_minor": 0,
  "metadata": {
    "colab": {
      "name": "Untitled10.ipynb",
      "provenance": [],
      "authorship_tag": "ABX9TyPKbE+jrg1QkJ+ZKR8rwhIY",
      "include_colab_link": true
    },
    "kernelspec": {
      "name": "python3",
      "display_name": "Python 3"
    }
  },
  "cells": [
    {
      "cell_type": "markdown",
      "metadata": {
        "id": "view-in-github",
        "colab_type": "text"
      },
      "source": [
        "<a href=\"https://colab.research.google.com/github/cengaiyeung/20MA573/blob/master/src/hw10_part1.ipynb\" target=\"_parent\"><img src=\"https://colab.research.google.com/assets/colab-badge.svg\" alt=\"Open In Colab\"/></a>"
      ]
    },
    {
      "cell_type": "markdown",
      "metadata": {
        "id": "Yx4aS2ugQrsO",
        "colab_type": "text"
      },
      "source": [
        "# **HW 10**\n",
        "\n",
        "Let $D = \\{X_{i}: i \\in \\mathbb{N}\\}$ be a data set of iid sequence from a random generator of distribution $\\mathcal{N}(b, \\sigma^{2})$ for some unknown parameters $b$ and $\\sigma$. Our goal is to estimate $b$ using so called stochastic approximation (SA) with a given learning rate $\\alpha \\in (0, 1)$:\n",
        "\n",
        "- initialize $b_{0}$\n",
        "- iterate $b_{n+1} = b_{n} + \\alpha (x_{n} - b_{n})$.\n",
        "\n",
        "we want to examine the convergence $b_{n} \\to b$. For simplicity, let's fix $\\alpha = 0.01$.\n",
        "\n",
        "- Write pseudocode for SA.\n",
        "- Generate a data set $D = \\{x_{i} : 1\\leq i \\leq 10000\\}$ with $\\mathcal{N}(1, 4)$.\n",
        "- Write a code to implement SA on D, and demonstrate $b_{n} \\to b$ as $n \\to \\infty$.\n",
        "- Prove that $\\lim_{n \\to \\infty} \\mathbb{E}(b_{n}) = b$.\n",
        "- Can you prove or disprove that $b_{n} \\to b$ in $L^{2}$?"
      ]
    },
    {
      "cell_type": "code",
      "metadata": {
        "id": "nRSgCBmQYpRF",
        "colab_type": "code",
        "colab": {}
      },
      "source": [
        "import numpy as np\n",
        "import matplotlib.pyplot as plt"
      ],
      "execution_count": 0,
      "outputs": []
    },
    {
      "cell_type": "code",
      "metadata": {
        "id": "NxNKVPiHYsFV",
        "colab_type": "code",
        "colab": {}
      },
      "source": [
        "def stochastic_approximation(mu,sig,N,alpha):\n",
        "  b = np.zeros(N+1)\n",
        "  for i in range(N):\n",
        "    x = np.random.normal(mu,sig)\n",
        "    b[i+1] = b[i] + alpha * (x - b[i])\n",
        "  return b[N]\n",
        "\n"
      ],
      "execution_count": 0,
      "outputs": []
    },
    {
      "cell_type": "code",
      "metadata": {
        "id": "D41e1Kdhawxp",
        "colab_type": "code",
        "colab": {
          "base_uri": "https://localhost:8080/",
          "height": 34
        },
        "outputId": "ff44a674-ae3b-4b97-b7bf-5deffdc1b2ee"
      },
      "source": [
        "#Test SA\n",
        "mu_estimate = stochastic_approximation(1,2,10000,0.01)\n",
        "print(\"The estimate value of mu is:\", mu_estimate)"
      ],
      "execution_count": 44,
      "outputs": [
        {
          "output_type": "stream",
          "text": [
            "The estimate value of mu is: 1.0276770026518862\n"
          ],
          "name": "stdout"
        }
      ]
    },
    {
      "cell_type": "markdown",
      "metadata": {
        "id": "3-qA5BsLUdC4",
        "colab_type": "text"
      },
      "source": [
        "- Generate a data set $D = \\{x_{i} : 1\\leq i \\leq 10000\\}$ with $\\mathcal{N}(1, 4)$.\n"
      ]
    },
    {
      "cell_type": "code",
      "metadata": {
        "id": "INwxA35HQokA",
        "colab_type": "code",
        "colab": {}
      },
      "source": [
        "def gener_data_set(N,mu,sig):\n",
        "  D = np.zeros(N)\n",
        "  for i in range(N):\n",
        "    D[i] = np.random.normal(mu,sig)\n",
        "  return D\n"
      ],
      "execution_count": 0,
      "outputs": []
    },
    {
      "cell_type": "code",
      "metadata": {
        "id": "d8oE-NzkYe3Z",
        "colab_type": "code",
        "colab": {
          "base_uri": "https://localhost:8080/",
          "height": 34
        },
        "outputId": "fc1b902f-0bb9-4f0f-a581-0670c08b030e"
      },
      "source": [
        "#Test D\n",
        "A = gener_data_set(1,1,2)\n",
        "print(A)\n"
      ],
      "execution_count": 46,
      "outputs": [
        {
          "output_type": "stream",
          "text": [
            "[0.08855205]\n"
          ],
          "name": "stdout"
        }
      ]
    },
    {
      "cell_type": "code",
      "metadata": {
        "id": "a2MlNrR1nC2T",
        "colab_type": "code",
        "colab": {}
      },
      "source": [
        "N = 10000\n",
        "D = gener_data_set(N,1,2)"
      ],
      "execution_count": 0,
      "outputs": []
    },
    {
      "cell_type": "markdown",
      "metadata": {
        "id": "q3ZFsImNUfUV",
        "colab_type": "text"
      },
      "source": [
        "- Write a code to implement SA on D, and demonstrate $b_{n} \\to b$ as $n \\to \\infty$.\n"
      ]
    },
    {
      "cell_type": "code",
      "metadata": {
        "id": "YpDftw_LnfsY",
        "colab_type": "code",
        "colab": {}
      },
      "source": [
        "def stochastic_approximation2(x,N,alpha):\n",
        "  b = np.zeros(N+1)\n",
        "  for i in range(N):\n",
        "    b[i+1] = b[i] + alpha * (x[i] - b[i])\n",
        "  return b[N]"
      ],
      "execution_count": 0,
      "outputs": []
    },
    {
      "cell_type": "code",
      "metadata": {
        "id": "-2ts2pMwp3Hs",
        "colab_type": "code",
        "colab": {
          "base_uri": "https://localhost:8080/",
          "height": 34
        },
        "outputId": "54d56c0f-b5d8-4d93-ca74-ca2ec2eaa840"
      },
      "source": [
        "N = 100000\n",
        "D = gener_data_set(N,1,2)\n",
        "bn = stochastic_approximation2(D,N,0.01)\n",
        "print(\"The estimated value of mu is:\", bn)"
      ],
      "execution_count": 58,
      "outputs": [
        {
          "output_type": "stream",
          "text": [
            "The estimated value of mu is: 1.0608398593540156\n"
          ],
          "name": "stdout"
        }
      ]
    },
    {
      "cell_type": "markdown",
      "metadata": {
        "id": "WbSMt4EHq38L",
        "colab_type": "text"
      },
      "source": [
        "Thus, we can say that $b_{n} \\to b$ as $n \\to \\infty$."
      ]
    },
    {
      "cell_type": "markdown",
      "metadata": {
        "id": "osu38ycmUj21",
        "colab_type": "text"
      },
      "source": [
        "- Prove that $\\lim_{n \\to \\infty} \\mathbb{E}(b_{n}) = b$.\n"
      ]
    },
    {
      "cell_type": "markdown",
      "metadata": {
        "id": "xdL0QXHHrKfw",
        "colab_type": "text"
      },
      "source": [
        "# Pf:\n",
        "\n",
        "Since $b_{n+1} = b_{n} + \\alpha (x_{n} - b_{n})$ and $x_{n} \\sim \\mathcal{N}(b, \\sigma^{2})$, we have\n",
        "\n",
        "$$b_{n+1} = (1 - \\alpha) b_{n} + \\alpha x_{n}.$$\n",
        "\n",
        "Take expectation on the both side, we have\n",
        "\n",
        "$$\\mathbb{E}(b_{n+1}) = (1 - \\alpha) \\mathbb{E} (b_{n}) + \\alpha \\mathbb{E}(x_{n}),$$\n",
        "\n",
        "then we have\n",
        "\n",
        "$$\\mathbb{E}(b_{n+1}) = (1 - \\alpha) \\mathbb{E} (b_{n}) + \\alpha b.$$\n",
        "\n",
        "When $n \\to \\infty$, we have $ \\lim_{n \\to \\infty} \\mathbb{E} (b_{n}) = \\lim_{n \\to \\infty} \\mathbb{E} (b_{n+1)}$, let $ \\lim_{n \\to \\infty} \\mathbb{E} (b_{n}) = \\lim_{n \\to \\infty} \\mathbb{E} (b_{n+1)} = a$ then we can get\n",
        "\n",
        "$$a = (1 - \\alpha) a + \\alpha b,$$\n",
        "$$\\alpha a = \\alpha b,$$\n",
        "Thus, \n",
        "$$a = \\lim_{n \\to \\infty} \\mathbb{E} (b_{n}) = b$$"
      ]
    },
    {
      "cell_type": "markdown",
      "metadata": {
        "id": "JAXByKC1Umsl",
        "colab_type": "text"
      },
      "source": [
        "- Can you prove or disprove that $b_{n} \\to b$ in $L^{2}$?"
      ]
    },
    {
      "cell_type": "markdown",
      "metadata": {
        "id": "Fja-yYe-tW4K",
        "colab_type": "text"
      },
      "source": [
        "# Pf:\n",
        "$WTS, lim_{n \\to \\infty}E[|b_{n} - b|^2]=0$\n",
        "\n",
        "Since we have $lim_{n \\to \\infty}E[b_{n}] = b$ \n",
        "\n",
        "Then we have, \n",
        "$$lim_{n \\to \\infty}E[(b_{n} - E[b_{n}])^2] = 0$$\n",
        "which means \n",
        "$$lim_{n \\to \\infty}Var(b_{n}) = 0$$\n",
        "On the other hand, since we have $b_{0}=0, b_{n+1} = b_{n} + \\alpha (x_{n} - b_{n}), x_{n} \\sim N(\\alpha, \\sigma ^2)$, then we have \n",
        "$$b_{n} = \\sum_{k = 0}^{n - 1} (1 - \\alpha)^{n - k - 1} \\alpha x_{k} ,$$\n",
        "$$Var(b_{n}) = \\sigma^{2} \\alpha^{2} \\sum_{k = 0}^{n - 1} (1 - \\alpha)^{2(n - k - 1)}  = \\sigma^{2} \\alpha^{2} \\sum_{k = 0}^{n - 1} (1 - \\alpha)^{2 k} = \\sigma^{2} \\alpha^{2} \\frac{1 - (1 - \\alpha)^{2n}}{1 - (1 - \\alpha)^{2}}$$\n",
        "\n",
        "Since $\\alpha \\in (0, 1)$, $0<1 - \\alpha <1, $ and when $n \\to \\infty, (1 - \\alpha)^{2n} \\to 0$, thus we have\n",
        "\n",
        "$$\\lim_{n \\to \\infty} var(b_{n}) = \\frac{\\sigma^{2} \\alpha}{2 - \\alpha}.$$\n",
        "\n",
        "Since $\\frac{\\sigma^{2} \\alpha}{2 - \\alpha} \\neq 0$.\n",
        "\n",
        "Disproved. \n"
      ]
    }
  ]
}