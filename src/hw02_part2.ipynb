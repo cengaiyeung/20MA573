{
  "nbformat": 4,
  "nbformat_minor": 0,
  "metadata": {
    "colab": {
      "name": "hw02_part2.ipynb",
      "provenance": [],
      "authorship_tag": "ABX9TyNfZPinC1qVlxBn1CqpKUga",
      "include_colab_link": true
    },
    "kernelspec": {
      "name": "python3",
      "display_name": "Python 3"
    }
  },
  "cells": [
    {
      "cell_type": "markdown",
      "metadata": {
        "id": "view-in-github",
        "colab_type": "text"
      },
      "source": [
        "<a href=\"https://colab.research.google.com/github/cengaiyeung/20MA573/blob/master/src/hw02_part2.ipynb\" target=\"_parent\"><img src=\"https://colab.research.google.com/assets/colab-badge.svg\" alt=\"Open In Colab\"/></a>"
      ]
    },
    {
      "cell_type": "markdown",
      "metadata": {
        "id": "3TuV2NqsqqF_",
        "colab_type": "text"
      },
      "source": [
        "__Question 1:__\n",
        "\n",
        "Suppose that we wish to approximate the first derivative $f'(x)$ of a very smooth function with an error of only $O(h^4)$ , Which difference approximation could we use?\n",
        "\n",
        "(Hint: you may consider to use more than two points in the neighborhood)\n",
        "\n"
      ]
    },
    {
      "cell_type": "markdown",
      "metadata": {
        "id": "-Y-fcrZBsE9q",
        "colab_type": "text"
      },
      "source": [
        "__Pf 1:__\n",
        "\n",
        "Using Taylor series expansions for $f(x+h)$, $f(x+2h)$, $f(x-h)$, $f(x-2h)$. \n",
        "\n",
        "Then we have \n",
        "\n",
        "$$f(x+h) = f(x) + f'(x)h + \\frac{1}{2!}f''(x)h^2 + \\frac{1}{3!}f^{(3)}(x)h^3 + \\frac{1}{4!}f{(4)}(x)h^4 + O(h^5)$$\n",
        "\n",
        "and\n",
        "\n",
        "$$f(x+2h) = f(x) + f'(x)2h + \\frac{1}{2!}f''(x)(2h)^2 + \\frac{1}{3!}f^{(3)}(x)(2h)^3 + \\frac{1}{4!}f{(4)}(x)(2h)^4 + O(h^5)$$\n",
        "\n",
        "and\n",
        "\n",
        "$$f(x-h) = f(x) - f'(x)h + \\frac{1}{2!}f''(x)h^2 - \\frac{1}{3!}f^{(3)}(x)h^3 + \\frac{1}{4!}f{(4)}(x)h^4 - O(h^5)$$\n",
        "\n",
        "and\n",
        "\n",
        "$$f(x-2h) = f(x) - f'(x)2h + \\frac{1}{2!}f''(x)(2h)^2 - \\frac{1}{3!}f^{(3)}(x)(2h)^3 + \\frac{1}{4!}f{(4)}(x)(2h)^4 - O(h^5)$$\n",
        "\n",
        "Then，we have\n",
        "\n",
        "\n",
        "$$\\frac{2}{3} (f(x+h) - f(x-h)) = \\frac{4}{3} f'(x)h + \\frac{2}{9} f^{(3)}(x)h^3 + O(h^5)$$\n",
        "\n",
        "\n",
        "$$\\frac{1}{12} (f(x+2h) - f(x-2h)) = \\frac{1}{3} f'(x)h + \\frac{2}{9} f^{(3)}(x)h^3 + O(h^5)$$\n",
        "\n",
        "Then we have\n",
        "\n",
        "$$|\\frac{\\frac{2}{3} (f(x+h) - f(x-h)) - \\frac{1}{12} (f(x+2h) - f(x-2h))}{h} - f'(x)| = |\\frac{f'(x)h + O(h^5)}{h} - f'(x)| = O(h^4)$$\n",
        "\n",
        "\n",
        "\n"
      ]
    },
    {
      "cell_type": "markdown",
      "metadata": {
        "id": "M0XrnH7B8cDT",
        "colab_type": "text"
      },
      "source": [
        "__Question 2:__\n",
        "\n",
        "Let $f: \\mathbb{R} \\mapsto \\mathbb{R}$ be a smooth even function satisfying $f(0) = 0$. Our objective is to approximate the second order derivative $f''(0)$"
      ]
    },
    {
      "cell_type": "markdown",
      "metadata": {
        "id": "fGlCg2Tv9WDD",
        "colab_type": "text"
      },
      "source": [
        "- Prove that $f'(0) = 0$ \n",
        "\n",
        "__Pf:__\n",
        "\n",
        "Since $f$ is a smooth even function, then we have $f(x) = f(-x)$, take derivative on the both side, we have\n",
        "$$f'(x) = -f'(-x)$$\n",
        "Plug 0 into the equation, we have\n",
        "$$f'(0)= -f'(0)$$\n",
        "$$2f'(0) = 0$$\n",
        "Thus, we can conclude that \n",
        "$$f'(0) = 0$$\n",
        "\n",
        "Approved"
      ]
    },
    {
      "cell_type": "markdown",
      "metadata": {
        "id": "GGgVOnrZIY6w",
        "colab_type": "text"
      },
      "source": [
        "- Gwan proposes the following estimator for $f''(0)$: for a step size h\n",
        "$$a_{h} = \\frac{2f(h)}{h^2}$$\n",
        "Please justify that Gwan's estimation has its convergence $O(h^2)$\n",
        "\n",
        "__Pf:__\n",
        "\n",
        "Recall the proof above, we know that $f'(x)$ is an odd function and we have\n",
        "\n",
        "$$f'(x) = -f'(-x)$$\n",
        "\n",
        "Taking derivative on the both sides of the equation, then\n",
        "\n",
        "$$f''(x) = f''(-x)$$\n",
        "Takeing derivative again, we have\n",
        "\n",
        "$$f^{(3)}(x) = -f^{(3)}(-x)$$\n",
        "\n",
        "Since $f(0) = 0$, $f'(0) = 0$, we have $f^{(3)}(0) = 0$.\n",
        "\n",
        "Using Taylor series expansion of $f(x+h)$ at $x=0$, we have\n",
        "\n",
        "$$f(0+h) = f(0) + f'(0)h + \\frac{1}{2!}f''(0)h^2 + \\frac{1}{3!}f^{(3)}(0)h^3 + O(h^4) = \\frac{1}{2}f''(0)h^2 + O(h^4)$$\n",
        "\n",
        "Then, plug it into $a_{h}$, we have\n",
        "\n",
        "$$a_{h} = f''(0) + O(h^2)$$\n",
        "So,\n",
        "$$|a_{h} - f''(0)| = O(h^2)$$ \n",
        "\n",
        "\n",
        "\n"
      ]
    },
    {
      "cell_type": "markdown",
      "metadata": {
        "id": "fZNjbrGXntaa",
        "colab_type": "text"
      },
      "source": [
        "- Is there anyway to improve the above convergence to $O(h^4)$ in the form of \n",
        "$$b_{h} = \\frac{c_{1}f(h) + c_{2}f(2h)}{h^2}$$\n",
        "for some constants $c_{1}$ and $c_{2}$?\n",
        "\n",
        "__Pf:__\n",
        "\n",
        "Recall Taylor series expansion, \n",
        "\n",
        "$$f(h) = f(0) + \\sum_{k = 1}^{5} \\frac{1}{k!} f^{(k)}(0) h^{k} + O(h^{6}),$$\n",
        "\n",
        "$$f(2h) = f(0) + \\sum_{k = 1}^{5} \\frac{1}{k!} f^{(k)}(0) (2h)^{k} + O(h^{6})$$\n",
        "\n",
        "Recall the conclusion of last answer, we have $f(0) = 0$, $f'(0) = 0$, $f^{(3)}(0) = 0$ and similiarly $f^{(5)}(0) = 0$\n",
        "\n",
        "Then, we have \n",
        "\n",
        "$$f(h) = \\frac{1}{2} f''(0) h^{2} + \\frac{1}{24} f^{(4)}(0) h^{4} + O(h^{6})$$\n",
        "\n",
        "and\n",
        "\n",
        "$$f(2h) = 2 f''(0) h^{2} + \\frac{2}{3} f^{(4)}(0) h^{4} + O(h^{6}).$$\n",
        "\n",
        "Then, \n",
        "\n",
        "$$b_{h} = \\frac{c_{1} f(h) + c_{2} f(2h)}{h^{2}} \\\\\n",
        " = (\\frac{c_{1}}{2} + 2c_{2})f''(0) + (\\frac{c_{1}}{24} + \\frac{2c_{2}}{3}) f^{(4)}(0)h^{2} + O(h^{6})$$\n",
        "\n",
        "In this case, we get \n",
        "\n",
        "$$\n",
        "\\begin{equation}\n",
        "\\begin{cases}\n",
        "\\frac{1}{2}c_{1} + 2c_{2} = 1  \\\\\n",
        "\\frac{1}{24}c_{1} + \\frac{2}{3}c_{2} = 0 \\\\\n",
        "\\end{cases}\n",
        "\\end{equation}\n",
        "$$\n",
        "\n",
        "Then we have $c_{1} = \\frac{8}{3}$, $c_{2} = -\\frac{1}{6}$\n"
      ]
    },
    {
      "cell_type": "markdown",
      "metadata": {
        "id": "pXzr0UuGv0ZP",
        "colab_type": "text"
      },
      "source": [
        "- If the above function $f$ is odd and other properties remain the same, how do you want to find the $f''(0)$ efficiently?\n",
        "\n",
        "__Pf:__\n",
        "\n",
        "According to the conclusion we have in the above question, we can find a pattern that when k is even, $f^{(k)}(0) = 0$. \n",
        "\n",
        "Thus, we can find that when $f$ is odd function with $f(0) = 0$, $f''(0) = 0$. "
      ]
    },
    {
      "cell_type": "code",
      "metadata": {
        "id": "xo4CVimxqKLR",
        "colab_type": "code",
        "colab": {}
      },
      "source": [
        ""
      ],
      "execution_count": 0,
      "outputs": []
    }
  ]
}