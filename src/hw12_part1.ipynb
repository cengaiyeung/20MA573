{
  "nbformat": 4,
  "nbformat_minor": 0,
  "metadata": {
    "colab": {
      "name": "Untitled12.ipynb",
      "provenance": [],
      "authorship_tag": "ABX9TyPG69Ays5vgbGlUB2wJW44w",
      "include_colab_link": true
    },
    "kernelspec": {
      "name": "python3",
      "display_name": "Python 3"
    }
  },
  "cells": [
    {
      "cell_type": "markdown",
      "metadata": {
        "id": "view-in-github",
        "colab_type": "text"
      },
      "source": [
        "<a href=\"https://colab.research.google.com/github/cengaiyeung/20MA573/blob/master/src/hw12_part1.ipynb\" target=\"_parent\"><img src=\"https://colab.research.google.com/assets/colab-badge.svg\" alt=\"Open In Colab\"/></a>"
      ]
    },
    {
      "cell_type": "markdown",
      "metadata": {
        "id": "XrB9Raxz14wz",
        "colab_type": "text"
      },
      "source": [
        "## HW12\n",
        "\n",
        "Consider ODE\n",
        "\n",
        "$$- u^{''} + u = x, \\, \\forall x \\in (0, 1), u(0) = u(1) = 0.$$\n",
        "\n",
        "Answer the following questions:\n",
        "\n",
        "- Prove that \n",
        "$$u(x) = x - \\frac{\\exp(x - 1) - \\exp(- x - 1)}{1 - \\exp(-2)}$$\n",
        "is the unique solution.\n",
        "\n",
        "- Using the upwind finite difference scheme, find out the matrix $L^{h}$ and vector $R^{h}f$, such that the numerical solution satisfies $L^{h} u^{h} = R^{h} f$.\n",
        "\n",
        "- Convert $L^{h} u^{h} = R^{h} f$ to Markovian Reward Process.\n",
        "\n",
        "- Write a pseudocode for value iteration.\n",
        "\n",
        "- Write a pseudocode for first visit Monte-Carlo method.\n",
        "\n",
        "- Prove the consistency.\n",
        "\n",
        "- Prove the stability.\n",
        "\n",
        "- Find convergence rate."
      ]
    },
    {
      "cell_type": "code",
      "metadata": {
        "id": "xuMk6MEO123L",
        "colab_type": "code",
        "colab": {}
      },
      "source": [
        ""
      ],
      "execution_count": 0,
      "outputs": []
    }
  ]
}