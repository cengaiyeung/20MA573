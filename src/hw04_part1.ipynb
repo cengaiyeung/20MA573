{
  "nbformat": 4,
  "nbformat_minor": 0,
  "metadata": {
    "colab": {
      "name": "hw04_part1",
      "provenance": [],
      "authorship_tag": "ABX9TyOMS1jQlPK/6fmOFjYuJnKg",
      "include_colab_link": true
    },
    "kernelspec": {
      "name": "python3",
      "display_name": "Python 3"
    }
  },
  "cells": [
    {
      "cell_type": "markdown",
      "metadata": {
        "id": "view-in-github",
        "colab_type": "text"
      },
      "source": [
        "<a href=\"https://colab.research.google.com/github/cengaiyeung/20MA573/blob/master/src/hw04_part1.ipynb\" target=\"_parent\"><img src=\"https://colab.research.google.com/assets/colab-badge.svg\" alt=\"Open In Colab\"/></a>"
      ]
    },
    {
      "cell_type": "markdown",
      "metadata": {
        "id": "NS6e4eu-xRZ8",
        "colab_type": "text"
      },
      "source": [
        "### 1. Prove or disprove: Suppose $f$ is convex and $X$ is submartingale, prove that  $g(t) = \\mathbb E[f(X_t)]$ is increasing."
      ]
    },
    {
      "cell_type": "markdown",
      "metadata": {
        "id": "CzibeqG9oAJj",
        "colab_type": "text"
      },
      "source": [
        "### 2. Let $t \\mapsto e^{-rt}S_t$ be a martingale, then prove that $$C(t) = \\mathbb E[e^{-rt}(S_t - K)^+]$$ is increasing."
      ]
    },
    {
      "cell_type": "markdown",
      "metadata": {
        "id": "7YDqkVUBp5yw",
        "colab_type": "text"
      },
      "source": [
        "### 3. Suppose $r = 0$ and $S$ is martingale, prove that $P(t) = \\mathbb E [(S_t - K)^-]$ is increasing."
      ]
    },
    {
      "cell_type": "markdown",
      "metadata": {
        "id": "d1ocVcO5qESS",
        "colab_type": "text"
      },
      "source": [
        ""
      ]
    },
    {
      "cell_type": "code",
      "metadata": {
        "id": "UXbT89VEjvuL",
        "colab_type": "code",
        "colab": {}
      },
      "source": [
        ""
      ],
      "execution_count": 0,
      "outputs": []
    }
  ]
}