{
  "nbformat": 4,
  "nbformat_minor": 0,
  "metadata": {
    "colab": {
      "name": "hw04_part1",
      "provenance": [],
      "authorship_tag": "ABX9TyOExnKdqSXjSnXYVm+1jFd5",
      "include_colab_link": true
    },
    "kernelspec": {
      "name": "python3",
      "display_name": "Python 3"
    }
  },
  "cells": [
    {
      "cell_type": "markdown",
      "metadata": {
        "id": "view-in-github",
        "colab_type": "text"
      },
      "source": [
        "<a href=\"https://colab.research.google.com/github/cengaiyeung/20MA573/blob/master/src/hw04_part1.ipynb\" target=\"_parent\"><img src=\"https://colab.research.google.com/assets/colab-badge.svg\" alt=\"Open In Colab\"/></a>"
      ]
    },
    {
      "cell_type": "markdown",
      "metadata": {
        "id": "NS6e4eu-xRZ8",
        "colab_type": "text"
      },
      "source": [
        "### 1. Prove or disprove: Suppose $f$ is convex and $X$ is submartingale, prove that  $g(t) = \\mathbb E[f(X_t)]$ is increasing."
      ]
    },
    {
      "cell_type": "code",
      "metadata": {
        "id": "UXbT89VEjvuL",
        "colab_type": "code",
        "colab": {}
      },
      "source": [
        ""
      ],
      "execution_count": 0,
      "outputs": []
    }
  ]
}