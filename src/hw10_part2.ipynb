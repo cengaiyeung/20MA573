{
  "nbformat": 4,
  "nbformat_minor": 0,
  "metadata": {
    "colab": {
      "name": "Untitled9.ipynb",
      "provenance": [],
      "authorship_tag": "ABX9TyOg4d9FF6v/RMPinnTBvRhx",
      "include_colab_link": true
    },
    "kernelspec": {
      "name": "python3",
      "display_name": "Python 3"
    }
  },
  "cells": [
    {
      "cell_type": "markdown",
      "metadata": {
        "id": "view-in-github",
        "colab_type": "text"
      },
      "source": [
        "<a href=\"https://colab.research.google.com/github/cengaiyeung/20MA573/blob/master/src/hw10_part2.ipynb\" target=\"_parent\"><img src=\"https://colab.research.google.com/assets/colab-badge.svg\" alt=\"Open In Colab\"/></a>"
      ]
    },
    {
      "cell_type": "markdown",
      "metadata": {
        "id": "ARNBqwjZJEtH",
        "colab_type": "text"
      },
      "source": [
        "# HW 10\n",
        "\n",
        "Consider 2-d PDE\n",
        "$$\\frac{1}{2} \\Delta v(x) - v(x) + x_{1}^2 + x_{2}^2 - x_{1} - x_{2} - \\frac{3}{2} = 0, x \\in O=(0,1)^2$$\n",
        "with its boundary data\n",
        "$$v(x) = (x_{1} - \\frac{1}{2})^2 + (x_{2} - \\frac{1}{2})^2, x \\in O.$$\n",
        "The exact solution is \n",
        "$$v(x) = (x_{1} - \\frac{1}{2})^2 + (x_{2} - \\frac{1}{2})^2.$$\n",
        "- Idendify $MRP$ with $CFD$ in the form of , \n",
        "$$v(x) = \\gamma \\{ \\ell ^h (x) + \\sum_{i=1}^{d} p^h (x + he_{i}|x)v(x + he_{i}) + p^h(x-he_{i}|x)v(x - he_{i}) \\}.$$\n",
        "- For h=1/8, compute CFD solution by value iteration.\n",
        "- For h=1/8, compute CFD solution by Monte-Carlo method.\n",
        "- For h=1/8, compute CFD solution by TD method.\n",
        "- Compare above three methodsand conclude your observations."
      ]
    },
    {
      "cell_type": "markdown",
      "metadata": {
        "id": "zd2jLJ_We7C9",
        "colab_type": "text"
      },
      "source": [
        "- Idendify $MRP$ with $CFD$ in the form of , \n",
        "$$v(x) = \\gamma \\{ \\ell ^h (x) + \\sum_{i=1}^{d} p^h (x + he_{i}|x)v(x + he_{i}) + p^h(x-he_{i}|x)v(x - he_{i}) \\}.$$\n",
        "\n",
        "# Pf:\n",
        "In last class, we have proved that \n",
        "$$\\gamma = \\frac{2}{2+h^2}, $$\n",
        "$$\\ell ^{h}(x) = \\frac{h^2}{2}(x_{1}^2 + x_{2}^2 - x_{1} - x_{2} - \\frac{3}{2}),$$\n",
        "$$p^h(x \\pm he_{i}|x) = \\frac{1}{4}$$\n",
        "Then we know the transition probability is \n",
        "$$p(s, s^{'})=\n",
        "\\begin{cases}\n",
        "\\frac{1}{4}, & \\|s - s^{'}\\| = 1 \\\\\n",
        "0,& otherwise.\n",
        "\\end{cases}$$\n",
        "\n",
        "And the reward function is\n",
        "\n",
        "$$R(s) = \\gamma l^{h}(x) = \\frac{h^{2}}{2+h^{2}} [(x_{1} - \\frac{1}{2})^{2} + (x_{2} - \\frac{1}{2})^{2} -2].$$\n"
      ]
    },
    {
      "cell_type": "markdown",
      "metadata": {
        "id": "ZXWuzEdFL7On",
        "colab_type": "text"
      },
      "source": [
        "- For h=1/8, compute CFD solution by value iteration."
      ]
    },
    {
      "cell_type": "code",
      "metadata": {
        "id": "bM8sZtPwI7tZ",
        "colab_type": "code",
        "colab": {}
      },
      "source": [
        "import numpy as np\n",
        "import matplotlib.pyplot as plt"
      ],
      "execution_count": 0,
      "outputs": []
    },
    {
      "cell_type": "code",
      "metadata": {
        "id": "zurSRnXpSbxg",
        "colab_type": "code",
        "colab": {}
      },
      "source": [
        "\n",
        "def gamma(N):\n",
        "  h = 1/N\n",
        "  gamma = 2/(2+h**2)\n",
        "  return gamma"
      ],
      "execution_count": 0,
      "outputs": []
    },
    {
      "cell_type": "code",
      "metadata": {
        "id": "rn2l5UoOSb0p",
        "colab_type": "code",
        "outputId": "c63620f8-ab54-4d51-d881-1c13061b2697",
        "colab": {
          "base_uri": "https://localhost:8080/",
          "height": 34
        }
      },
      "source": [
        "#Test gamma\n",
        "print(\"When N = 8, the gamma is\", gamma(8))"
      ],
      "execution_count": 4,
      "outputs": [
        {
          "output_type": "stream",
          "text": [
            "When N = 8, the gamma is 0.9922480620155039\n"
          ],
          "name": "stdout"
        }
      ]
    },
    {
      "cell_type": "code",
      "metadata": {
        "id": "t2Duuz1rSb4o",
        "colab_type": "code",
        "colab": {}
      },
      "source": [
        "def l(N):\n",
        "  lh_matrix = np.zeros([N+1,N+1])\n",
        "  h = 1/N\n",
        "  for i in range(N+1):\n",
        "    for j in range(N+1):\n",
        "      if i==0 or i==N or j==0 or j==N:\n",
        "        lh_matrix[i,j]=0\n",
        "      else:\n",
        "        lh_matrix[i,j]=(h**2/2) * (((i)/N)**2 + ((j)/N)**2 - (i)/N - (j)/N - 3/2)\n",
        "  return lh_matrix"
      ],
      "execution_count": 0,
      "outputs": []
    },
    {
      "cell_type": "code",
      "metadata": {
        "id": "xL79kXSqSb7o",
        "colab_type": "code",
        "outputId": "cc265942-2143-467b-abea-1b1c1a600cf8",
        "colab": {
          "base_uri": "https://localhost:8080/",
          "height": 321
        }
      },
      "source": [
        "#Test l(N)\n",
        "print(\"When N = 8, the lh matrix is:\", l(8))"
      ],
      "execution_count": 6,
      "outputs": [
        {
          "output_type": "stream",
          "text": [
            "When N = 8, the lh matrix is: [[ 0.          0.          0.          0.          0.          0.\n",
            "   0.          0.          0.        ]\n",
            " [ 0.         -0.01342773 -0.01403809 -0.0144043  -0.01452637 -0.0144043\n",
            "  -0.01403809 -0.01342773  0.        ]\n",
            " [ 0.         -0.01403809 -0.01464844 -0.01501465 -0.01513672 -0.01501465\n",
            "  -0.01464844 -0.01403809  0.        ]\n",
            " [ 0.         -0.0144043  -0.01501465 -0.01538086 -0.01550293 -0.01538086\n",
            "  -0.01501465 -0.0144043   0.        ]\n",
            " [ 0.         -0.01452637 -0.01513672 -0.01550293 -0.015625   -0.01550293\n",
            "  -0.01513672 -0.01452637  0.        ]\n",
            " [ 0.         -0.0144043  -0.01501465 -0.01538086 -0.01550293 -0.01538086\n",
            "  -0.01501465 -0.0144043   0.        ]\n",
            " [ 0.         -0.01403809 -0.01464844 -0.01501465 -0.01513672 -0.01501465\n",
            "  -0.01464844 -0.01403809  0.        ]\n",
            " [ 0.         -0.01342773 -0.01403809 -0.0144043  -0.01452637 -0.0144043\n",
            "  -0.01403809 -0.01342773  0.        ]\n",
            " [ 0.          0.          0.          0.          0.          0.\n",
            "   0.          0.          0.        ]]\n"
          ],
          "name": "stdout"
        }
      ]
    },
    {
      "cell_type": "code",
      "metadata": {
        "id": "qvzOEUiVSb-X",
        "colab_type": "code",
        "colab": {}
      },
      "source": [
        "def initial_PDE_value(N):\n",
        "  u = np.zeros([N+1,N+1])\n",
        "  for i in range(N+1):\n",
        "    for j in range(N+1):\n",
        "      if i==0 or i==N or j==0 or j==N:\n",
        "        u[i, j]=((i/N-1/2)**2 + (j/N-1/2)**2)\n",
        "      else:\n",
        "        u[i, j] = 0\n",
        "  return u"
      ],
      "execution_count": 0,
      "outputs": []
    },
    {
      "cell_type": "code",
      "metadata": {
        "id": "jvNKr-F6ScBU",
        "colab_type": "code",
        "outputId": "8b91b57d-c58f-41a8-ba90-fd99d9002827",
        "colab": {
          "base_uri": "https://localhost:8080/",
          "height": 321
        }
      },
      "source": [
        "#Test initial PDE value\n",
        "print(\"The initial vaule of the PDE is:\", initial_PDE_value(8))"
      ],
      "execution_count": 8,
      "outputs": [
        {
          "output_type": "stream",
          "text": [
            "The initial vaule of the PDE is: [[0.5      0.390625 0.3125   0.265625 0.25     0.265625 0.3125   0.390625\n",
            "  0.5     ]\n",
            " [0.390625 0.       0.       0.       0.       0.       0.       0.\n",
            "  0.390625]\n",
            " [0.3125   0.       0.       0.       0.       0.       0.       0.\n",
            "  0.3125  ]\n",
            " [0.265625 0.       0.       0.       0.       0.       0.       0.\n",
            "  0.265625]\n",
            " [0.25     0.       0.       0.       0.       0.       0.       0.\n",
            "  0.25    ]\n",
            " [0.265625 0.       0.       0.       0.       0.       0.       0.\n",
            "  0.265625]\n",
            " [0.3125   0.       0.       0.       0.       0.       0.       0.\n",
            "  0.3125  ]\n",
            " [0.390625 0.       0.       0.       0.       0.       0.       0.\n",
            "  0.390625]\n",
            " [0.5      0.390625 0.3125   0.265625 0.25     0.265625 0.3125   0.390625\n",
            "  0.5     ]]\n"
          ],
          "name": "stdout"
        }
      ]
    },
    {
      "cell_type": "code",
      "metadata": {
        "id": "S205Ud_bScO1",
        "colab_type": "code",
        "colab": {}
      },
      "source": [
        "def F(N,u):\n",
        "  g = gamma(N)\n",
        "  lh = l(N)\n",
        "  h = 1/N\n",
        "  v = np.zeros([N+1,N+1])\n",
        "  for i in range(N+1):\n",
        "    for j in range(N+1):\n",
        "      if i==0 or i==N or j==0 or j==N:\n",
        "        v[i,j]=u[i,j]\n",
        "      else:\n",
        "        v[i,j]=g*(lh[i,j] + (1/4) * (u[i+1,j]+u[i,j+1]+u[i-1,j]+u[i,j-1]))\n",
        "  return v"
      ],
      "execution_count": 0,
      "outputs": []
    },
    {
      "cell_type": "code",
      "metadata": {
        "id": "RvZNh5EXSvNA",
        "colab_type": "code",
        "outputId": "2292e4a5-3a4d-42cb-a3c5-4803bce9910c",
        "colab": {
          "base_uri": "https://localhost:8080/",
          "height": 321
        }
      },
      "source": [
        "#Test interation function\n",
        "print(\"The outcome is:\", F(8, initial_PDE_value(8)))"
      ],
      "execution_count": 11,
      "outputs": [
        {
          "output_type": "stream",
          "text": [
            "The outcome is: [[ 0.5         0.390625    0.3125      0.265625    0.25        0.265625\n",
            "   0.3125      0.390625    0.5       ]\n",
            " [ 0.390625    0.18047481  0.06359012  0.05159884  0.04760174  0.05159884\n",
            "   0.06359012  0.18047481  0.390625  ]\n",
            " [ 0.3125      0.06359012 -0.01453488 -0.01489826 -0.01501938 -0.01489826\n",
            "  -0.01453488  0.06359012  0.3125    ]\n",
            " [ 0.265625    0.05159884 -0.01489826 -0.01526163 -0.01538275 -0.01526163\n",
            "  -0.01489826  0.05159884  0.265625  ]\n",
            " [ 0.25        0.04760174 -0.01501938 -0.01538275 -0.01550388 -0.01538275\n",
            "  -0.01501938  0.04760174  0.25      ]\n",
            " [ 0.265625    0.05159884 -0.01489826 -0.01526163 -0.01538275 -0.01526163\n",
            "  -0.01489826  0.05159884  0.265625  ]\n",
            " [ 0.3125      0.06359012 -0.01453488 -0.01489826 -0.01501938 -0.01489826\n",
            "  -0.01453488  0.06359012  0.3125    ]\n",
            " [ 0.390625    0.18047481  0.06359012  0.05159884  0.04760174  0.05159884\n",
            "   0.06359012  0.18047481  0.390625  ]\n",
            " [ 0.5         0.390625    0.3125      0.265625    0.25        0.265625\n",
            "   0.3125      0.390625    0.5       ]]\n"
          ],
          "name": "stdout"
        }
      ]
    },
    {
      "cell_type": "code",
      "metadata": {
        "id": "E1WXOXYPSvP3",
        "colab_type": "code",
        "colab": {}
      },
      "source": [
        "# Define value iteration function\n",
        "def value_iteration(eps_hat,N):\n",
        "  v = initial_PDE_value(N)\n",
        "  flag = 1\n",
        "  n = 0\n",
        "  while flag:\n",
        "    n+=1\n",
        "    u=v\n",
        "    v=F(N,u)\n",
        "    eps=np.max(np.abs(u-v))\n",
        "    if eps<eps_hat:\n",
        "      flag=0\n",
        "  return [eps,n,v]"
      ],
      "execution_count": 0,
      "outputs": []
    },
    {
      "cell_type": "code",
      "metadata": {
        "id": "ogftZlxJSvSQ",
        "colab_type": "code",
        "outputId": "16af93cd-1d50-4424-b7e8-21042bbba7e0",
        "colab": {
          "base_uri": "https://localhost:8080/",
          "height": 321
        }
      },
      "source": [
        "#Test value interation function\n",
        "print(\"The outcome is:\", value_iteration(0.0001, 8))"
      ],
      "execution_count": 13,
      "outputs": [
        {
          "output_type": "stream",
          "text": [
            "The outcome is: [9.14354904360086e-05, 58, array([[ 0.5       ,  0.390625  ,  0.3125    ,  0.265625  ,  0.25      ,\n",
            "         0.265625  ,  0.3125    ,  0.390625  ,  0.5       ],\n",
            "       [ 0.390625  ,  0.28111535,  0.20288037,  0.15592491,  0.14027904,\n",
            "         0.15592491,  0.20288037,  0.28111535,  0.390625  ],\n",
            "       [ 0.3125    ,  0.20288037,  0.12454026,  0.0775344 ,  0.06184983,\n",
            "         0.0775344 ,  0.12454026,  0.20288037,  0.3125    ],\n",
            "       [ 0.265625  ,  0.15592491,  0.0775344 ,  0.03046517,  0.01478977,\n",
            "         0.03046517,  0.0775344 ,  0.15592491,  0.265625  ],\n",
            "       [ 0.25      ,  0.14027904,  0.06184983,  0.01478977, -0.00091948,\n",
            "         0.01478977,  0.06184983,  0.14027904,  0.25      ],\n",
            "       [ 0.265625  ,  0.15592491,  0.0775344 ,  0.03046517,  0.01478977,\n",
            "         0.03046517,  0.0775344 ,  0.15592491,  0.265625  ],\n",
            "       [ 0.3125    ,  0.20288037,  0.12454026,  0.0775344 ,  0.06184983,\n",
            "         0.0775344 ,  0.12454026,  0.20288037,  0.3125    ],\n",
            "       [ 0.390625  ,  0.28111535,  0.20288037,  0.15592491,  0.14027904,\n",
            "         0.15592491,  0.20288037,  0.28111535,  0.390625  ],\n",
            "       [ 0.5       ,  0.390625  ,  0.3125    ,  0.265625  ,  0.25      ,\n",
            "         0.265625  ,  0.3125    ,  0.390625  ,  0.5       ]])]\n"
          ],
          "name": "stdout"
        }
      ]
    },
    {
      "cell_type": "code",
      "metadata": {
        "id": "8HM9iU-kSvU1",
        "colab_type": "code",
        "colab": {}
      },
      "source": [
        "# Define the exact solution of PDE\n",
        "def exact_PDE_value(N):\n",
        "  v_exact_value=np.zeros([N+1,N+1])\n",
        "  for i in range(N+1):\n",
        "    for j in range(N+1):\n",
        "      v_exact_value[i,j]=(i/N-1/2)**2 + (j/N-1/2)**2\n",
        "  return v_exact_value"
      ],
      "execution_count": 0,
      "outputs": []
    },
    {
      "cell_type": "code",
      "metadata": {
        "id": "s87e7HGPSvXb",
        "colab_type": "code",
        "outputId": "90dd73f7-5736-427f-f399-984e73c7b241",
        "colab": {
          "base_uri": "https://localhost:8080/",
          "height": 321
        }
      },
      "source": [
        "#Test exact solution of PDE\n",
        "print(\"The outcome is:\" , exact_PDE_value(8))"
      ],
      "execution_count": 16,
      "outputs": [
        {
          "output_type": "stream",
          "text": [
            "The outcome is: [[0.5      0.390625 0.3125   0.265625 0.25     0.265625 0.3125   0.390625\n",
            "  0.5     ]\n",
            " [0.390625 0.28125  0.203125 0.15625  0.140625 0.15625  0.203125 0.28125\n",
            "  0.390625]\n",
            " [0.3125   0.203125 0.125    0.078125 0.0625   0.078125 0.125    0.203125\n",
            "  0.3125  ]\n",
            " [0.265625 0.15625  0.078125 0.03125  0.015625 0.03125  0.078125 0.15625\n",
            "  0.265625]\n",
            " [0.25     0.140625 0.0625   0.015625 0.       0.015625 0.0625   0.140625\n",
            "  0.25    ]\n",
            " [0.265625 0.15625  0.078125 0.03125  0.015625 0.03125  0.078125 0.15625\n",
            "  0.265625]\n",
            " [0.3125   0.203125 0.125    0.078125 0.0625   0.078125 0.125    0.203125\n",
            "  0.3125  ]\n",
            " [0.390625 0.28125  0.203125 0.15625  0.140625 0.15625  0.203125 0.28125\n",
            "  0.390625]\n",
            " [0.5      0.390625 0.3125   0.265625 0.25     0.265625 0.3125   0.390625\n",
            "  0.5     ]]\n"
          ],
          "name": "stdout"
        }
      ]
    },
    {
      "cell_type": "code",
      "metadata": {
        "id": "-6Xxnp5lSvaB",
        "colab_type": "code",
        "outputId": "61141372-9934-46b9-9748-ebed99e583d2",
        "colab": {
          "base_uri": "https://localhost:8080/",
          "height": 34
        }
      },
      "source": [
        "error = np.max(np.abs(value_iteration(0.0001,2**3)[2]-exact_PDE_value(2**3)))\n",
        "print(\"When h=\",2**3,\", the maxnorm of error is:\", error)"
      ],
      "execution_count": 17,
      "outputs": [
        {
          "output_type": "stream",
          "text": [
            "When h= 8 , the maxnorm of error is: 0.0009194811677614096\n"
          ],
          "name": "stdout"
        }
      ]
    },
    {
      "cell_type": "code",
      "metadata": {
        "id": "dUZQdDN3rxsc",
        "colab_type": "code",
        "colab": {}
      },
      "source": [
        ""
      ],
      "execution_count": 0,
      "outputs": []
    }
  ]
}