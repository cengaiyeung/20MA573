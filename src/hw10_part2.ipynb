{
  "nbformat": 4,
  "nbformat_minor": 0,
  "metadata": {
    "colab": {
      "name": "Untitled9.ipynb",
      "provenance": [],
      "authorship_tag": "ABX9TyP8xgfsvQGePEyjEm65LEKZ",
      "include_colab_link": true
    },
    "kernelspec": {
      "name": "python3",
      "display_name": "Python 3"
    }
  },
  "cells": [
    {
      "cell_type": "markdown",
      "metadata": {
        "id": "view-in-github",
        "colab_type": "text"
      },
      "source": [
        "<a href=\"https://colab.research.google.com/github/cengaiyeung/20MA573/blob/master/src/hw10_part2.ipynb\" target=\"_parent\"><img src=\"https://colab.research.google.com/assets/colab-badge.svg\" alt=\"Open In Colab\"/></a>"
      ]
    },
    {
      "cell_type": "markdown",
      "metadata": {
        "id": "ARNBqwjZJEtH",
        "colab_type": "text"
      },
      "source": [
        "# HW 10\n",
        "\n",
        "Consider 2-d PDE\n",
        "$$\\frac{1}{2} \\Delta v(x) - v(x) + x_{1}^2 + x_{2}^2 - x_{1} - x_{2} - \\frac{3}{2} = 0, x \\in O=(0,1)^2$$\n",
        "with its boundary data\n",
        "$$v(x) = (x_{1} - \\frac{1}{2})^2 + (x_{2} - \\frac{1}{2})^2, x \\in O.$$\n",
        "The exact solution is \n",
        "$$v(x) = (x_{1} - \\frac{1}{2})^2 + (x_{2} - \\frac{1}{2})^2.$$\n",
        "- Idendify $MRP$ with $CFD$ in the form of , \n",
        "$$v(x) = \\gamma \\{ \\ell ^h (x) + \\sum_{i=1}^{d} p^h (x + he_{i}|x)v(x + he_{i}) + p^h(x-he_{i}|x)v(x - he_{i}) \\}.$$\n",
        "- For h=1/8, compute CFD solution by value iteration.\n",
        "- For h=1/8, compute CFD solution by Monte-Carlo method.\n",
        "- For h=1/8, compute CFD solution by TD method.\n",
        "- Compare above three methodsand conclude your observations."
      ]
    },
    {
      "cell_type": "markdown",
      "metadata": {
        "id": "ZXWuzEdFL7On",
        "colab_type": "text"
      },
      "source": [
        "- For h=1/8, compute CFD solution by value iteration."
      ]
    },
    {
      "cell_type": "code",
      "metadata": {
        "id": "bM8sZtPwI7tZ",
        "colab_type": "code",
        "colab": {}
      },
      "source": [
        ""
      ],
      "execution_count": 0,
      "outputs": []
    },
    {
      "cell_type": "markdown",
      "metadata": {
        "id": "1mVnFL8-QTqg",
        "colab_type": "text"
      },
      "source": [
        "- For h=1/8, compute CFD solution by Monte-Carlo method.\n"
      ]
    },
    {
      "cell_type": "code",
      "metadata": {
        "id": "PnZR03JpQVlP",
        "colab_type": "code",
        "colab": {}
      },
      "source": [
        ""
      ],
      "execution_count": 0,
      "outputs": []
    },
    {
      "cell_type": "markdown",
      "metadata": {
        "id": "uqKYyVVSQWI0",
        "colab_type": "text"
      },
      "source": [
        "- For h=1/8, compute CFD solution by TD method.\n"
      ]
    },
    {
      "cell_type": "code",
      "metadata": {
        "id": "UHdSPAqZQa4I",
        "colab_type": "code",
        "colab": {}
      },
      "source": [
        ""
      ],
      "execution_count": 0,
      "outputs": []
    },
    {
      "cell_type": "markdown",
      "metadata": {
        "id": "mJzPD7kiQbXs",
        "colab_type": "text"
      },
      "source": [
        "- Compare above three methodsand conclude your observations."
      ]
    },
    {
      "cell_type": "code",
      "metadata": {
        "id": "tG_quv8_QdFI",
        "colab_type": "code",
        "colab": {}
      },
      "source": [
        ""
      ],
      "execution_count": 0,
      "outputs": []
    }
  ]
}