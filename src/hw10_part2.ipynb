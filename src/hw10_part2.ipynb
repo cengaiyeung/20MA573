{
  "nbformat": 4,
  "nbformat_minor": 0,
  "metadata": {
    "colab": {
      "name": "Untitled9.ipynb",
      "provenance": [],
      "authorship_tag": "ABX9TyOZjJ/lzBXy0tdoWUOTw+lA",
      "include_colab_link": true
    },
    "kernelspec": {
      "name": "python3",
      "display_name": "Python 3"
    }
  },
  "cells": [
    {
      "cell_type": "markdown",
      "metadata": {
        "id": "view-in-github",
        "colab_type": "text"
      },
      "source": [
        "<a href=\"https://colab.research.google.com/github/cengaiyeung/20MA573/blob/master/src/hw10_part2.ipynb\" target=\"_parent\"><img src=\"https://colab.research.google.com/assets/colab-badge.svg\" alt=\"Open In Colab\"/></a>"
      ]
    },
    {
      "cell_type": "markdown",
      "metadata": {
        "id": "ARNBqwjZJEtH",
        "colab_type": "text"
      },
      "source": [
        "# HW 10\n",
        "\n",
        "Consider 2-d PDE\n",
        "$$\\frac{1}{2} \\Delta v(x) - v(x) + x_{1}^2 + x_{2}^2 - x_{1} - x_{2} - \\frac{3}{2} = 0, x \\in O=(0,1)^2$$\n",
        "with its boundary data\n",
        "$$v(x) = (x_{1} - \\frac{1}{2})^2 + (x_{2} - \\frac{1}{2})^2, x \\in O.$$\n",
        "The exact solution is \n",
        "$$v(x) = (x_{1} - \\frac{1}{2})^2 + (x_{2} - \\frac{1}{2})^2.$$\n",
        "- Idendify $MRP$ with $CFD$ in the form of , \n",
        "$$v(x) = \\gamma \\{ \\ell ^h (x) + \\sum_{i=1}^{d} p^h (x + he_{i}|x)v(x + he_{i}) + p^h(x-he_{i}|x)v(x - he_{i}) \\}.$$\n",
        "- For h=1/8, compute CFD solution by value iteration.\n",
        "- For h=1/8, compute CFD solution by Monte-Carlo method.\n",
        "- For h=1/8, compute CFD solution by TD method.\n",
        "- Compare above three methodsand conclude your observations."
      ]
    },
    {
      "cell_type": "markdown",
      "metadata": {
        "id": "zd2jLJ_We7C9",
        "colab_type": "text"
      },
      "source": [
        "- Idendify $MRP$ with $CFD$ in the form of , \n",
        "$$v(x) = \\gamma \\{ \\ell ^h (x) + \\sum_{i=1}^{d} p^h (x + he_{i}|x)v(x + he_{i}) + p^h(x-he_{i}|x)v(x - he_{i}) \\}.$$\n",
        "\n",
        "# Pf:\n",
        "In last class, we have proved that \n",
        "$$\\gamma = \\frac{2}{2+h^2}, $$\n",
        "$$\\ell ^{h}(x) = \\frac{h^2}{2}(x_{1}^2 + x_{2}^2 - x_{1} - x_{2} - \\frac{3}{2}),$$\n",
        "$$p^h(x \\pm he_{i}|x) = \\frac{1}{4}$$\n",
        "Then we know the transition probability is \n",
        "$$p(s, s^{'})=\n",
        "\\begin{cases}\n",
        "\\frac{1}{4}, & \\|s - s^{'}\\| = 1 \\\\\n",
        "0,& otherwise.\n",
        "\\end{cases}$$\n",
        "\n",
        "And the reward function is\n",
        "\n",
        "$$R(s) = \\gamma l^{h}(x) = \\frac{h^{2}}{2+h^{2}} [(x_{1} - \\frac{1}{2})^{2} + (x_{2} - \\frac{1}{2})^{2} -2].$$\n"
      ]
    },
    {
      "cell_type": "markdown",
      "metadata": {
        "id": "ZXWuzEdFL7On",
        "colab_type": "text"
      },
      "source": [
        "- For h=1/8, compute CFD solution by value iteration."
      ]
    },
    {
      "cell_type": "code",
      "metadata": {
        "id": "bM8sZtPwI7tZ",
        "colab_type": "code",
        "colab": {}
      },
      "source": [
        "import numpy as np\n",
        "import matplotlib.pyplot as plt"
      ],
      "execution_count": 0,
      "outputs": []
    },
    {
      "cell_type": "code",
      "metadata": {
        "id": "zurSRnXpSbxg",
        "colab_type": "code",
        "colab": {}
      },
      "source": [
        "\n",
        "def gamma(N):\n",
        "  h = 1/N\n",
        "  gamma = 2/(2+h**2)\n",
        "  return gamma"
      ],
      "execution_count": 0,
      "outputs": []
    },
    {
      "cell_type": "code",
      "metadata": {
        "id": "rn2l5UoOSb0p",
        "colab_type": "code",
        "colab": {
          "base_uri": "https://localhost:8080/",
          "height": 34
        },
        "outputId": "8cde91a6-3ea8-47e0-e4ac-e0d4ab49b290"
      },
      "source": [
        "#Test gamma\n",
        "print(\"When N = 4, the gamma is\", gamma(4))"
      ],
      "execution_count": 3,
      "outputs": [
        {
          "output_type": "stream",
          "text": [
            "When N = 4, the gamma is 0.9696969696969697\n"
          ],
          "name": "stdout"
        }
      ]
    },
    {
      "cell_type": "code",
      "metadata": {
        "id": "t2Duuz1rSb4o",
        "colab_type": "code",
        "colab": {}
      },
      "source": [
        "def l(N):\n",
        "  lh_matrix = np.zeros([N+1,N+1])\n",
        "  h = 1/N\n",
        "  for i in range(N+1):\n",
        "    for j in range(N+1):\n",
        "      if i==0 or i==N or j==0 or j==N:\n",
        "        lh_matrix[i,j]=0\n",
        "      else:\n",
        "        lh_matrix[i,j]=(h**2/2) * (((i)/N)**2 + ((j)/N)**2 - (i)/N - (j)/N - 3/2)\n",
        "  return lh_matrix"
      ],
      "execution_count": 0,
      "outputs": []
    },
    {
      "cell_type": "code",
      "metadata": {
        "id": "xL79kXSqSb7o",
        "colab_type": "code",
        "colab": {
          "base_uri": "https://localhost:8080/",
          "height": 101
        },
        "outputId": "cbcdb06b-6c52-4981-bdee-96a785fb7729"
      },
      "source": [
        "#Test l(N)\n",
        "print(\"When N = 4, the lh matrix is:\", l(4))"
      ],
      "execution_count": 5,
      "outputs": [
        {
          "output_type": "stream",
          "text": [
            "When N = 4, the lh matrix is: [[ 0.          0.          0.          0.          0.        ]\n",
            " [ 0.         -0.05859375 -0.06054688 -0.05859375  0.        ]\n",
            " [ 0.         -0.06054688 -0.0625     -0.06054688  0.        ]\n",
            " [ 0.         -0.05859375 -0.06054688 -0.05859375  0.        ]\n",
            " [ 0.          0.          0.          0.          0.        ]]\n"
          ],
          "name": "stdout"
        }
      ]
    },
    {
      "cell_type": "code",
      "metadata": {
        "id": "qvzOEUiVSb-X",
        "colab_type": "code",
        "colab": {}
      },
      "source": [
        "def initial_PDE_value(N):\n",
        "  u = np.zeros([N+1,N+1])\n",
        "  for i in range(N+1):\n",
        "    for j in range(N+1):\n",
        "      if i==0 or i==N or j==0 or j==N:\n",
        "        u[i, j]=((i/N-1/2)**2 + (j/N-1/2)**2)\n",
        "      else:\n",
        "        u[i, j] = 0\n",
        "  return u"
      ],
      "execution_count": 0,
      "outputs": []
    },
    {
      "cell_type": "code",
      "metadata": {
        "id": "jvNKr-F6ScBU",
        "colab_type": "code",
        "colab": {
          "base_uri": "https://localhost:8080/",
          "height": 101
        },
        "outputId": "41f2419d-2127-4916-f772-a66073a5d524"
      },
      "source": [
        "#Test initial PDE value\n",
        "print(\"The initial vaule of the PDE is:\", initial_PDE_value(4))"
      ],
      "execution_count": 7,
      "outputs": [
        {
          "output_type": "stream",
          "text": [
            "The initial vaule of the PDE is: [[0.5    0.3125 0.25   0.3125 0.5   ]\n",
            " [0.3125 0.     0.     0.     0.3125]\n",
            " [0.25   0.     0.     0.     0.25  ]\n",
            " [0.3125 0.     0.     0.     0.3125]\n",
            " [0.5    0.3125 0.25   0.3125 0.5   ]]\n"
          ],
          "name": "stdout"
        }
      ]
    },
    {
      "cell_type": "code",
      "metadata": {
        "id": "S205Ud_bScO1",
        "colab_type": "code",
        "colab": {}
      },
      "source": [
        "def F(N,u):\n",
        "  g = gamma(N)\n",
        "  lh = l(N)\n",
        "  h = 1/N\n",
        "  v = np.zeros([N+1,N+1])\n",
        "  for i in range(N+1):\n",
        "    for j in range(N+1):\n",
        "      if i==0 or i==N or j==0 or j==N:\n",
        "        v[i,j]=u[i,j]\n",
        "      else:\n",
        "        v[i,j]=g*(lh[i,j] + (1/4) * (u[i+1,j]+u[i,j+1]+u[i-1,j]+u[i,j-1]))\n",
        "  return v"
      ],
      "execution_count": 0,
      "outputs": []
    },
    {
      "cell_type": "code",
      "metadata": {
        "id": "RvZNh5EXSvNA",
        "colab_type": "code",
        "colab": {
          "base_uri": "https://localhost:8080/",
          "height": 101
        },
        "outputId": "25efc6f5-50c8-4be7-ca6f-7f758fe36de4"
      },
      "source": [
        "#Test interation function\n",
        "print(\"The outcome is:\", F(4, initial_PDE_value(4)))"
      ],
      "execution_count": 10,
      "outputs": [
        {
          "output_type": "stream",
          "text": [
            "The outcome is: [[ 0.5         0.3125      0.25        0.3125      0.5       ]\n",
            " [ 0.3125      0.09469697  0.00189394  0.09469697  0.3125    ]\n",
            " [ 0.25        0.00189394 -0.06060606  0.00189394  0.25      ]\n",
            " [ 0.3125      0.09469697  0.00189394  0.09469697  0.3125    ]\n",
            " [ 0.5         0.3125      0.25        0.3125      0.5       ]]\n"
          ],
          "name": "stdout"
        }
      ]
    },
    {
      "cell_type": "code",
      "metadata": {
        "id": "E1WXOXYPSvP3",
        "colab_type": "code",
        "colab": {}
      },
      "source": [
        "# Define value iteration function\n",
        "def value_iteration(eps_hat,N):\n",
        "  v = initial_PDE_value(N)\n",
        "  flag = 1\n",
        "  n = 0\n",
        "  while flag:\n",
        "    n+=1\n",
        "    u=v\n",
        "    v=F(N,u)\n",
        "    eps=np.max(np.abs(u-v))\n",
        "    if eps<eps_hat:\n",
        "      flag=0\n",
        "  return [eps,n,v]"
      ],
      "execution_count": 0,
      "outputs": []
    },
    {
      "cell_type": "code",
      "metadata": {
        "id": "ogftZlxJSvSQ",
        "colab_type": "code",
        "colab": {
          "base_uri": "https://localhost:8080/",
          "height": 186
        },
        "outputId": "b4a74773-2657-4bee-e5a4-a88734a7ff87"
      },
      "source": [
        "#Test value interation function\n",
        "print(\"The outcome is:\", value_iteration(0.0001, 4))"
      ],
      "execution_count": 12,
      "outputs": [
        {
          "output_type": "stream",
          "text": [
            "The outcome is: [7.453970798632081e-05, 18, array([[ 5.00000000e-01,  3.12500000e-01,  2.50000000e-01,\n",
            "         3.12500000e-01,  5.00000000e-01],\n",
            "       [ 3.12500000e-01,  1.24929845e-01,  6.24298450e-02,\n",
            "         1.24929845e-01,  3.12500000e-01],\n",
            "       [ 2.50000000e-01,  6.24298450e-02, -1.40310039e-04,\n",
            "         6.24298450e-02,  2.50000000e-01],\n",
            "       [ 3.12500000e-01,  1.24929845e-01,  6.24298450e-02,\n",
            "         1.24929845e-01,  3.12500000e-01],\n",
            "       [ 5.00000000e-01,  3.12500000e-01,  2.50000000e-01,\n",
            "         3.12500000e-01,  5.00000000e-01]])]\n"
          ],
          "name": "stdout"
        }
      ]
    },
    {
      "cell_type": "code",
      "metadata": {
        "id": "8HM9iU-kSvU1",
        "colab_type": "code",
        "colab": {}
      },
      "source": [
        "# Define the exact solution of PDE\n",
        "def exact_PDE_value(N):\n",
        "  v_exact_value=np.zeros([N+1,N+1])\n",
        "  for i in range(N+1):\n",
        "    for j in range(N+1):\n",
        "      v_exact_value[i,j]=(i/N-1/2)**2 + (j/N-1/2)**2\n",
        "  return v_exact_value"
      ],
      "execution_count": 0,
      "outputs": []
    },
    {
      "cell_type": "code",
      "metadata": {
        "id": "s87e7HGPSvXb",
        "colab_type": "code",
        "colab": {
          "base_uri": "https://localhost:8080/",
          "height": 101
        },
        "outputId": "07b7e3d1-0690-4191-f6f9-d1f757f05a3d"
      },
      "source": [
        "#Test exact solution of PDE\n",
        "print(\"The outcome is:\" , exact_PDE_value(4))"
      ],
      "execution_count": 14,
      "outputs": [
        {
          "output_type": "stream",
          "text": [
            "The outcome is: [[0.5    0.3125 0.25   0.3125 0.5   ]\n",
            " [0.3125 0.125  0.0625 0.125  0.3125]\n",
            " [0.25   0.0625 0.     0.0625 0.25  ]\n",
            " [0.3125 0.125  0.0625 0.125  0.3125]\n",
            " [0.5    0.3125 0.25   0.3125 0.5   ]]\n"
          ],
          "name": "stdout"
        }
      ]
    },
    {
      "cell_type": "code",
      "metadata": {
        "id": "-6Xxnp5lSvaB",
        "colab_type": "code",
        "colab": {
          "base_uri": "https://localhost:8080/",
          "height": 34
        },
        "outputId": "6d939ac1-2aa0-4b27-f0e3-4e06490a9abd"
      },
      "source": [
        "error = np.max(np.abs(value_iteration(0.0001,2**3)[2]-exact_PDE_value(2**3)))\n",
        "print(\"When h=\",2**3,\", the maxnorm of error is:\", error)"
      ],
      "execution_count": 16,
      "outputs": [
        {
          "output_type": "stream",
          "text": [
            "When h= 8 , the maxnorm of error is: 0.0009194811677614096\n"
          ],
          "name": "stdout"
        }
      ]
    },
    {
      "cell_type": "markdown",
      "metadata": {
        "id": "1mVnFL8-QTqg",
        "colab_type": "text"
      },
      "source": [
        "- For h=1/8, compute CFD solution by Monte-Carlo method.\n"
      ]
    },
    {
      "cell_type": "code",
      "metadata": {
        "id": "PnZR03JpQVlP",
        "colab_type": "code",
        "colab": {}
      },
      "source": [
        ""
      ],
      "execution_count": 0,
      "outputs": []
    },
    {
      "cell_type": "markdown",
      "metadata": {
        "id": "uqKYyVVSQWI0",
        "colab_type": "text"
      },
      "source": [
        "- For h=1/8, compute CFD solution by TD method.\n"
      ]
    },
    {
      "cell_type": "code",
      "metadata": {
        "id": "UHdSPAqZQa4I",
        "colab_type": "code",
        "colab": {}
      },
      "source": [
        ""
      ],
      "execution_count": 0,
      "outputs": []
    },
    {
      "cell_type": "markdown",
      "metadata": {
        "id": "mJzPD7kiQbXs",
        "colab_type": "text"
      },
      "source": [
        "- Compare above three methodsand conclude your observations."
      ]
    },
    {
      "cell_type": "code",
      "metadata": {
        "id": "tG_quv8_QdFI",
        "colab_type": "code",
        "colab": {}
      },
      "source": [
        ""
      ],
      "execution_count": 0,
      "outputs": []
    }
  ]
}