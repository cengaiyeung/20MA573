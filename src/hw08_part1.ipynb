{
  "nbformat": 4,
  "nbformat_minor": 0,
  "metadata": {
    "colab": {
      "name": "Untitled7.ipynb",
      "provenance": [],
      "authorship_tag": "ABX9TyO0Bs56M7ok9dJFZlsFGvzW",
      "include_colab_link": true
    },
    "kernelspec": {
      "name": "python3",
      "display_name": "Python 3"
    }
  },
  "cells": [
    {
      "cell_type": "markdown",
      "metadata": {
        "id": "view-in-github",
        "colab_type": "text"
      },
      "source": [
        "<a href=\"https://colab.research.google.com/github/cengaiyeung/20MA573/blob/master/src/hw08_part1.ipynb\" target=\"_parent\"><img src=\"https://colab.research.google.com/assets/colab-badge.svg\" alt=\"Open In Colab\"/></a>"
      ]
    },
    {
      "cell_type": "markdown",
      "metadata": {
        "id": "I_MtoPY1YjMu",
        "colab_type": "text"
      },
      "source": [
        "# HW 8\n",
        "\n",
        "Consider ODE\n",
        "\n",
        "\n",
        "$$- \\epsilon u^{''} + u = x, \\, \\forall x \\in (0, 1) \\, u(0) = u(1) = 0,$$\n",
        "\n",
        "with $\\epsilon = 10^{-10}$. \n",
        "\n",
        "Instead of FEM, we are going to discuss CFD solution of the above ODE. Answer the following questions:\n",
        "\n",
        "1. Prove that\n",
        "\n",
        "    $$u(x) = x - \\frac{\\exp (\\frac{x-1}{\\sqrt{\\epsilon}}) - \\exp (- \\frac{x+1}{\\sqrt{\\epsilon}})}{1 - \\exp(- \\frac{2}{\\sqrt{\\epsilon}})}$$\n",
        "\n",
        "   is the unique solution.\n",
        "\n",
        "2. Using CFD on above ODE, find out the matrix $L^{h}$ and vector $R^{h}f$, such that the numerical solution satisfies $L^{h}u^{h} = R^{h}f$.\n",
        "\n",
        "3. Prove the consistency and stability of $L^{h}$.\n",
        "\n",
        "4. Compute CFD solution $u^{h}$ with $h = \\frac{1}{5}$. Compare with the FEM solution of the paper, which one is better?\n"
      ]
    },
    {
      "cell_type": "markdown",
      "metadata": {
        "id": "GIvFA0yCacQT",
        "colab_type": "text"
      },
      "source": [
        "# 1. Pf:\n",
        "\n",
        "(1)Want to prove $u(x)$ is the solution of $- \\epsilon u^{''} + u = x, \\, \\forall x \\in (0, 1) \\, u(0) = u(1) = 0$\n",
        "   \n",
        "$$u'(x) = 1 - \\frac{\\exp (\\frac{x-1}{\\sqrt{\\epsilon}}) \\frac{1}{\\sqrt{\\epsilon}} - \\exp (- \\frac{x+1}{\\sqrt{\\epsilon}}) \\frac{1}{\\sqrt{\\epsilon}}}{1 - \\exp(- \\frac{2}{\\sqrt{\\epsilon}})}$$ \n",
        "$$u''(x) = - \\frac{\\exp (\\frac{x-1}{\\sqrt{\\epsilon}}) \\frac{1}{\\epsilon} - \\exp (- \\frac{x+1}{\\sqrt{\\epsilon}}) \\frac{1}{\\epsilon}}{1 - \\exp(- \\frac{2}{\\sqrt{\\epsilon}})}$$\n",
        "$$-\\epsilon u''(x) = \\frac{\\exp (\\frac{x-1}{\\sqrt{\\epsilon}})  - \\exp (- \\frac{x+1}{\\sqrt{\\epsilon}})} {1 - \\exp(- \\frac{2}{\\sqrt{\\epsilon}})}$$\n",
        "Then, we plug $u(x)$, $-\\epsilon u''(x)$ into the equation, we get \n",
        "$$\\frac{\\exp (\\frac{x-1}{\\sqrt{\\epsilon}})  - \\exp (- \\frac{x+1}{\\sqrt{\\epsilon}})} {1 - \\exp(- \\frac{2}{\\sqrt{\\epsilon}})} + x - \\frac{\\exp (\\frac{x-1}{\\sqrt{\\epsilon}})  - \\exp (- \\frac{x+1}{\\sqrt{\\epsilon}})} {1 - \\exp(- \\frac{2}{\\sqrt{\\epsilon}})} = x$$ "
      ]
    },
    {
      "cell_type": "markdown",
      "metadata": {
        "id": "Lnev1wvox12E",
        "colab_type": "text"
      },
      "source": [
        "# 5. The code is below: "
      ]
    },
    {
      "cell_type": "code",
      "metadata": {
        "id": "N4dx8mczx-7C",
        "colab_type": "code",
        "colab": {}
      },
      "source": [
        "import numpy as np\n",
        "import matplotlib.pyplot as plt\n",
        "import scipy.linalg as sl"
      ],
      "execution_count": 0,
      "outputs": []
    },
    {
      "cell_type": "code",
      "metadata": {
        "id": "BmOTSiglyw78",
        "colab_type": "code",
        "colab": {
          "base_uri": "https://localhost:8080/",
          "height": 34
        },
        "outputId": "a2515af0-0f34-4486-f53a-740c3d17489a"
      },
      "source": [
        "e = 10**(-10)\n",
        "s = 1 + 50 * e\n",
        "r = 25 * e\n",
        "Lh = np.array([[1, 0, 0 ,0, 0, 0], [-r, s, -r ,0, 0, 0],[0, -r, s, -r, 0, 0], [0, 0, -r, s, -r, 0],[0, 0, 0, -r, s, -r], [0, 0, 0 ,0, 0, 1]])\n",
        "Rh = np.array([0, 1/5, 2/5, 3/5, 4/5, 0])\n",
        "uh = sl.solve(Lh, Rh)\n",
        "print(uh)"
      ],
      "execution_count": 5,
      "outputs": [
        {
          "output_type": "stream",
          "text": [
            "[0.  0.2 0.4 0.6 0.8 0. ]\n"
          ],
          "name": "stdout"
        }
      ]
    },
    {
      "cell_type": "code",
      "metadata": {
        "id": "2iZDeHLX2IBI",
        "colab_type": "code",
        "colab": {}
      },
      "source": [
        "def ODE_value(x,e):\n",
        "  u = x - (np.exp((x-1)/np.sqrt(e)) - np.exp(-(x+1)/np.sqrt(e))) / (1 - np.exp(- 2 / np.sqrt(e)))\n",
        "  return u"
      ],
      "execution_count": 0,
      "outputs": []
    },
    {
      "cell_type": "code",
      "metadata": {
        "id": "eL6DNFud5eif",
        "colab_type": "code",
        "colab": {
          "base_uri": "https://localhost:8080/",
          "height": 34
        },
        "outputId": "af7f6787-8727-4646-a28c-4031f5a5f39d"
      },
      "source": [
        "n = 5\n",
        "N = n+1\n",
        "u_list = np.zeros(N)\n",
        "x = [0,1/5,2/5,3/5,4/5,1]\n",
        "for i in range(N):\n",
        "  u_list[i] = ODE_value(x[i], e)\n",
        "print(u_list)"
      ],
      "execution_count": 23,
      "outputs": [
        {
          "output_type": "stream",
          "text": [
            "[0.  0.2 0.4 0.6 0.8 0. ]\n"
          ],
          "name": "stdout"
        }
      ]
    },
    {
      "cell_type": "code",
      "metadata": {
        "id": "B1MPLqKm6H6W",
        "colab_type": "code",
        "colab": {
          "base_uri": "https://localhost:8080/",
          "height": 282
        },
        "outputId": "fb6f8235-b069-484e-88a9-66f302b5b74c"
      },
      "source": [
        "plt.plot(x,uh,'o',label='CFD value')\n",
        "plt.plot(x,u_list,label='ODE value')\n",
        "plt.legend"
      ],
      "execution_count": 24,
      "outputs": [
        {
          "output_type": "execute_result",
          "data": {
            "text/plain": [
              "<function matplotlib.pyplot.legend>"
            ]
          },
          "metadata": {
            "tags": []
          },
          "execution_count": 24
        },
        {
          "output_type": "display_data",
          "data": {
            "image/png": "[encoded data removed]",
            "text/plain": [
              "<Figure size 432x288 with 1 Axes>"
            ]
          },
          "metadata": {
            "tags": []
          }
        }
      ]
    },
    {
      "cell_type": "code",
      "metadata": {
        "id": "lkadOPod_tU2",
        "colab_type": "code",
        "colab": {}
      },
      "source": [
        ""
      ],
      "execution_count": 0,
      "outputs": []
    }
  ]
}