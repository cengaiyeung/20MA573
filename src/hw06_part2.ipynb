{
  "nbformat": 4,
  "nbformat_minor": 0,
  "metadata": {
    "colab": {
      "name": "hw06_part2.ipynb",
      "provenance": [],
      "authorship_tag": "ABX9TyOUJGz8lCLYENxoKIJU4dJi",
      "include_colab_link": true
    },
    "kernelspec": {
      "name": "python3",
      "display_name": "Python 3"
    }
  },
  "cells": [
    {
      "cell_type": "markdown",
      "metadata": {
        "id": "view-in-github",
        "colab_type": "text"
      },
      "source": [
        "<a href=\"https://colab.research.google.com/github/cengaiyeung/20MA573/blob/master/src/hw06_part2.ipynb\" target=\"_parent\"><img src=\"https://colab.research.google.com/assets/colab-badge.svg\" alt=\"Open In Colab\"/></a>"
      ]
    },
    {
      "cell_type": "markdown",
      "metadata": {
        "id": "VRqSA6JZA3ZZ",
        "colab_type": "text"
      },
      "source": [
        "## **SDE models**\n",
        "\n",
        "### **Geometric Brownian motion**\n",
        "\n",
        "We denote by $GBM(s, \\mu, \\sigma^{2})$ the dynamics\n",
        "\n",
        "$$dS_{t} = \\mu S_{t} \\, d t + \\sigma S_{t} \\, d W_{t}, \\, S_{0} = s$$\n",
        "\n",
        "Non-negativity of the GBM process is good for modeling stock price, namely BSM.\n",
        "\n",
        "#### **Example 1:**\n",
        "\n",
        "Find $\\log S_{t}$ for $S \\sim GBM(s, \\mu, \\sigma^{2})$."
      ]
    },
    {
      "cell_type": "markdown",
      "metadata": {
        "id": "CL8xIq3v7TvE",
        "colab_type": "text"
      },
      "source": [
        "Let $f(t,x) = \\ln x$, by Itô's formula, we know, \n",
        "$$df(t,X_{t}) = (\\frac{\\partial f}{\\partial t} + \\mu_{t} \\frac{\\partial f}{\\partial x} + \\frac{1}{2}\\sigma^2 \\frac{\\partial^2 f}{\\partial x^2})dt + \\sigma_{t}\\frac{\\partial f}{\\partial x}dW_{t}$$\n",
        "Since $dS_{t} = \\mu S_{t}dt + \\sigma S_{t}dW_{t}$, then we have, \n",
        "$$d \\ln S_{t} = \\Big( 0 + \\mu S_{t} \\frac{1}{S_{t}} + \\frac{1}{2} \\sigma^2 S_{t}^2(-\\frac{1}{S_{t}^2}) \\Big)dt + \\sigma S_{t} \\frac{1}{S_{t}}dW_{t}$$ \n",
        "Then, we have \n",
        "$$d\\ln S_{t} =(\\mu-\\frac{1}{2}\\sigma^2)dt + \\sigma dW_{t}$$\n",
        "Let $S_{0} = s$, then we have, \n",
        "$$\\ln S_{t} - \\ln s = \\int_{0}^{t} (\\mu - \\frac{1}{2} \\sigma^{2})du + \\int_{0}^{t}\\sigma dW_{u} = (\\mu -\\frac{1}{2} \\sigma^2)t + \\sigma W_{t}$$\n",
        "So, \n",
        "$$\\ln S_{t} = \\ln s + (\\mu -\\frac{1}{2} \\sigma^2)t + \\sigma W_{t}$$"
      ]
    },
    {
      "cell_type": "code",
      "metadata": {
        "id": "CoUv-QAOAzY4",
        "colab_type": "code",
        "colab": {}
      },
      "source": [
        ""
      ],
      "execution_count": 0,
      "outputs": []
    }
  ]
}