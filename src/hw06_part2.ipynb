{
  "nbformat": 4,
  "nbformat_minor": 0,
  "metadata": {
    "colab": {
      "name": "hw06_part2.ipynb",
      "provenance": [],
      "authorship_tag": "ABX9TyPPZikQh+q0X0ghsEgyR0fT",
      "include_colab_link": true
    },
    "kernelspec": {
      "name": "python3",
      "display_name": "Python 3"
    }
  },
  "cells": [
    {
      "cell_type": "markdown",
      "metadata": {
        "id": "view-in-github",
        "colab_type": "text"
      },
      "source": [
        "<a href=\"https://colab.research.google.com/github/cengaiyeung/20MA573/blob/master/src/hw06_part2.ipynb\" target=\"_parent\"><img src=\"https://colab.research.google.com/assets/colab-badge.svg\" alt=\"Open In Colab\"/></a>"
      ]
    },
    {
      "cell_type": "markdown",
      "metadata": {
        "id": "VRqSA6JZA3ZZ",
        "colab_type": "text"
      },
      "source": [
        "## **SDE models**\n",
        "\n",
        "### **Geometric Brownian motion**\n",
        "\n",
        "We denote by $GBM(s, \\mu, \\sigma^{2})$ the dynamics\n",
        "\n",
        "$$dS_{t} = \\mu S_{t} \\, d t + \\sigma S_{t} \\, d W_{t}, \\, S_{0} = s$$\n",
        "\n",
        "Non-negativity of the GBM process is good for modeling stock price, namely BSM.\n",
        "\n",
        "#### **Example 1:**\n",
        "\n",
        "Find $\\log S_{t}$ for $S \\sim GBM(s, \\mu, \\sigma^{2})$."
      ]
    },
    {
      "cell_type": "code",
      "metadata": {
        "id": "CoUv-QAOAzY4",
        "colab_type": "code",
        "colab": {}
      },
      "source": [
        ""
      ],
      "execution_count": 0,
      "outputs": []
    }
  ]
}