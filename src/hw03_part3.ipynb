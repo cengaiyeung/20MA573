{
  "nbformat": 4,
  "nbformat_minor": 0,
  "metadata": {
    "colab": {
      "name": "hw03_part3.ipynb",
      "provenance": [],
      "authorship_tag": "ABX9TyNnjsFAn8LoCRY8zegbHgY6",
      "include_colab_link": true
    },
    "kernelspec": {
      "name": "python3",
      "display_name": "Python 3"
    }
  },
  "cells": [
    {
      "cell_type": "markdown",
      "metadata": {
        "id": "view-in-github",
        "colab_type": "text"
      },
      "source": [
        "<a href=\"https://colab.research.google.com/github/cengaiyeung/20MA573/blob/master/src/hw03_part3.ipynb\" target=\"_parent\"><img src=\"https://colab.research.google.com/assets/colab-badge.svg\" alt=\"Open In Colab\"/></a>"
      ]
    },
    {
      "cell_type": "markdown",
      "metadata": {
        "id": "Yu4M-Wv2Z2Ct",
        "colab_type": "text"
      },
      "source": [
        "- Prove the following facts: Supose $f$ is a function satisfying\n",
        "  - $f(0) = f_{min},$ and $\\lim_{x\\to \\infty}f(x) =  f_{max}$\n",
        "  - $f$ is continuous\n",
        "  - $f$ is strictly increasing\n",
        "  \n",
        "  then, for any $p\\in  (f_{min}, f_{max})$, \n",
        "  - there exists unique $\\hat \\sigma$, such that $f(\\hat \\sigma) = p$ and  \n",
        "  $$\\hat \\sigma = argmin_{\\sigma\\in (0,\\infty)} | f(\\sigma) - p|.$$"
      ]
    },
    {
      "cell_type": "markdown",
      "metadata": {
        "id": "Vfd4KFGYiM3U",
        "colab_type": "text"
      },
      "source": [
        ""
      ]
    },
    {
      "cell_type": "markdown",
      "metadata": {
        "id": "uHdg_ZbNh_Zu",
        "colab_type": "text"
      },
      "source": [
        "- Now we denote by $f(\\sigma)$ the BSM put price with the following parameters:\n",
        "  - vol_ratio = $\\sigma$; spot_price = 100.; drift_ratio = .0475; strike = 110.; maturity = 1.\n",
        "  \n",
        "  Answer the following questions:\n",
        "  \n",
        "  - What is $f_{min}$ and $f_{max}$?\n",
        "\n",
        "  - Is $f$ strictly increasing on $(0,\\infty)$? Justify your answer.\n",
        "\n",
        "  - If the market put price is $10$, then what's the implied volatility?"
      ]
    },
    {
      "cell_type": "code",
      "metadata": {
        "id": "YSHm80mMZyp1",
        "colab_type": "code",
        "colab": {}
      },
      "source": [
        "import numpy as np\n",
        "import scipy.stats as ss\n",
        "import matplotlib.pyplot as plt\n",
        "from pylab import plt\n",
        "plt.style.use('seaborn')\n",
        "%matplotlib inline\n",
        "\n",
        "'''=========\n",
        "option class init\n",
        "=========='''\n",
        "class VanillaOption:\n",
        "    def __init__(\n",
        "        self,\n",
        "        otype = 1, # 1: 'call'\n",
        "                  # -1: 'put'\n",
        "        strike = 110.,\n",
        "        maturity = 1.,\n",
        "        market_price = 10.):\n",
        "      self.otype = otype\n",
        "      self.strike = strike\n",
        "      self.maturity = maturity\n",
        "      self.market_price = market_price #this will be used for calibration\n",
        "      \n",
        "        \n",
        "    def payoff(self, s): #s: excercise price\n",
        "      otype = self.otype\n",
        "      k = self.strike\n",
        "      maturity = self.maturity\n",
        "      return max([0, (s - k)*otype])\n",
        "'''============\n",
        "Gbm class\n",
        "============='''\n",
        "\n",
        "class Gbm:\n",
        "    def __init__(self,\n",
        "                 init_state = 100.,\n",
        "                 drift_ratio = .0475,\n",
        "                 vol_ratio = .2\n",
        "                ):\n",
        "        self.init_state = init_state\n",
        "        self.drift_ratio = drift_ratio\n",
        "        self.vol_ratio = vol_ratio\n",
        "\n",
        "'''========\n",
        "Black-Scholes-Merton formula. \n",
        "=========='''\n",
        "\n",
        "def bsm_price(self, vanilla_option):\n",
        "    s0 = self.init_state\n",
        "    sigma = self.vol_ratio\n",
        "    r = self.drift_ratio\n",
        "    \n",
        "    otype = vanilla_option.otype\n",
        "    k = vanilla_option.strike\n",
        "    maturity = vanilla_option.maturity\n",
        "    \n",
        "    d1 = (np.log(s0 / k) + (r + 0.5 * sigma ** 2) \n",
        "          * maturity) / (sigma * np.sqrt(maturity))\n",
        "    d2 = d1 - sigma * np.sqrt(maturity)\n",
        "    \n",
        "    return (otype * s0 * ss.norm.cdf(otype * d1) #line break needs parenthesis\n",
        "            - otype * np.exp(-r * maturity) * k * ss.norm.cdf(otype * d2))\n",
        "\n",
        "Gbm.bsm_price = bsm_price"
      ],
      "execution_count": 0,
      "outputs": []
    },
    {
      "cell_type": "code",
      "metadata": {
        "id": "s8FVC17pjEVw",
        "colab_type": "code",
        "colab": {}
      },
      "source": [
        "gbm1 = Gbm(\n",
        "    init_state = 100., \n",
        "    drift_ratio = .0475,\n",
        "    vol_ratio = .2)\n",
        "option1 = VanillaOption(\n",
        "    otype = -1,\n",
        "    strike = 110.,                \n",
        "    maturity = 1.\n",
        ")    "
      ],
      "execution_count": 0,
      "outputs": []
    },
    {
      "cell_type": "code",
      "metadata": {
        "id": "JamEckRrjJCv",
        "colab_type": "code",
        "colab": {
          "base_uri": "https://localhost:8080/",
          "height": 34
        },
        "outputId": "84faa5ff-3d66-448c-eae9-6c9e3fecd40e"
      },
      "source": [
        "## define an error function\n",
        "def error_function(vol, gbm, option):\n",
        "  gbm.vol_ratio = vol\n",
        "  return abs(option.market_price - gbm.bsm_price(option))\n",
        "\n",
        "\n",
        "## define a method to seek for an implied volatility\n",
        "import scipy.optimize as so\n",
        "def implied_volatility(gbm, option):\n",
        "  init_vol = .1 #initial guess\n",
        "  return so.fmin(error_function, init_vol, \n",
        "                 args = (gbm, option), disp = 0)[0]\n",
        "\n",
        "## test the implied_vol by reversing bsm_formula example in the above\n",
        "option1.market_price = 10\n",
        "\n",
        "print('>>>>>>>>implied volatility is ' + \n",
        "     str(implied_volatility(gbm1, option1)))"
      ],
      "execution_count": 3,
      "outputs": [
        {
          "output_type": "stream",
          "text": [
            ">>>>>>>>implied volatility is 0.17867187500000026\n"
          ],
          "name": "stdout"
        }
      ]
    },
    {
      "cell_type": "markdown",
      "metadata": {
        "id": "nhM4cq3ch_ki",
        "colab_type": "text"
      },
      "source": [
        "- Find its implied volatility with the following parameters:\n",
        "  - BSM call price is 10.;  spot_price = 100.; drift_ratio = .0475; strike = 110.; maturity = 1."
      ]
    },
    {
      "cell_type": "code",
      "metadata": {
        "id": "Ih4fziSWjeB1",
        "colab_type": "code",
        "colab": {}
      },
      "source": [
        "gbm2 = Gbm(\n",
        "    init_state = 100., \n",
        "    drift_ratio = .0475,\n",
        "    vol_ratio = .2)\n",
        "option2 = VanillaOption(\n",
        "    otype = 1,\n",
        "    strike = 110.,                \n",
        "    maturity = 1.\n",
        ")"
      ],
      "execution_count": 0,
      "outputs": []
    },
    {
      "cell_type": "code",
      "metadata": {
        "id": "-vd19dWqjl9O",
        "colab_type": "code",
        "colab": {
          "base_uri": "https://localhost:8080/",
          "height": 34
        },
        "outputId": "fce1478e-840c-401c-e80a-160454b59319"
      },
      "source": [
        "## test the implied_vol by reversing bsm_formula example in the above\n",
        "option2.market_price = 10\n",
        "\n",
        "print('>>>>>>>>implied volatility is ' + \n",
        "     str(implied_volatility(gbm2, option2)))"
      ],
      "execution_count": 5,
      "outputs": [
        {
          "output_type": "stream",
          "text": [
            ">>>>>>>>implied volatility is 0.3020312500000007\n"
          ],
          "name": "stdout"
        }
      ]
    },
    {
      "cell_type": "code",
      "metadata": {
        "id": "puf0ZRJgjoos",
        "colab_type": "code",
        "colab": {}
      },
      "source": [
        ""
      ],
      "execution_count": 0,
      "outputs": []
    }
  ]
}