{
  "nbformat": 4,
  "nbformat_minor": 0,
  "metadata": {
    "colab": {
      "name": "Untitled11.ipynb",
      "provenance": [],
      "authorship_tag": "ABX9TyPWibVFTi1j6lnQzh9ny1rQ",
      "include_colab_link": true
    },
    "kernelspec": {
      "name": "python3",
      "display_name": "Python 3"
    }
  },
  "cells": [
    {
      "cell_type": "markdown",
      "metadata": {
        "id": "view-in-github",
        "colab_type": "text"
      },
      "source": [
        "<a href=\"https://colab.research.google.com/github/cengaiyeung/20MA573/blob/master/src/hw11_part1.ipynb\" target=\"_parent\"><img src=\"https://colab.research.google.com/assets/colab-badge.svg\" alt=\"Open In Colab\"/></a>"
      ]
    },
    {
      "cell_type": "markdown",
      "metadata": {
        "id": "VZeIwufPPTz7",
        "colab_type": "text"
      },
      "source": [
        "## **HW 11**\n",
        "Asset price under $\\mathbb Q$ follows\n",
        "$$S_{t} = S_{0} exp \\{ \\mu t + \\sigma W_{t} \\}$$\n",
        "Coonsider Digital put with payoff \n",
        "$$h(S_{T}) = I(S_{T} < S_{0}e^{-b})$$\n",
        "We want to find the forward price:\n",
        "$$v = \\mathbb E^{\\mathbb Q}[h(S_{T})]$$\n",
        "Parameters are given as \n",
        "$$r = .03, \\sigma = .2, \\mu = r - \\frac{1}{2} \\sigma^2 = .01, T = 1, b = .39$$\n",
        "- Prove that the exact price is 0.02275\n",
        "- Use $OMC$ find the price\n",
        "- Use $IS(\\alpha)$ find the price\n",
        "- Can you show your approach is optimal?\n",
        "- Prove or demonstrate $IS$ is more efficient to $OMC$"
      ]
    },
    {
      "cell_type": "markdown",
      "metadata": {
        "id": "rTUuMld7KjMG",
        "colab_type": "text"
      },
      "source": [
        "## (1)\n",
        "By the video, we have\n",
        "\\begin{equation}\n",
        "\\begin{aligned}\n",
        "v &= \\mathbb E^{\\mathbb Q}[h(S_{T})] \\\\\n",
        "&= \\mathbb E^{\\mathbb Q}[I(S_{0} \\exp (\\mu + \\sigma W_{1}) < S_{0} e^{-b})] \\\\\n",
        "&= \\mathbb Q(\\mu + \\sigma W_{1} < -b)  \\\\\n",
        "&= \\mathbb Q(W_1 < - \\frac{b + \\mu}{\\sigma} = -2) \\\\\n",
        "&= \\Phi(-2) \\\\\n",
        "\\end{aligned}\n",
        "\\end{equation}\n",
        "Where $W_{1}$ is standard normal distribution, and $\\Phi$ is the CDF. "
      ]
    },
    {
      "cell_type": "code",
      "metadata": {
        "id": "o30wZ1IfPHjD",
        "colab_type": "code",
        "colab": {}
      },
      "source": [
        "import numpy as np\n",
        "import scipy.stats as ss"
      ],
      "execution_count": 0,
      "outputs": []
    },
    {
      "cell_type": "code",
      "metadata": {
        "id": "1f6Zbn9qO5WZ",
        "colab_type": "code",
        "colab": {
          "base_uri": "https://localhost:8080/",
          "height": 34
        },
        "outputId": "abd524e7-95de-4bbb-b3e4-bbf5810b124a"
      },
      "source": [
        "v = ss.norm.cdf(-2)\n",
        "print(\"By python we can calculate the exact price is:\", v)"
      ],
      "execution_count": 3,
      "outputs": [
        {
          "output_type": "stream",
          "text": [
            "By python we can calculate the exact price is: 0.022750131948179195\n"
          ],
          "name": "stdout"
        }
      ]
    },
    {
      "cell_type": "markdown",
      "metadata": {
        "id": "eGTjAZbqP7m9",
        "colab_type": "text"
      },
      "source": [
        "## (2)\n",
        "By the video \n",
        "\\begin{equation}\n",
        "\\begin{aligned}\n",
        "v &= \\mathbb E^{\\mathbb Q}[h(S_{T})] \\\\\n",
        "&= \\mathbb E^{\\mathbb Q}[I(S_{0} \\exp (\\mu + \\sigma W_{1}) < S_{0} e^{-b})] \\\\\n",
        "&= \\mathbb Q(\\mu + \\sigma W_{1} < -b)  \\\\\n",
        "&= \\mathbb Q(W_1 < - \\frac{b + \\mu}{\\sigma} = -2) \\\\\n",
        "&= \\Phi(-2) \\\\\n",
        "&\\approx \\frac{1}{n} \\sum_{i=1}^n I(X_{i} < -2)\n",
        "\\end{aligned}\n",
        "\\end{equation}\n",
        "where $X_{i} \\sim \\varphi_{0}$"
      ]
    },
    {
      "cell_type": "code",
      "metadata": {
        "id": "rEW3987bPrkK",
        "colab_type": "code",
        "colab": {}
      },
      "source": [
        "def MCintegral(N):         \n",
        "  s = 0             #sum of samples\n",
        "  for i in range(N):\n",
        "    Y = np.random.normal(0,1)\n",
        "    if (Y<-2):\n",
        "      s += 1\n",
        "  return s/N"
      ],
      "execution_count": 0,
      "outputs": []
    },
    {
      "cell_type": "code",
      "metadata": {
        "id": "p0Mu0fNET95S",
        "colab_type": "code",
        "colab": {
          "base_uri": "https://localhost:8080/",
          "height": 34
        },
        "outputId": "9a3547d5-48b0-469c-d16d-7d0ebec32f8d"
      },
      "source": [
        "MCprice = MCintegral(100000)\n",
        "print(\"The price found by MC method is:\", MCprice)"
      ],
      "execution_count": 12,
      "outputs": [
        {
          "output_type": "stream",
          "text": [
            "The price found by MC method is: 0.02259\n"
          ],
          "name": "stdout"
        }
      ]
    },
    {
      "cell_type": "markdown",
      "metadata": {
        "id": "aa8cqLR9U44O",
        "colab_type": "text"
      },
      "source": [
        "## (3)\n",
        "By the video, we have\n",
        "\\begin{equation}\n",
        "\\begin{aligned}\n",
        "v &= \\mathbb E^{\\mathbb Q}[h(S_{T})] \\\\\n",
        "&= \\mathbb E^{\\mathbb Q}[I(S_{0} \\exp (\\mu + \\sigma W_{1}) < S_{0} e^{-b})] \\\\\n",
        "&= \\mathbb Q(\\mu + \\sigma W_{1} < -b)  \\\\\n",
        "&= \\mathbb Q(W_1 < - \\frac{b + \\mu}{\\sigma} = -2) \\\\\n",
        "&= \\Phi(-2) \\\\\n",
        "&= \\int_{-\\infty}^{-2} \\phi_{0}(x)dx  \\\\\n",
        "&= \\int_{-\\infty}^{-2} \\frac{\\phi_{0}(x)}{\\phi_{\\alpha}(x)} \\phi_{\\alpha}(x)dx \\\\\n",
        "&= \\int_{-\\infty}^{-2} e^{- \\frac{x^2}{2}}e^{\\frac{(x+\\alpha)^2}{2}} \\phi_{\\alpha}(x)dx  \\\\\n",
        "&= \\int_{-\\infty}^{-2} e^{\\frac{1}{2} \\alpha^2 + \\alpha x} \\phi_{\\alpha}(x)dx \\\\\n",
        "&= E[I(Y<-2)e^{\\frac{1}{2} \\alpha^2 + \\alpha x}| Y \\sim \\phi_{\\alpha}] \\\\\n",
        "& \\approx \\frac{1}{n} \\sum_{i=1}^{n} [I(Y_{i}<-2) e^{\\frac{1}{2} \\alpha^2 + \\alpha Y_{i}}]\n",
        "\\end{aligned}\n",
        "\\end{equation}\n",
        "where $\\phi_{\\alpha} \\sim N(-\\alpha , 1)$\n"
      ]
    },
    {
      "cell_type": "code",
      "metadata": {
        "id": "wI7t2qP5Uak8",
        "colab_type": "code",
        "colab": {}
      },
      "source": [
        "import math"
      ],
      "execution_count": 0,
      "outputs": []
    },
    {
      "cell_type": "code",
      "metadata": {
        "id": "Bch8vfV7chgB",
        "colab_type": "code",
        "colab": {}
      },
      "source": [
        "def ISintegral(N,alpha):\n",
        "  s = 0\n",
        "  for i in range(N):\n",
        "    Y = np.random.normal(-alpha,1)\n",
        "    if (Y<-2):\n",
        "      s += math.e ** ((1/2) * alpha ** 2 + alpha * Y)\n",
        "  return s/N"
      ],
      "execution_count": 0,
      "outputs": []
    },
    {
      "cell_type": "code",
      "metadata": {
        "id": "HOCGbOqzd-lp",
        "colab_type": "code",
        "colab": {
          "base_uri": "https://localhost:8080/",
          "height": 34
        },
        "outputId": "f4e9f3e0-fdce-47c4-beb0-42150f5c37b0"
      },
      "source": [
        "ISprice = ISintegral(100000,2)\n",
        "print(\"The price found by IS method is:\", ISprice)"
      ],
      "execution_count": 18,
      "outputs": [
        {
          "output_type": "stream",
          "text": [
            "The price found by IS method is: 0.022820251663231268\n"
          ],
          "name": "stdout"
        }
      ]
    },
    {
      "cell_type": "markdown",
      "metadata": {
        "id": "cwV2sygweVYI",
        "colab_type": "text"
      },
      "source": [
        "##(4)"
      ]
    },
    {
      "cell_type": "code",
      "metadata": {
        "id": "BHCrx4_beP0O",
        "colab_type": "code",
        "colab": {}
      },
      "source": [
        "def find_optimal(n,M):\n",
        "  E = []\n",
        "  mse = []\n",
        "  for alpha in range(n):\n",
        "    for i in range(M):\n",
        "      E.append(ISintegral(10000,alpha))\n",
        "    mse.append(np.var(E))\n",
        "  mse_min = min(mse)\n",
        "  alpha_optimal = mse.index(min(mse))\n",
        "  print(\"The optimal alpha is:\", alpha_optimal, \"The minimum MSE is:\", mse_min)\n",
        "\n",
        "\n"
      ],
      "execution_count": 0,
      "outputs": []
    },
    {
      "cell_type": "code",
      "metadata": {
        "id": "S-kDRtLZqAao",
        "colab_type": "code",
        "colab": {
          "base_uri": "https://localhost:8080/",
          "height": 34
        },
        "outputId": "bea194d7-fa9e-4497-cbf8-b9f6306b8ce4"
      },
      "source": [
        "find_optimal(10,100)"
      ],
      "execution_count": 28,
      "outputs": [
        {
          "output_type": "stream",
          "text": [
            "The optimal alpha is: 3 The minimum MSE is: 6.185637727342858e-07\n"
          ],
          "name": "stdout"
        }
      ]
    },
    {
      "cell_type": "code",
      "metadata": {
        "id": "Oe_y7r1LqHNH",
        "colab_type": "code",
        "colab": {}
      },
      "source": [
        ""
      ],
      "execution_count": 0,
      "outputs": []
    }
  ]
}