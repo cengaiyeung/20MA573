{
  "nbformat": 4,
  "nbformat_minor": 0,
  "metadata": {
    "colab": {
      "name": "Untitled11.ipynb",
      "provenance": [],
      "authorship_tag": "ABX9TyNJhLy1gb2XS7ypJgmg5SqX",
      "include_colab_link": true
    },
    "kernelspec": {
      "name": "python3",
      "display_name": "Python 3"
    }
  },
  "cells": [
    {
      "cell_type": "markdown",
      "metadata": {
        "id": "view-in-github",
        "colab_type": "text"
      },
      "source": [
        "<a href=\"https://colab.research.google.com/github/cengaiyeung/20MA573/blob/master/src/hw11_part1.ipynb\" target=\"_parent\"><img src=\"https://colab.research.google.com/assets/colab-badge.svg\" alt=\"Open In Colab\"/></a>"
      ]
    },
    {
      "cell_type": "markdown",
      "metadata": {
        "id": "VZeIwufPPTz7",
        "colab_type": "text"
      },
      "source": [
        "## **HW 11**\n",
        "Asset price under $\\mathbb Q$ follows\n",
        "$$S_{t} = S_{0} exp \\{ \\mu t + \\sigma W_{t} \\}$$\n",
        "Coonsider Digital put with payoff \n",
        "$$h(S_{T}) = I(S_{T} < S_{0}e^{-b})$$\n",
        "We want to find the forward price:\n",
        "$$v = \\mathbb E^{\\mathbb Q}[h(S_{T})]$$\n",
        "Parameters are given as \n",
        "$$r = .03, \\sigma = .2, \\mu = r - \\frac{1}{2} \\sigma^2 = .01, T = 1, b = .39$$\n",
        "- Prove that the exact price is 0.02275\n",
        "- Use $OMC$ find the price\n",
        "- Use $IS(\\alpha)$ find the price\n",
        "- Can you show your approach is optimal?\n",
        "- Prove or demonstrate $IS$ is more efficient to $OMC$"
      ]
    },
    {
      "cell_type": "code",
      "metadata": {
        "id": "o30wZ1IfPHjD",
        "colab_type": "code",
        "colab": {}
      },
      "source": [
        ""
      ],
      "execution_count": 0,
      "outputs": []
    }
  ]
}