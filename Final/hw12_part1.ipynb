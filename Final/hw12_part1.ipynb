{
  "nbformat": 4,
  "nbformat_minor": 0,
  "metadata": {
    "colab": {
      "name": "Untitled12.ipynb",
      "provenance": [],
      "authorship_tag": "ABX9TyM5qiWF09NmzakLz8GyroJw",
      "include_colab_link": true
    },
    "kernelspec": {
      "name": "python3",
      "display_name": "Python 3"
    }
  },
  "cells": [
    {
      "cell_type": "markdown",
      "metadata": {
        "id": "view-in-github",
        "colab_type": "text"
      },
      "source": [
        "<a href=\"https://colab.research.google.com/github/cengaiyeung/20MA573/blob/master/Final/hw12_part1.ipynb\" target=\"_parent\"><img src=\"https://colab.research.google.com/assets/colab-badge.svg\" alt=\"Open In Colab\"/></a>"
      ]
    },
    {
      "cell_type": "markdown",
      "metadata": {
        "id": "XrB9Raxz14wz",
        "colab_type": "text"
      },
      "source": [
        "## HW12\n",
        "\n",
        "Consider ODE\n",
        "\n",
        "$$- u^{''} + u = x, \\, \\forall x \\in (0, 1), u(0) = u(1) = 0.$$\n",
        "\n",
        "Answer the following questions:\n",
        "\n",
        "- Prove that \n",
        "$$u(x) = x - \\frac{\\exp(x - 1) - \\exp(- x - 1)}{1 - \\exp(-2)}$$\n",
        "is the unique solution.\n",
        "\n",
        "- Using the upwind finite difference scheme, find out the matrix $L^{h}$ and vector $R^{h}f$, such that the numerical solution satisfies $L^{h} u^{h} = R^{h} f$.\n",
        "\n",
        "- Convert $L^{h} u^{h} = R^{h} f$ to Markovian Reward Process.\n",
        "\n",
        "- Write a pseudocode for value iteration.\n",
        "\n",
        "- Write a pseudocode for first visit Monte-Carlo method.\n",
        "\n",
        "- Prove the consistency.\n",
        "\n",
        "- Prove the stability.\n",
        "\n",
        "- Find convergence rate."
      ]
    },
    {
      "cell_type": "markdown",
      "metadata": {
        "id": "nRU0UqzueTVv",
        "colab_type": "text"
      },
      "source": [
        "(1) Prove that \n",
        "$$u(x) = x - \\frac{\\exp(x - 1) - \\exp(- x - 1)}{1 - \\exp(-2)}$$\n",
        "is the unique solution.\n",
        "\n",
        "Proof:\n",
        "\n",
        "Firstly we consider the equation\n",
        "\n",
        "$$ - u^{''} + u = 0,$$\n",
        "\n",
        "the solution is $u(x) = c_{1} e^{x} + c_{2} e^{-x}$, where $c_{1}$ and $c_{2}$ are constants we need to calculate. Since $u(x) = x$ is a solution of the ODE $- u^{''} + u = x$, so we know that $u(x) = x + c_{1} e^{x} + c_{2} e^{-x}$. As $u(0) = u(1) = 0$, we have\n",
        "\n",
        "$$\n",
        "\\begin{cases}\n",
        "c_{1} + c_{2} = 0 \\\\\n",
        "1 + c_{1} e + c_{2} e^{-1}  = 0.\n",
        "\\end{cases}$$\n",
        "\n",
        "By calculation we can get $c_{1} = - \\frac{e^{-1}}{1 - e^{-2}}$ and $c_{2} = \\frac{e^{-1}}{1 - e^{-2}}$. Thus we know the solution of the above ODE is\n",
        "\n",
        "$$u(x) = x - \\frac{\\exp(x - 1) - \\exp(- x - 1)}{1 - \\exp(-2)}.$$"
      ]
    },
    {
      "cell_type": "markdown",
      "metadata": {
        "id": "Uyg0npOUeY_-",
        "colab_type": "text"
      },
      "source": [
        "(2) Using the upwind finite difference scheme, find out the matrix $L^{h}$ and vector $R^{h}f$, such that the numerical solution satisfies $L^{h} u^{h} = R^{h} f$.\n",
        "\n",
        "Solution:\n",
        "\n",
        "Applying the UFD scheme for the above ODE, for $i = 1, 2, \\dots, N-1$, we have\n",
        "\n",
        "$$- u_{i-1}^{h} \\frac{1}{h^{2}} + u_{i}^{h} (\\frac{2}{h^{2}} + 1) - u_{i+1}^{h} \\frac{1}{h^{2}} = \\hat{f_{i}}.$$\n",
        "\n",
        "Denote $r = \\frac{1}{h^{2}}$, $s = \\frac{2}{h^{2}} + 1$ and $t = \\frac{1}{h^{2}}$, we know that UFD solution $u^{h}$ solves\n",
        "\n",
        "$$\n",
        "\\begin{cases}\n",
        "u_{0}^{h} = 0 \\\\-r u_{i-1}^{h} + s u_{i}^{h} - t u_{i+1}^{h} = \\hat{f_{i}}, & i = 1, 2, \\dots, N-1 \\\\\n",
        "u_{N}^{h} = 0.\n",
        "\\end{cases}$$\n",
        "\n",
        "Let $h = \\frac{1}{N}$, UFD is to solve for $u^{h} \\in \\mathbb{R}^{N+1}$ from $L^{h} u^{h} = R^{h} \\hat{f}$, where\n",
        "\n",
        "$$ L^{h} = \n",
        " \\begin{bmatrix}\n",
        " 1  &  0  &  0  &  0  &  0  & 0  \\\\\n",
        " -r &  s  & -r  &  0  &  0  & 0  \\\\\n",
        " 0  & -r  & s   &  -r &  0  & 0  \\\\\n",
        " 0  &  0  & \\ddots  &  \\ddots  & \\ddots  & 0   \\\\\n",
        " 0  &  0  & 0   & -r  &  s  & -r  \\\\\n",
        " 0  &  0  & 0   &  0  &  0  &  1 \n",
        "\\end{bmatrix}\n",
        "$$\n",
        "\n",
        "is a $(N+1) \\times (N+1)$ matrix and \n",
        "\n",
        "$$R^{h} \\hat{f} =(0, \\frac{1}{N}, \\frac{2}{N}, \\dots, \\frac{N-1}{N}, 0 )^{\\text{T}}$$\n",
        "\n",
        "is a $(N+1) \\times 1$ vector."
      ]
    },
    {
      "cell_type": "markdown",
      "metadata": {
        "id": "HtAbGo7wedFn",
        "colab_type": "text"
      },
      "source": [
        "(3) Convert $L^{h} u^{h} = R^{h} f$ to Markovian Reward Process.\n",
        "\n",
        "Solution:\n",
        "\n",
        "Applying the UFD scheme for the above ODE, for $i = 1, 2, \\dots, N-1$, we have\n",
        "\n",
        "$$- u_{i-1}^{h} \\frac{1}{h^{2}} + u_{i}^{h} (\\frac{2}{h^{2}} + 1) - u_{i+1}^{h} \\frac{1}{h^{2}} = \\hat{f_{i}},$$\n",
        "\n",
        "where $\\hat{f_{i}} = x_{i}$, then we have\n",
        "\n",
        "$$ (\\frac{2}{h^{2}} + 1) u_{i}^{h} = \\frac{1}{h^{2}} ( u_{i-1}^{h} + u_{i+1}^{h}) + x_{i} .$$\n",
        "\n",
        "Divide $\\frac{2}{h^{2}} + 1$ on the both side, we have\n",
        "\n",
        "$$u_{i}^{h} = \\frac{2}{2+h^{2}} (\\frac{h^{2}}{2} x_{i} + \\frac{1}{2} u_{i-1}^{h} + \\frac{1}{2} u_{i+1}^{h}).$$\n",
        "\n",
        "Denote $\\gamma = \\frac{2}{2+h^{2}}$, $l^{h}(x) = \\frac{h^{2}}{2} x$ and $p^{h}(x+h|x) = p^{h}(x-h|x) = \\frac{1}{2}$, then we can get Markovian Reward Process as follows:\n",
        "\n",
        "$$u(x) = \\gamma \\{l^{h}(x) + p^{h}(x+h|x) u(x+h) + p^{h}(x-h|x)u(x-h) \\}$$"
      ]
    },
    {
      "cell_type": "markdown",
      "metadata": {
        "id": "PyFcypGregYO",
        "colab_type": "text"
      },
      "source": [
        "(6) Prove the consistency.\n",
        "\n",
        "Solution:\n",
        "\n",
        "We need to show that there exists $\\alpha > 0$ such that for any small $h$ we have\n",
        "\n",
        "$$\\|L^{h}R^{h}v - R^{h}Lv\\|_{\\infty} \\leq K h^{\\alpha}, \\forall v \\in C^{2}(0,1) \\cap C[0,1].$$\n",
        "\n",
        "If $i = 0$, then \n",
        "\n",
        "$$(L^{h}R^{h}v)_{i} = (R^{h}v)_{0} = v(x_{0}) = 0,$$\n",
        "\n",
        "while\n",
        "\n",
        "$$(R^{h}Lv)_{i} = Lv(x_{0}) = v(x_{0}) = 0. $$\n",
        "\n",
        "If $i = N$, then\n",
        "\n",
        "$$(L^{h}R^{h}v)_{i} = (R^{h}v)_{N} = v(x_{N}) = 0,$$\n",
        "\n",
        "while\n",
        "\n",
        "$$(R^{h}Lv)_{i} = Lv(x_{N}) = v(x_{N}) = 0.$$\n",
        "\n",
        "And if $1 \\leq i \\leq N-1$, then\n",
        "\n",
        "$$(L^{h}R^{h}v)_{i} = - \\delta_{h} \\delta_{-h} v(x_{i}) + v(x_{i}),$$\n",
        "\n",
        "while\n",
        "\n",
        "$$(R^{h}Lv)_{i} = - v^{''}(x_{i}) + v(x_{i}).$$\n",
        "\n",
        "Therefore, by the Taylor expasion, for any small $h$ we have\n",
        "\n",
        "$$\\|L^{h}R^{h}v - R^{h}Lv\\|_{\\infty} \\leq K h^{\\alpha}, \\forall v \\in C^{2}(0,1) \\cap C[0,1].$$\n"
      ]
    },
    {
      "cell_type": "markdown",
      "metadata": {
        "id": "xaJKDwA2ejxE",
        "colab_type": "text"
      },
      "source": [
        "(7) Prove the stability.\n",
        "\n",
        "Solution:\n",
        "\n",
        "We need to show that there exists a K such that\n",
        "\n",
        "$$\\|v\\|_{\\infty} \\leq K \\|L^{h}v\\|_{\\infty}, \\forall v \\in \\mathbb{R}^{N+1}.$$\n",
        "\n",
        "If $|v_{0}| = \\|v\\|_{\\infty}$, then\n",
        "\n",
        "$$\\|L^{h}v\\|_{\\infty} \\geq |(L^{h}v)_{0}| = |v_{0}| = \\|v\\|_{\\infty}.$$\n",
        "\n",
        "If $|v_{N}| = \\|v\\|_{\\infty}$, then\n",
        "\n",
        "$$\\|L^{h}v\\|_{\\infty} \\geq |(L^{h}v)_{N}| = |v_{N}| = \\|v\\|_{\\infty}.$$\n",
        "\n",
        "And if $|v_{i}| = \\|v\\|_{\\infty}$ for some $1 \\leq i \\leq N-1$, then\n",
        "\n",
        "\\begin{equation}\n",
        "\\begin{aligned}\n",
        "\\|L^{h}v\\|_{\\infty} &\\geq |(L^{h}v)_{i}| \\\\\n",
        "&= |-r v_{i-1} + s v_{i} - t v_{i+1}| \\\\\n",
        "&\\geq s |v_{i}| - r |v_{i-1}| - t |v_{i+1}| \\\\\n",
        "&\\geq (s - r - t) |v_{i}| \\\\\n",
        "&\\geq |v_{i}| = \\|v\\|_{\\infty} .\n",
        "\\end{aligned}\n",
        "\\end{equation}\n",
        "\n",
        "Hence we know that\n",
        "\n",
        "$$\\|v\\|_{\\infty} \\leq  \\|L^{h}v\\|_{\\infty}, \\forall v \\in \\mathbb{R}^{N+1}.$$"
      ]
    },
    {
      "cell_type": "markdown",
      "metadata": {
        "id": "8e7z-NA-elvP",
        "colab_type": "text"
      },
      "source": [
        "(8) Find convergence rate.\n",
        "\n",
        "Solution:\n",
        "\n",
        "Let $u^{h}$ be the numerical solution, we have\n",
        "\n",
        "\\begin{equation}\n",
        "\\begin{aligned}\n",
        "\\|u^{h} - R^{h}u\\|_{\\infty} &\\leq \\|L^{h}(u^{h} - R^{h}u)\\|_{\\infty} \\\\\n",
        "&= \\|L^{h}u^{h} - L^{h}R^{h}u\\|_{\\infty} \\\\\n",
        "&= \\|R^{h} \\hat{f} - L^{h}R^{h}u\\|_{\\infty} \\\\\n",
        "&= \\|R^{h} Lu - L^{h}R^{h}u\\|_{\\infty} \\\\\n",
        "&= O(h^{2}).\n",
        "\\end{aligned}\n",
        "\\end{equation}"
      ]
    },
    {
      "cell_type": "code",
      "metadata": {
        "id": "xuMk6MEO123L",
        "colab_type": "code",
        "colab": {}
      },
      "source": [
        ""
      ],
      "execution_count": 0,
      "outputs": []
    }
  ]
}