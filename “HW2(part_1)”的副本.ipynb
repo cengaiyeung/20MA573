{
  "nbformat": 4,
  "nbformat_minor": 0,
  "metadata": {
    "kernelspec": {
      "display_name": "Python 3",
      "language": "python",
      "name": "python3"
    },
    "language_info": {
      "codemirror_mode": {
        "name": "ipython",
        "version": 3
      },
      "file_extension": ".py",
      "mimetype": "text/x-python",
      "name": "python",
      "nbconvert_exporter": "python",
      "pygments_lexer": "ipython3",
      "version": "3.7.4"
    },
    "colab": {
      "name": "“HW2(part 1)”的副本",
      "provenance": [],
      "collapsed_sections": [],
      "include_colab_link": true
    }
  },
  "cells": [
    {
      "cell_type": "markdown",
      "metadata": {
        "id": "view-in-github",
        "colab_type": "text"
      },
      "source": [
        "<a href=\"https://colab.research.google.com/github/cengaiyeung/20MA573/blob/master/%E2%80%9CHW2(part_1)%E2%80%9D%E7%9A%84%E5%89%AF%E6%9C%AC.ipynb\" target=\"_parent\"><img src=\"https://colab.research.google.com/assets/colab-badge.svg\" alt=\"Open In Colab\"/></a>"
      ]
    },
    {
      "cell_type": "markdown",
      "metadata": {
        "id": "RXoHvSgAeaOP",
        "colab_type": "text"
      },
      "source": [
        "# Abstract\n",
        "- Goal:\n",
        "    - Learn the second order derivative approximation: second order central finite difference\n",
        "    - Understand convergence rate\n"
      ]
    },
    {
      "cell_type": "code",
      "metadata": {
        "id": "t0Cw1fNt7l26",
        "colab_type": "code",
        "colab": {}
      },
      "source": [
        ""
      ],
      "execution_count": 0,
      "outputs": []
    },
    {
      "cell_type": "markdown",
      "metadata": {
        "id": "Adf_YZoFeaOS",
        "colab_type": "text"
      },
      "source": [
        "# Problem \n",
        "\n",
        "Let $f(x) = \\sin x$. Plot $f''$ and $\\delta_{-h} \\delta_h f$ with $h = .5$"
      ]
    },
    {
      "cell_type": "markdown",
      "metadata": {
        "id": "XhJpQxkreaOU",
        "colab_type": "text"
      },
      "source": [
        "# Anal\n",
        "\n",
        "\n",
        "One of the commonly used FD for $f''$ is the following:\n",
        "$$f''(x) = \\frac{d}{dx} f'(x) \\simeq \\delta_h f'(x) \\simeq \\delta_h \\delta_{-h} f(x).$$\n",
        "If we write it explicitly, then\n",
        "$$f''(x) \\simeq \\frac{f(x+h) - 2 f(x) + f(x-h)}{h^2}.$$"
      ]
    },
    {
      "cell_type": "markdown",
      "metadata": {
        "id": "jn77xs4teaOW",
        "colab_type": "text"
      },
      "source": [
        "__Prop__\n",
        "\n",
        "The central finite difference for the second order has convergence order $2$.\n",
        "\n",
        "__Proof__ \n",
        "\n",
        "For the second order central finite different, we have\n",
        "\n",
        "$$\\delta_{h} \\delta_{-h} f(x) = \\frac{f(x+h) - 2 f(x) + f(x-h)}{h^2}.$$\n",
        "\n",
        "Recall the Taylor series expansion for $f(x + h)$ and $f(x-h)$ at $x$, when$f \\in C^{4} (\\mathbb{R})$ and $f^{(4)}(x) \\neq 0$, we have\n",
        "\n",
        "$$f(x+h) = f(x) + f'(x) h + \\frac{1}{2} f''(x) h^{2} + \\frac{1}{3!} f^{(3)}(x) h^{3} + O(h^{4}), $$\n",
        "\n",
        "and \n",
        "\n",
        "$$f(x-h) = f(x) - f'(x) h + \\frac{1}{2} f''(x) h^{2} - \\frac{1}{3!} f^{(3)}(x) h^{3} + O(h^{4}), $$\n",
        "\n",
        "such that\n",
        "\n",
        "$$f(x+h) + f(x-h) -2f(x)= f''(x) h^{2} +O(h^{2}).$$\n",
        "\n",
        "So by the definition of second order central finite different, we have\n",
        "\n",
        "$$\\delta_{h} \\delta_{-h} f(x) = f''(x) + O(h^{2}),$$\n",
        "\n",
        "and then\n",
        "\n",
        "$$|\\delta_{h} \\delta_{-h} f(x) - f''(x)| = O(h^{2}).$$\n",
        "\n",
        "By the definition of convergence order, we know that the central finite difference for the second order has convergence order $2$."
      ]
    },
    {
      "cell_type": "markdown",
      "metadata": {
        "id": "qAAedeCXuU3c",
        "colab_type": "text"
      },
      "source": [
        "**A Commen**\n",
        "\n",
        "Recall the general form of Taylor expansion, we have\n",
        "\n",
        "$$f(x+h) = \\sum_{k = 0}^{+ \\infty} \\frac{f^{(k)}(x)}{k!} h^{k},$$ \n",
        " and \n",
        "\n",
        "$$f(x-h) = \\sum_{k = 0}^{+ \\infty} \\frac{f^{(k)}(x)}{k!} (-h)^{k},$$\n",
        "\n",
        "such that\n",
        "\n",
        "$$f(x+h) + f(x-h) =  \\sum_{k = 0}^{+ \\infty} \\frac{f^{(k)}(x)}{k!} \\Big(h^{k} + (-h)^{k} \\Big) = 2 \\sum_{n = 0}^{+ \\infty} \\frac{f^{(2n)}(x)}{(2n)!} h^{2n}.$$\n",
        "\n",
        "Then we have\n",
        "\n",
        "$$\\delta_{h} \\delta_{-h} f(x) - f''(x) = 2 \\sum_{n = 2}^{+ \\infty} \\frac{f^{(2n)}(x)}{(2n)!} h^{2n-2}.$$\n",
        "\n",
        "When $f^{(4)}(x) \\neq 0$, we know that the central finite difference for the second order has convergence order 2. But when $f^{(4)} (x) = 0$ and there exists $m > 2$ and $f^{(2m)}(x) \\neq 0$, the convergence rate will be more higher. \n",
        "\n",
        "And consider a speical case $f(x) = sin(x)$, we know that\n",
        "\n",
        "$$f^{(n)} (x) = sin(\\frac{n \\pi}{2} + x).$$\n",
        "\n",
        "For $x = \\pi$ and $k \\in \\mathbb{N}$, we have\n",
        "\n",
        "$$f^{(2k)} (x) = sin(k \\pi + x) = 0,$$\n",
        "\n",
        "such that\n",
        "\n",
        "$$\\delta_{h} \\delta_{-h} f(x) - f''(x) = 0.$$\n"
      ]
    },
    {
      "cell_type": "markdown",
      "metadata": {
        "id": "QXGR1sY4eaOY",
        "colab_type": "text"
      },
      "source": [
        "# Code"
      ]
    },
    {
      "cell_type": "code",
      "metadata": {
        "id": "vHXHYz44eaOZ",
        "colab_type": "code",
        "colab": {}
      },
      "source": [
        "import numpy as np\n",
        "import matplotlib.pyplot as plt\n",
        "from pylab import plt\n",
        "plt.style.use('seaborn')\n",
        "%matplotlib inline"
      ],
      "execution_count": 0,
      "outputs": []
    },
    {
      "cell_type": "code",
      "metadata": {
        "id": "-fNSDFi6eaOd",
        "colab_type": "code",
        "colab": {}
      },
      "source": [
        "def sfd(f, x, h):\n",
        "    return (f(x+h) + f(x-h) - 2 * f(x)) / (h**2)\n"
      ],
      "execution_count": 0,
      "outputs": []
    },
    {
      "cell_type": "code",
      "metadata": {
        "id": "_HWpjeKteaOg",
        "colab_type": "code",
        "outputId": "19d25530-d9f4-41cd-c794-bb9947f14dd8",
        "colab": {
          "base_uri": "https://localhost:8080/",
          "height": 265
        }
      },
      "source": [
        "h = .5 #step size\n",
        "\n",
        "x_co = np.linspace(0, 2*np.pi, 100)\n",
        "plt.plot(x_co, - np.sin(x_co), label = '$-sin(x)$');\n",
        "plt.plot(x_co, sfd(np.sin, x_co, h), label = 'sfd');\n",
        "plt.legend();"
      ],
      "execution_count": 0,
      "outputs": [
        {
          "output_type": "display_data",
          "data": {
            "image/png": "[encoded data removed]",
            "text/plain": [
              "<Figure size 432x288 with 1 Axes>"
            ]
          },
          "metadata": {
            "tags": []
          }
        }
      ]
    },
    {
      "cell_type": "markdown",
      "metadata": {
        "id": "1nXIfTLmeaOj",
        "colab_type": "text"
      },
      "source": [
        "plot log-log chart for the demonstration of convergence rate, find convergence order using linear regression."
      ]
    },
    {
      "cell_type": "code",
      "metadata": {
        "id": "tS1P5z9DeaOj",
        "colab_type": "code",
        "outputId": "c484eab1-a23b-4cfd-d0d3-539d5f1d5533",
        "colab": {
          "base_uri": "https://localhost:8080/",
          "height": 282
        }
      },
      "source": [
        "x_target = np.pi/3   #target point to be examined\n",
        "y_target = -np.sin(x_target) #exact derivative value at the target point\n",
        "\n",
        "nn = np.arange(5, 11)\n",
        "hh = 1/np.power(2, nn)  #step sizes to be taken\n",
        "err = sfd(np.sin, x_target, hh) - y_target  #errors corresponding to each step size\n",
        "yy = np.log2(np.abs(err))\n",
        "plt.plot(nn, yy)\n"
      ],
      "execution_count": 0,
      "outputs": [
        {
          "output_type": "execute_result",
          "data": {
            "text/plain": [
              "[<matplotlib.lines.Line2D at 0x7f752ed63b70>]"
            ]
          },
          "metadata": {
            "tags": []
          },
          "execution_count": 4
        },
        {
          "output_type": "display_data",
          "data": {
            "image/png": "[encoded data removed]",
            "text/plain": [
              "<Figure size 432x288 with 1 Axes>"
            ]
          },
          "metadata": {
            "tags": []
          }
        }
      ]
    },
    {
      "cell_type": "code",
      "metadata": {
        "id": "EQJQcA4AeaOn",
        "colab_type": "code",
        "outputId": "68960ec0-efdb-4ba5-99ef-7c828d8ebba3",
        "colab": {
          "base_uri": "https://localhost:8080/",
          "height": 34
        }
      },
      "source": [
        "import scipy.stats as ss\n",
        "out = ss.linregress(nn,yy)\n",
        "print('the convergence order is ' + str(-out[0]))"
      ],
      "execution_count": 0,
      "outputs": [
        {
          "output_type": "stream",
          "text": [
            "the convergence order is 2.0005977409820144\n"
          ],
          "name": "stdout"
        }
      ]
    },
    {
      "cell_type": "markdown",
      "metadata": {
        "id": "DX1OEV4y3-Rb",
        "colab_type": "text"
      },
      "source": [
        "We can change the point $x$ from $x = \\pi/3$ to $x = \\pi$, then we can see that:"
      ]
    },
    {
      "cell_type": "code",
      "metadata": {
        "id": "UYJlLLws4NTl",
        "colab_type": "code",
        "outputId": "ddba4429-17bf-423d-d230-e0de356cd8bd",
        "colab": {
          "base_uri": "https://localhost:8080/",
          "height": 282
        }
      },
      "source": [
        "x_target = np.pi   #target point to be examined\n",
        "y_target = -np.sin(x_target) #exact derivative value at the target point\n",
        "\n",
        "nn = np.arange(5, 11)\n",
        "hh = 1/np.power(2, nn)  #step sizes to be taken\n",
        "err = sfd(np.sin, x_target, hh) - y_target  #errors corresponding to each step size\n",
        "yy = np.log2(np.abs(err))\n",
        "plt.plot(nn, yy)\n"
      ],
      "execution_count": 0,
      "outputs": [
        {
          "output_type": "execute_result",
          "data": {
            "text/plain": [
              "[<matplotlib.lines.Line2D at 0x7f752560fac8>]"
            ]
          },
          "metadata": {
            "tags": []
          },
          "execution_count": 6
        },
        {
          "output_type": "display_data",
          "data": {
            "image/png": "[encoded data removed]",
            "text/plain": [
              "<Figure size 432x288 with 1 Axes>"
            ]
          },
          "metadata": {
            "tags": []
          }
        }
      ]
    },
    {
      "cell_type": "code",
      "metadata": {
        "id": "JPR3eC-K4RDk",
        "colab_type": "code",
        "outputId": "a345c951-0cc7-4d27-b264-e09f7a7af96b",
        "colab": {
          "base_uri": "https://localhost:8080/",
          "height": 34
        }
      },
      "source": [
        "import scipy.stats as ss\n",
        "out = ss.linregress(nn,yy)\n",
        "print('the convergence order is ' + str(-out[0]))"
      ],
      "execution_count": 0,
      "outputs": [
        {
          "output_type": "stream",
          "text": [
            "the convergence order is -0.5694234610294954\n"
          ],
          "name": "stdout"
        }
      ]
    },
    {
      "cell_type": "markdown",
      "metadata": {
        "id": "WBvaWt3s4WNW",
        "colab_type": "text"
      },
      "source": [
        "The convergence order is a negative number, it is unreasonable. Such that in this phenomenon, we can use this method to measure the speed of convergence. One interpretation is when n is big enough, the bias between the estimator and target value is very small. In this condition the accuracy may not be improved. "
      ]
    },
    {
      "cell_type": "code",
      "metadata": {
        "id": "HrNhQSW65FJL",
        "colab_type": "code",
        "colab": {}
      },
      "source": [
        ""
      ],
      "execution_count": 0,
      "outputs": []
    }
  ]
}